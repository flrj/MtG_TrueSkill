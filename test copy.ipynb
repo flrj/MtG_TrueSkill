{
 "cells": [
  {
   "cell_type": "code",
   "execution_count": 1,
   "id": "7f0166a5",
   "metadata": {},
   "outputs": [],
   "source": [
    "from trueskill import Rating, rate\n",
    "import pandas as pd\n",
    "import plotly.graph_objects as go\n",
    "import plotly.express as px"
   ]
  },
  {
   "cell_type": "code",
   "execution_count": 2,
   "id": "41e4f741",
   "metadata": {},
   "outputs": [],
   "source": [
    "def print_commanders(commanders):\n",
    "    ratings = [rating.mu for rating in commanders.values()]\n",
    "    rankings = sorted(range(len(ratings)), key=lambda i: ratings[i], reverse=True)\n",
    "    for rank in rankings:\n",
    "        print(f\"{rank + 1}. {list(commanders.keys())[rank]} - {list(commanders.values())[rank]}\")"
   ]
  },
  {
   "cell_type": "code",
   "execution_count": null,
   "id": "f6528f7e",
   "metadata": {},
   "outputs": [],
   "source": [
    "matches = [\n",
    "    # 2025-06-29\n",
    "    [\n",
    "        \"Julian\", # Julian\n",
    "        \"Simon\", # Simon\n",
    "        \"Sebastian\" # Sebastian\n",
    "    ],\n",
    "    [\n",
    "        \"Simon\", # Simon\n",
    "        \"Sebastian\", # Sebastian\n",
    "        \"Julian\" # Julian\n",
    "    ],\n",
    "    [\n",
    "        \"Sebastian\", # Sebastian\n",
    "        \"Simon\", # Simon\n",
    "        \"Julian\" # Julian\n",
    "    ],\n",
    "    [\n",
    "        \"Simon\", # Simon\n",
    "        \"Sebastian\", # Sebastian\n",
    "        \"Julian\" # Julian\n",
    "    ],\n",
    "    # 2025-07-02\n",
    "    [\n",
    "        \"Julian\", # Julian\n",
    "        \"Sebastian\", # Sebastian\n",
    "        \"Simon\" # Simon\n",
    "    ],\n",
    "    [\n",
    "        \"Simon\", # Simon\n",
    "        \"Sebastian\", # Sebastian\n",
    "        \"Julian\" # Julian\n",
    "    ]\n",
    "]"
   ]
  },
  {
   "cell_type": "code",
   "execution_count": 4,
   "id": "d0f1ab84",
   "metadata": {},
   "outputs": [],
   "source": [
    "commanders = list(set([commander for match in matches for commander in match]))\n",
    "commanders = {commander: Rating() for commander in commanders}"
   ]
  },
  {
   "cell_type": "code",
   "execution_count": 5,
   "id": "53a6ac74",
   "metadata": {},
   "outputs": [
    {
     "name": "stdout",
     "output_type": "stream",
     "text": [
      "1. Sebastian - trueskill.Rating(mu=25.000, sigma=8.333)\n",
      "2. Simon - trueskill.Rating(mu=25.000, sigma=8.333)\n",
      "3. Julian - trueskill.Rating(mu=25.000, sigma=8.333)\n"
     ]
    }
   ],
   "source": [
    "print_commanders(commanders)"
   ]
  },
  {
   "cell_type": "code",
   "execution_count": 6,
   "id": "f4b21cc3",
   "metadata": {},
   "outputs": [
    {
     "name": "stdout",
     "output_type": "stream",
     "text": [
      "\n",
      "Match 1 :\n",
      "Ratings before match:\n",
      "1. Julian - trueskill.Rating(mu=25.000, sigma=8.333)\n",
      "2. Simon - trueskill.Rating(mu=25.000, sigma=8.333)\n",
      "3. Sebastian - trueskill.Rating(mu=25.000, sigma=8.333)\n",
      "\n",
      "Winner: Julian\n",
      "Losers: Simon; Sebastian\n",
      "\n",
      "Ratings after match:\n",
      "1. Julian - trueskill.Rating(mu=30.109, sigma=6.735)\n",
      "3. Sebastian - trueskill.Rating(mu=22.448, sigma=5.974)\n",
      "2. Simon - trueskill.Rating(mu=22.443, sigma=5.972)\n",
      "\n",
      "Match 2 :\n",
      "Ratings before match:\n",
      "3. Julian - trueskill.Rating(mu=30.109, sigma=6.735)\n",
      "2. Sebastian - trueskill.Rating(mu=22.448, sigma=5.974)\n",
      "1. Simon - trueskill.Rating(mu=22.443, sigma=5.972)\n",
      "\n",
      "Winner: Simon\n",
      "Losers: Sebastian; Julian\n",
      "\n",
      "Ratings after match:\n",
      "1. Simon - trueskill.Rating(mu=26.856, sigma=4.937)\n",
      "3. Julian - trueskill.Rating(mu=24.544, sigma=4.878)\n",
      "2. Sebastian - trueskill.Rating(mu=22.410, sigma=4.624)\n",
      "\n",
      "Match 3 :\n",
      "Ratings before match:\n",
      "2. Simon - trueskill.Rating(mu=26.856, sigma=4.937)\n",
      "3. Julian - trueskill.Rating(mu=24.544, sigma=4.878)\n",
      "1. Sebastian - trueskill.Rating(mu=22.410, sigma=4.624)\n",
      "\n",
      "Winner: Sebastian\n",
      "Losers: Simon; Julian\n",
      "\n",
      "Ratings after match:\n",
      "1. Sebastian - trueskill.Rating(mu=25.617, sigma=3.967)\n",
      "2. Simon - trueskill.Rating(mu=24.358, sigma=3.925)\n",
      "3. Julian - trueskill.Rating(mu=23.413, sigma=3.901)\n",
      "\n",
      "Match 4 :\n",
      "Ratings before match:\n",
      "2. Sebastian - trueskill.Rating(mu=25.617, sigma=3.967)\n",
      "1. Simon - trueskill.Rating(mu=24.358, sigma=3.925)\n",
      "3. Julian - trueskill.Rating(mu=23.413, sigma=3.901)\n",
      "\n",
      "Winner: Simon\n",
      "Losers: Sebastian; Julian\n",
      "\n",
      "Ratings after match:\n",
      "1. Simon - trueskill.Rating(mu=26.293, sigma=3.495)\n",
      "2. Sebastian - trueskill.Rating(mu=24.108, sigma=3.340)\n",
      "3. Julian - trueskill.Rating(mu=22.962, sigma=3.304)\n",
      "\n",
      "Match 5 :\n",
      "Ratings before match:\n",
      "3. Simon - trueskill.Rating(mu=26.293, sigma=3.495)\n",
      "2. Sebastian - trueskill.Rating(mu=24.108, sigma=3.340)\n",
      "1. Julian - trueskill.Rating(mu=22.962, sigma=3.304)\n",
      "\n",
      "Winner: Julian\n",
      "Losers: Sebastian; Simon\n",
      "\n",
      "Ratings after match:\n",
      "3. Simon - trueskill.Rating(mu=24.824, sigma=3.009)\n",
      "1. Julian - trueskill.Rating(mu=24.808, sigma=2.985)\n",
      "2. Sebastian - trueskill.Rating(mu=23.563, sigma=2.911)\n",
      "\n",
      "Match 6 :\n",
      "Ratings before match:\n",
      "1. Simon - trueskill.Rating(mu=24.824, sigma=3.009)\n",
      "3. Julian - trueskill.Rating(mu=24.808, sigma=2.985)\n",
      "2. Sebastian - trueskill.Rating(mu=23.563, sigma=2.911)\n",
      "\n",
      "Winner: Simon\n",
      "Losers: Sebastian; Julian\n",
      "\n",
      "Ratings after match:\n",
      "1. Simon - trueskill.Rating(mu=25.989, sigma=2.781)\n",
      "3. Julian - trueskill.Rating(mu=24.030, sigma=2.661)\n",
      "2. Sebastian - trueskill.Rating(mu=23.214, sigma=2.609)\n"
     ]
    },
    {
     "name": "stderr",
     "output_type": "stream",
     "text": [
      "/var/folders/cs/tjcwkq_55mb7_g2dhb5yh4980000gn/T/ipykernel_25379/3508643506.py:36: FutureWarning: The behavior of DataFrame concatenation with empty or all-NA entries is deprecated. In a future version, this will no longer exclude empty or all-NA columns when determining the result dtypes. To retain the old behavior, exclude the relevant entries before the concat operation.\n",
      "  vis_df = pd.concat([vis_df, current_match, previous_matches], ignore_index=True)\n"
     ]
    }
   ],
   "source": [
    "vis_df = pd.DataFrame(columns=[\"Match\", \"Commander\", \"TrueSkill Rating\", \"TrueSkill StDev\"])\n",
    "\n",
    "for i, match in enumerate(matches):\n",
    "    print(\"\\nMatch\", i + 1,\":\")\n",
    "    \n",
    "    print(\"Ratings before match:\")\n",
    "    print_commanders({commander: commanders[commander] for commander in match})\n",
    "\n",
    "    print(\"\\nWinner:\", match[0])\n",
    "    print(\"Losers:\", end=\" \")\n",
    "    for losers in match[1:(len(match)-1)]:\n",
    "        print(losers, end=\"; \")\n",
    "    print(match[-1])\n",
    "    \n",
    "    teams = [{commander: commanders[commander]} for commander in match]\n",
    "    ranks = [0] + [1] * (len(match) - 1)\n",
    "    result = rate(teams, ranks=ranks)\n",
    "    \n",
    "    for team in result:\n",
    "        for commander in team:\n",
    "            commanders[commander] = team[commander]\n",
    "\n",
    "    print(\"\\nRatings after match:\")\n",
    "    print_commanders({commander: commanders[commander] for commander in match})\n",
    "\n",
    "    current_match = pd.DataFrame({\n",
    "        \"Match\": i + 1,\n",
    "        \"Commander\": match,\n",
    "        \"TrueSkill Rating\": [commanders[commander].mu for commander in match],\n",
    "        \"TrueSkill StDev\": [commanders[commander].sigma for commander in match]\n",
    "    })\n",
    "\n",
    "    previous_matches = vis_df[(vis_df[\"Match\"] == i) & (~vis_df[\"Commander\"].isin(match))]\n",
    "    previous_matches[\"Match\"] = i + 1\n",
    "\n",
    "    vis_df = pd.concat([vis_df, current_match, previous_matches], ignore_index=True)"
   ]
  },
  {
   "cell_type": "code",
   "execution_count": 7,
   "id": "b2b6fc59",
   "metadata": {},
   "outputs": [],
   "source": [
    "# display(vis_df)"
   ]
  },
  {
   "cell_type": "code",
   "execution_count": 8,
   "id": "22049565",
   "metadata": {},
   "outputs": [],
   "source": [
    "def generate_color_palette(n, alpha=1.0):\n",
    "    return [\n",
    "        f\"hsla({h}, 70%, 50%, {alpha})\"\n",
    "        for h in range(0, 360, int(360 / n))\n",
    "    ]"
   ]
  },
  {
   "cell_type": "code",
   "execution_count": 9,
   "id": "99fa2f7e",
   "metadata": {},
   "outputs": [
    {
     "data": {
      "application/vnd.plotly.v1+json": {
       "config": {
        "plotlyServerURL": "https://plot.ly"
       },
       "data": [
        {
         "hoverinfo": "x+y+name",
         "legendgroup": "Julian",
         "line": {
          "color": "hsla(0, 70%, 50%, 1.0)",
          "width": 2
         },
         "mode": "lines",
         "name": "Julian",
         "type": "scatter",
         "x": {
          "bdata": "AQIDBAUG",
          "dtype": "i1"
         },
         "y": {
          "bdata": "6VqfAfsbPkANh21/NIs4QASsBSe8aTdA3CfUSWX2NkBrcNgOx844QAbU5KGSBzhA",
          "dtype": "f8"
         }
        },
        {
         "fill": "toself",
         "fillcolor": "hsla(0, 70%, 50%, 0.1)",
         "hoverinfo": "skip",
         "legendgroup": "Julian",
         "line": {
          "color": "rgba(255,255,255,0)"
         },
         "showlegend": false,
         "type": "scatter",
         "x": {
          "bdata": "AQIDBAUGBgUEAwIB",
          "dtype": "i1"
         },
         "y": {
          "bdata": "BZF2BBpsQkD3+qGi9Ws9QMSYsNBfUDtALMOuXT9EOkDblDLC5Mo7QN0oHszUsDpAL3+rd1BeNUD7S35bqdI1QIyM+TWLqDNARL9afRiDM0AjEzlcc6ozQMeTUfrBXzdA",
          "dtype": "f8"
         }
        },
        {
         "hoverinfo": "x+y+name",
         "legendgroup": "Sebastian",
         "line": {
          "color": "hsla(120, 70%, 50%, 1.0)",
          "width": 2
         },
         "mode": "lines",
         "name": "Sebastian",
         "type": "scatter",
         "x": {
          "bdata": "AQIDBAUG",
          "dtype": "i1"
         },
         "y": {
          "bdata": "qUGJurJyNkABEW9z/Wg2QPZFdxgOnjlAU8K6NpsbOECD9f+DO5A3QGUf/Xi+NjdA",
          "dtype": "f8"
         }
        },
        {
         "fill": "toself",
         "fillcolor": "hsla(120, 70%, 50%, 0.1)",
         "hoverinfo": "skip",
         "legendgroup": "Sebastian",
         "line": {
          "color": "rgba(255,255,255,0)"
         },
         "showlegend": false,
         "type": "scatter",
         "x": {
          "bdata": "AQIDBAUGBgUEAwIB",
          "dtype": "i1"
         },
         "y": {
          "bdata": "LKEQShNsPEAeFmRBqgg7QIftfvCflT1AWep4xqByO0Cadngkink6QNAlpMC90jlA+hhWMb+aNEBsdIfj7KY0QE2a/KaVxDRAZZ5vQHymNUDkC3qlUMkxQCbiAStSeTBA",
          "dtype": "f8"
         }
        },
        {
         "hoverinfo": "x+y+name",
         "legendgroup": "Simon",
         "line": {
          "color": "hsla(240, 70%, 50%, 1.0)",
          "width": 2
         },
         "mode": "lines",
         "name": "Simon",
         "type": "scatter",
         "x": {
          "bdata": "AQIDBAUG",
          "dtype": "i1"
         },
         "y": {
          "bdata": "amPXQ1JxNkDfzO3LOts6QB9DGFTDWzhAQWenWOZKOkARvUjFCtM4QNMNQe4W/TlA",
          "dtype": "f8"
         }
        },
        {
         "fill": "toself",
         "fillcolor": "hsla(240, 70%, 50%, 0.1)",
         "hoverinfo": "skip",
         "legendgroup": "Simon",
         "line": {
          "color": "rgba(255,255,255,0)"
         },
         "showlegend": false,
         "type": "scatter",
         "x": {
          "bdata": "AQIDBAUGBgUEAwIB",
          "dtype": "i1"
         },
         "y": {
          "bdata": "DDBWuydqPEAMLqt9CMs/QJ9qSpyiSDxAcRKQjpLJPUCsT27dXtU7QJ55tWznxDxACKLMb0Y1N0B2KiOtttA1QBG8viI6zDZAnxvmC+RuNECyazAabes1QMiWWMx8eDBA",
          "dtype": "f8"
         }
        }
       ],
       "layout": {
        "hovermode": "x unified",
        "legend": {
         "title": {
          "text": "Commander"
         }
        },
        "template": {
         "data": {
          "bar": [
           {
            "error_x": {
             "color": "#2a3f5f"
            },
            "error_y": {
             "color": "#2a3f5f"
            },
            "marker": {
             "line": {
              "color": "white",
              "width": 0.5
             },
             "pattern": {
              "fillmode": "overlay",
              "size": 10,
              "solidity": 0.2
             }
            },
            "type": "bar"
           }
          ],
          "barpolar": [
           {
            "marker": {
             "line": {
              "color": "white",
              "width": 0.5
             },
             "pattern": {
              "fillmode": "overlay",
              "size": 10,
              "solidity": 0.2
             }
            },
            "type": "barpolar"
           }
          ],
          "carpet": [
           {
            "aaxis": {
             "endlinecolor": "#2a3f5f",
             "gridcolor": "#C8D4E3",
             "linecolor": "#C8D4E3",
             "minorgridcolor": "#C8D4E3",
             "startlinecolor": "#2a3f5f"
            },
            "baxis": {
             "endlinecolor": "#2a3f5f",
             "gridcolor": "#C8D4E3",
             "linecolor": "#C8D4E3",
             "minorgridcolor": "#C8D4E3",
             "startlinecolor": "#2a3f5f"
            },
            "type": "carpet"
           }
          ],
          "choropleth": [
           {
            "colorbar": {
             "outlinewidth": 0,
             "ticks": ""
            },
            "type": "choropleth"
           }
          ],
          "contour": [
           {
            "colorbar": {
             "outlinewidth": 0,
             "ticks": ""
            },
            "colorscale": [
             [
              0,
              "#0d0887"
             ],
             [
              0.1111111111111111,
              "#46039f"
             ],
             [
              0.2222222222222222,
              "#7201a8"
             ],
             [
              0.3333333333333333,
              "#9c179e"
             ],
             [
              0.4444444444444444,
              "#bd3786"
             ],
             [
              0.5555555555555556,
              "#d8576b"
             ],
             [
              0.6666666666666666,
              "#ed7953"
             ],
             [
              0.7777777777777778,
              "#fb9f3a"
             ],
             [
              0.8888888888888888,
              "#fdca26"
             ],
             [
              1,
              "#f0f921"
             ]
            ],
            "type": "contour"
           }
          ],
          "contourcarpet": [
           {
            "colorbar": {
             "outlinewidth": 0,
             "ticks": ""
            },
            "type": "contourcarpet"
           }
          ],
          "heatmap": [
           {
            "colorbar": {
             "outlinewidth": 0,
             "ticks": ""
            },
            "colorscale": [
             [
              0,
              "#0d0887"
             ],
             [
              0.1111111111111111,
              "#46039f"
             ],
             [
              0.2222222222222222,
              "#7201a8"
             ],
             [
              0.3333333333333333,
              "#9c179e"
             ],
             [
              0.4444444444444444,
              "#bd3786"
             ],
             [
              0.5555555555555556,
              "#d8576b"
             ],
             [
              0.6666666666666666,
              "#ed7953"
             ],
             [
              0.7777777777777778,
              "#fb9f3a"
             ],
             [
              0.8888888888888888,
              "#fdca26"
             ],
             [
              1,
              "#f0f921"
             ]
            ],
            "type": "heatmap"
           }
          ],
          "histogram": [
           {
            "marker": {
             "pattern": {
              "fillmode": "overlay",
              "size": 10,
              "solidity": 0.2
             }
            },
            "type": "histogram"
           }
          ],
          "histogram2d": [
           {
            "colorbar": {
             "outlinewidth": 0,
             "ticks": ""
            },
            "colorscale": [
             [
              0,
              "#0d0887"
             ],
             [
              0.1111111111111111,
              "#46039f"
             ],
             [
              0.2222222222222222,
              "#7201a8"
             ],
             [
              0.3333333333333333,
              "#9c179e"
             ],
             [
              0.4444444444444444,
              "#bd3786"
             ],
             [
              0.5555555555555556,
              "#d8576b"
             ],
             [
              0.6666666666666666,
              "#ed7953"
             ],
             [
              0.7777777777777778,
              "#fb9f3a"
             ],
             [
              0.8888888888888888,
              "#fdca26"
             ],
             [
              1,
              "#f0f921"
             ]
            ],
            "type": "histogram2d"
           }
          ],
          "histogram2dcontour": [
           {
            "colorbar": {
             "outlinewidth": 0,
             "ticks": ""
            },
            "colorscale": [
             [
              0,
              "#0d0887"
             ],
             [
              0.1111111111111111,
              "#46039f"
             ],
             [
              0.2222222222222222,
              "#7201a8"
             ],
             [
              0.3333333333333333,
              "#9c179e"
             ],
             [
              0.4444444444444444,
              "#bd3786"
             ],
             [
              0.5555555555555556,
              "#d8576b"
             ],
             [
              0.6666666666666666,
              "#ed7953"
             ],
             [
              0.7777777777777778,
              "#fb9f3a"
             ],
             [
              0.8888888888888888,
              "#fdca26"
             ],
             [
              1,
              "#f0f921"
             ]
            ],
            "type": "histogram2dcontour"
           }
          ],
          "mesh3d": [
           {
            "colorbar": {
             "outlinewidth": 0,
             "ticks": ""
            },
            "type": "mesh3d"
           }
          ],
          "parcoords": [
           {
            "line": {
             "colorbar": {
              "outlinewidth": 0,
              "ticks": ""
             }
            },
            "type": "parcoords"
           }
          ],
          "pie": [
           {
            "automargin": true,
            "type": "pie"
           }
          ],
          "scatter": [
           {
            "fillpattern": {
             "fillmode": "overlay",
             "size": 10,
             "solidity": 0.2
            },
            "type": "scatter"
           }
          ],
          "scatter3d": [
           {
            "line": {
             "colorbar": {
              "outlinewidth": 0,
              "ticks": ""
             }
            },
            "marker": {
             "colorbar": {
              "outlinewidth": 0,
              "ticks": ""
             }
            },
            "type": "scatter3d"
           }
          ],
          "scattercarpet": [
           {
            "marker": {
             "colorbar": {
              "outlinewidth": 0,
              "ticks": ""
             }
            },
            "type": "scattercarpet"
           }
          ],
          "scattergeo": [
           {
            "marker": {
             "colorbar": {
              "outlinewidth": 0,
              "ticks": ""
             }
            },
            "type": "scattergeo"
           }
          ],
          "scattergl": [
           {
            "marker": {
             "colorbar": {
              "outlinewidth": 0,
              "ticks": ""
             }
            },
            "type": "scattergl"
           }
          ],
          "scattermap": [
           {
            "marker": {
             "colorbar": {
              "outlinewidth": 0,
              "ticks": ""
             }
            },
            "type": "scattermap"
           }
          ],
          "scattermapbox": [
           {
            "marker": {
             "colorbar": {
              "outlinewidth": 0,
              "ticks": ""
             }
            },
            "type": "scattermapbox"
           }
          ],
          "scatterpolar": [
           {
            "marker": {
             "colorbar": {
              "outlinewidth": 0,
              "ticks": ""
             }
            },
            "type": "scatterpolar"
           }
          ],
          "scatterpolargl": [
           {
            "marker": {
             "colorbar": {
              "outlinewidth": 0,
              "ticks": ""
             }
            },
            "type": "scatterpolargl"
           }
          ],
          "scatterternary": [
           {
            "marker": {
             "colorbar": {
              "outlinewidth": 0,
              "ticks": ""
             }
            },
            "type": "scatterternary"
           }
          ],
          "surface": [
           {
            "colorbar": {
             "outlinewidth": 0,
             "ticks": ""
            },
            "colorscale": [
             [
              0,
              "#0d0887"
             ],
             [
              0.1111111111111111,
              "#46039f"
             ],
             [
              0.2222222222222222,
              "#7201a8"
             ],
             [
              0.3333333333333333,
              "#9c179e"
             ],
             [
              0.4444444444444444,
              "#bd3786"
             ],
             [
              0.5555555555555556,
              "#d8576b"
             ],
             [
              0.6666666666666666,
              "#ed7953"
             ],
             [
              0.7777777777777778,
              "#fb9f3a"
             ],
             [
              0.8888888888888888,
              "#fdca26"
             ],
             [
              1,
              "#f0f921"
             ]
            ],
            "type": "surface"
           }
          ],
          "table": [
           {
            "cells": {
             "fill": {
              "color": "#EBF0F8"
             },
             "line": {
              "color": "white"
             }
            },
            "header": {
             "fill": {
              "color": "#C8D4E3"
             },
             "line": {
              "color": "white"
             }
            },
            "type": "table"
           }
          ]
         },
         "layout": {
          "annotationdefaults": {
           "arrowcolor": "#2a3f5f",
           "arrowhead": 0,
           "arrowwidth": 1
          },
          "autotypenumbers": "strict",
          "coloraxis": {
           "colorbar": {
            "outlinewidth": 0,
            "ticks": ""
           }
          },
          "colorscale": {
           "diverging": [
            [
             0,
             "#8e0152"
            ],
            [
             0.1,
             "#c51b7d"
            ],
            [
             0.2,
             "#de77ae"
            ],
            [
             0.3,
             "#f1b6da"
            ],
            [
             0.4,
             "#fde0ef"
            ],
            [
             0.5,
             "#f7f7f7"
            ],
            [
             0.6,
             "#e6f5d0"
            ],
            [
             0.7,
             "#b8e186"
            ],
            [
             0.8,
             "#7fbc41"
            ],
            [
             0.9,
             "#4d9221"
            ],
            [
             1,
             "#276419"
            ]
           ],
           "sequential": [
            [
             0,
             "#0d0887"
            ],
            [
             0.1111111111111111,
             "#46039f"
            ],
            [
             0.2222222222222222,
             "#7201a8"
            ],
            [
             0.3333333333333333,
             "#9c179e"
            ],
            [
             0.4444444444444444,
             "#bd3786"
            ],
            [
             0.5555555555555556,
             "#d8576b"
            ],
            [
             0.6666666666666666,
             "#ed7953"
            ],
            [
             0.7777777777777778,
             "#fb9f3a"
            ],
            [
             0.8888888888888888,
             "#fdca26"
            ],
            [
             1,
             "#f0f921"
            ]
           ],
           "sequentialminus": [
            [
             0,
             "#0d0887"
            ],
            [
             0.1111111111111111,
             "#46039f"
            ],
            [
             0.2222222222222222,
             "#7201a8"
            ],
            [
             0.3333333333333333,
             "#9c179e"
            ],
            [
             0.4444444444444444,
             "#bd3786"
            ],
            [
             0.5555555555555556,
             "#d8576b"
            ],
            [
             0.6666666666666666,
             "#ed7953"
            ],
            [
             0.7777777777777778,
             "#fb9f3a"
            ],
            [
             0.8888888888888888,
             "#fdca26"
            ],
            [
             1,
             "#f0f921"
            ]
           ]
          },
          "colorway": [
           "#636efa",
           "#EF553B",
           "#00cc96",
           "#ab63fa",
           "#FFA15A",
           "#19d3f3",
           "#FF6692",
           "#B6E880",
           "#FF97FF",
           "#FECB52"
          ],
          "font": {
           "color": "#2a3f5f"
          },
          "geo": {
           "bgcolor": "white",
           "lakecolor": "white",
           "landcolor": "white",
           "showlakes": true,
           "showland": true,
           "subunitcolor": "#C8D4E3"
          },
          "hoverlabel": {
           "align": "left"
          },
          "hovermode": "closest",
          "mapbox": {
           "style": "light"
          },
          "paper_bgcolor": "white",
          "plot_bgcolor": "white",
          "polar": {
           "angularaxis": {
            "gridcolor": "#EBF0F8",
            "linecolor": "#EBF0F8",
            "ticks": ""
           },
           "bgcolor": "white",
           "radialaxis": {
            "gridcolor": "#EBF0F8",
            "linecolor": "#EBF0F8",
            "ticks": ""
           }
          },
          "scene": {
           "xaxis": {
            "backgroundcolor": "white",
            "gridcolor": "#DFE8F3",
            "gridwidth": 2,
            "linecolor": "#EBF0F8",
            "showbackground": true,
            "ticks": "",
            "zerolinecolor": "#EBF0F8"
           },
           "yaxis": {
            "backgroundcolor": "white",
            "gridcolor": "#DFE8F3",
            "gridwidth": 2,
            "linecolor": "#EBF0F8",
            "showbackground": true,
            "ticks": "",
            "zerolinecolor": "#EBF0F8"
           },
           "zaxis": {
            "backgroundcolor": "white",
            "gridcolor": "#DFE8F3",
            "gridwidth": 2,
            "linecolor": "#EBF0F8",
            "showbackground": true,
            "ticks": "",
            "zerolinecolor": "#EBF0F8"
           }
          },
          "shapedefaults": {
           "line": {
            "color": "#2a3f5f"
           }
          },
          "ternary": {
           "aaxis": {
            "gridcolor": "#DFE8F3",
            "linecolor": "#A2B1C6",
            "ticks": ""
           },
           "baxis": {
            "gridcolor": "#DFE8F3",
            "linecolor": "#A2B1C6",
            "ticks": ""
           },
           "bgcolor": "white",
           "caxis": {
            "gridcolor": "#DFE8F3",
            "linecolor": "#A2B1C6",
            "ticks": ""
           }
          },
          "title": {
           "x": 0.05
          },
          "xaxis": {
           "automargin": true,
           "gridcolor": "#EBF0F8",
           "linecolor": "#EBF0F8",
           "ticks": "",
           "title": {
            "standoff": 15
           },
           "zerolinecolor": "#EBF0F8",
           "zerolinewidth": 2
          },
          "yaxis": {
           "automargin": true,
           "gridcolor": "#EBF0F8",
           "linecolor": "#EBF0F8",
           "ticks": "",
           "title": {
            "standoff": 15
           },
           "zerolinecolor": "#EBF0F8",
           "zerolinewidth": 2
          }
         }
        },
        "title": {
         "text": "Commander TrueSkill Ratings with Confidence Bands"
        },
        "xaxis": {
         "title": {
          "text": "Match"
         }
        },
        "yaxis": {
         "title": {
          "text": "TrueSkill Rating"
         }
        }
       }
      }
     },
     "metadata": {},
     "output_type": "display_data"
    }
   ],
   "source": [
    "vis_df['Match'] = vis_df['Match'].astype(int)\n",
    "vis_df = vis_df.sort_values(['Commander', 'Match'])\n",
    "\n",
    "fig = go.Figure()\n",
    "\n",
    "commanders = vis_df['Commander'].unique()\n",
    "base_colors = generate_color_palette(len(commanders), alpha=1.0)\n",
    "band_colors = generate_color_palette(len(commanders), alpha=0.1)\n",
    "\n",
    "# Get distinct colors for each commander using Plotly's qualitative color palette\n",
    "color_map_line = dict(zip(commanders, base_colors))\n",
    "color_map_band = dict(zip(commanders, band_colors))\n",
    "\n",
    "for commander in commanders:\n",
    "    data = vis_df[vis_df['Commander'] == commander].copy()\n",
    "    data = data.sort_values('Match')\n",
    "\n",
    "    color_line = color_map_line[commander]\n",
    "    color_band = color_map_band[commander]\n",
    "    # color_rgba = color.replace('rgb', 'rgba').replace(')', ', 0.15)')  # Transparent fill\n",
    "\n",
    "    upper = data['TrueSkill Rating'] + data['TrueSkill StDev']\n",
    "    lower = data['TrueSkill Rating'] - data['TrueSkill StDev']\n",
    "\n",
    "    # Line trace\n",
    "    fig.add_trace(go.Scatter(\n",
    "        x=data['Match'], y=data['TrueSkill Rating'],\n",
    "        mode='lines',\n",
    "        name=commander,\n",
    "        legendgroup=commander,\n",
    "        line=dict(width=2, color=color_line),\n",
    "        hoverinfo='x+y+name'\n",
    "    ))\n",
    "\n",
    "    # Confidence band\n",
    "    fig.add_trace(go.Scatter(\n",
    "        x=pd.concat([data['Match'], data['Match'][::-1]]),\n",
    "        y=pd.concat([upper, lower[::-1]]),\n",
    "        fill='toself',\n",
    "        fillcolor=color_band,\n",
    "        line=dict(color='rgba(255,255,255,0)'),\n",
    "        hoverinfo='skip',\n",
    "        showlegend=False,\n",
    "        legendgroup=commander\n",
    "    ))\n",
    "\n",
    "fig.update_layout(\n",
    "    title='Commander TrueSkill Ratings with Confidence Bands',\n",
    "    xaxis_title='Match',\n",
    "    yaxis_title='TrueSkill Rating',\n",
    "    template='plotly_white',\n",
    "    legend_title='Commander',\n",
    "    hovermode='x unified'\n",
    ")\n",
    "\n",
    "fig.show()"
   ]
  },
  {
   "cell_type": "code",
   "execution_count": null,
   "id": "7d922cc1",
   "metadata": {},
   "outputs": [],
   "source": []
  }
 ],
 "metadata": {
  "kernelspec": {
   "display_name": "venv",
   "language": "python",
   "name": "python3"
  },
  "language_info": {
   "codemirror_mode": {
    "name": "ipython",
    "version": 3
   },
   "file_extension": ".py",
   "mimetype": "text/x-python",
   "name": "python",
   "nbconvert_exporter": "python",
   "pygments_lexer": "ipython3",
   "version": "3.13.0"
  }
 },
 "nbformat": 4,
 "nbformat_minor": 5
}

{
 "cells": [
  {
   "cell_type": "code",
   "execution_count": 53,
   "id": "7f0166a5",
   "metadata": {},
   "outputs": [],
   "source": [
    "from trueskill import Rating, rate\n",
    "import pandas as pd\n",
    "import plotly.graph_objects as go\n",
    "import plotly.express as px\n",
    "import json"
   ]
  },
  {
   "cell_type": "code",
   "execution_count": 54,
   "id": "41e4f741",
   "metadata": {},
   "outputs": [],
   "source": [
    "def print_commanders(commanders, skill_estimate_k = 3):\n",
    "    commanders = {k: {\"rating\": v, \"skill estimate\": skill_estimate(v, k = skill_estimate_k)} for k, v in commanders.items()}\n",
    "    ratings = [v[\"skill estimate\"] for v in commanders.values()]\n",
    "    rankings = sorted(range(len(ratings)), key=lambda i: ratings[i], reverse=True)\n",
    "    for i, rank in enumerate(rankings):\n",
    "        print(f\"{i + 1}. {list(commanders.keys())[rank]} - {list(commanders.values())[rank]}\")"
   ]
  },
  {
   "cell_type": "code",
   "execution_count": 55,
   "id": "b96ca348",
   "metadata": {},
   "outputs": [],
   "source": [
    "def skill_estimate(rating, k = 3):\n",
    "    \"\"\"\n",
    "    Calculate the conservative skill estimate for a given rating.\n",
    "    This is the mu value minus k times the sigma value.\n",
    "    \"\"\"\n",
    "    return float(rating.mu) - k * float(rating.sigma)"
   ]
  },
  {
   "cell_type": "code",
   "execution_count": 56,
   "id": "44e0f67a",
   "metadata": {},
   "outputs": [],
   "source": [
    "with open(\"results.json\") as results_file:\n",
    "    results = json.load(results_file)"
   ]
  },
  {
   "cell_type": "code",
   "execution_count": 57,
   "id": "e3607593",
   "metadata": {},
   "outputs": [
    {
     "name": "stdout",
     "output_type": "stream",
     "text": [
      "{\"Atraxa, Praetors' Voice\", 'Neera, Wild Mage', 'Astarion, the Decadent', 'Gandalf, Westward Voyager', 'Aminatou, Veil Piercer', 'Kianne, Corrupted Memory', 'Bria, Riptide Rogue', 'Ulalek, Fused Atrocity', 'Dionus, Elvish Archdruid', \"Y'shtola, Night's Blessed\", 'Hazel of the Rootbloom', 'Vnwxt, Verbose Host', 'Zedruu the Greathearted', 'Valgavoth, Harrower of Souls', 'Clavileño, First of the Blessed', 'Satya, Aetherflux Genius', 'Davros, Dalek Creator', 'Edgar Markov', 'Umbris, Fear Manifest', 'Omo, Queen of Vesuva', 'Tom Bobadil', 'Saruman, the White Hand', 'Maha, Its Feathers Night', 'Lord Windgrace', 'Rakdos, Lord of Riots', \"Temmet, Naktamun's Will\", 'Lathril, Blade of the Elves', 'Cloud, Ex-SOLDIER', \"Eshki, Temur's Roar\", 'Rona, Herald of Invasion // Rona, Tolarian Obliterator', 'Frodo, Adventurous Hobbit // Sam, Loyal Attendant', 'Nekusar, the Mindrazer', \"Otharri, Suns' Glory\", 'Krenko, Mob Boss', 'The Jolly Balloon Man', 'Ojer Axonil, Deepest Might'}\n",
      "{'Bettina', 'Julian', 'Sebastian', 'Alexander', 'Manuel', 'Simon'}\n"
     ]
    }
   ],
   "source": [
    "commanders = set()\n",
    "players = set()\n",
    "\n",
    "for match in results:\n",
    "    commanders.update([winner[\"commander\"] for winner in match[\"winners\"]])\n",
    "    commanders.update([loser[\"commander\"] for loser in match[\"losers\"]])\n",
    "    players.update([winner[\"player\"] for winner in match[\"winners\"]])\n",
    "    players.update([loser[\"player\"] for loser in match[\"losers\"]])\n",
    "\n",
    "print(commanders)\n",
    "print(players)\n",
    "\n",
    "\n",
    "commanders = {commander: Rating() for commander in commanders}\n",
    "players = {player: Rating() for player in players}"
   ]
  },
  {
   "cell_type": "code",
   "execution_count": 58,
   "id": "fc6ebb0b",
   "metadata": {},
   "outputs": [],
   "source": [
    "# commanders = players"
   ]
  },
  {
   "cell_type": "code",
   "execution_count": 59,
   "id": "53a6ac74",
   "metadata": {},
   "outputs": [
    {
     "name": "stdout",
     "output_type": "stream",
     "text": [
      "1. Atraxa, Praetors' Voice - {'rating': trueskill.Rating(mu=25.000, sigma=8.333), 'skill estimate': 0.0}\n",
      "2. Neera, Wild Mage - {'rating': trueskill.Rating(mu=25.000, sigma=8.333), 'skill estimate': 0.0}\n",
      "3. Astarion, the Decadent - {'rating': trueskill.Rating(mu=25.000, sigma=8.333), 'skill estimate': 0.0}\n",
      "4. Gandalf, Westward Voyager - {'rating': trueskill.Rating(mu=25.000, sigma=8.333), 'skill estimate': 0.0}\n",
      "5. Aminatou, Veil Piercer - {'rating': trueskill.Rating(mu=25.000, sigma=8.333), 'skill estimate': 0.0}\n",
      "6. Kianne, Corrupted Memory - {'rating': trueskill.Rating(mu=25.000, sigma=8.333), 'skill estimate': 0.0}\n",
      "7. Bria, Riptide Rogue - {'rating': trueskill.Rating(mu=25.000, sigma=8.333), 'skill estimate': 0.0}\n",
      "8. Ulalek, Fused Atrocity - {'rating': trueskill.Rating(mu=25.000, sigma=8.333), 'skill estimate': 0.0}\n",
      "9. Dionus, Elvish Archdruid - {'rating': trueskill.Rating(mu=25.000, sigma=8.333), 'skill estimate': 0.0}\n",
      "10. Y'shtola, Night's Blessed - {'rating': trueskill.Rating(mu=25.000, sigma=8.333), 'skill estimate': 0.0}\n",
      "11. Hazel of the Rootbloom - {'rating': trueskill.Rating(mu=25.000, sigma=8.333), 'skill estimate': 0.0}\n",
      "12. Vnwxt, Verbose Host - {'rating': trueskill.Rating(mu=25.000, sigma=8.333), 'skill estimate': 0.0}\n",
      "13. Zedruu the Greathearted - {'rating': trueskill.Rating(mu=25.000, sigma=8.333), 'skill estimate': 0.0}\n",
      "14. Valgavoth, Harrower of Souls - {'rating': trueskill.Rating(mu=25.000, sigma=8.333), 'skill estimate': 0.0}\n",
      "15. Clavileño, First of the Blessed - {'rating': trueskill.Rating(mu=25.000, sigma=8.333), 'skill estimate': 0.0}\n",
      "16. Satya, Aetherflux Genius - {'rating': trueskill.Rating(mu=25.000, sigma=8.333), 'skill estimate': 0.0}\n",
      "17. Davros, Dalek Creator - {'rating': trueskill.Rating(mu=25.000, sigma=8.333), 'skill estimate': 0.0}\n",
      "18. Edgar Markov - {'rating': trueskill.Rating(mu=25.000, sigma=8.333), 'skill estimate': 0.0}\n",
      "19. Umbris, Fear Manifest - {'rating': trueskill.Rating(mu=25.000, sigma=8.333), 'skill estimate': 0.0}\n",
      "20. Omo, Queen of Vesuva - {'rating': trueskill.Rating(mu=25.000, sigma=8.333), 'skill estimate': 0.0}\n",
      "21. Tom Bobadil - {'rating': trueskill.Rating(mu=25.000, sigma=8.333), 'skill estimate': 0.0}\n",
      "22. Saruman, the White Hand - {'rating': trueskill.Rating(mu=25.000, sigma=8.333), 'skill estimate': 0.0}\n",
      "23. Maha, Its Feathers Night - {'rating': trueskill.Rating(mu=25.000, sigma=8.333), 'skill estimate': 0.0}\n",
      "24. Lord Windgrace - {'rating': trueskill.Rating(mu=25.000, sigma=8.333), 'skill estimate': 0.0}\n",
      "25. Rakdos, Lord of Riots - {'rating': trueskill.Rating(mu=25.000, sigma=8.333), 'skill estimate': 0.0}\n",
      "26. Temmet, Naktamun's Will - {'rating': trueskill.Rating(mu=25.000, sigma=8.333), 'skill estimate': 0.0}\n",
      "27. Lathril, Blade of the Elves - {'rating': trueskill.Rating(mu=25.000, sigma=8.333), 'skill estimate': 0.0}\n",
      "28. Cloud, Ex-SOLDIER - {'rating': trueskill.Rating(mu=25.000, sigma=8.333), 'skill estimate': 0.0}\n",
      "29. Eshki, Temur's Roar - {'rating': trueskill.Rating(mu=25.000, sigma=8.333), 'skill estimate': 0.0}\n",
      "30. Rona, Herald of Invasion // Rona, Tolarian Obliterator - {'rating': trueskill.Rating(mu=25.000, sigma=8.333), 'skill estimate': 0.0}\n",
      "31. Frodo, Adventurous Hobbit // Sam, Loyal Attendant - {'rating': trueskill.Rating(mu=25.000, sigma=8.333), 'skill estimate': 0.0}\n",
      "32. Nekusar, the Mindrazer - {'rating': trueskill.Rating(mu=25.000, sigma=8.333), 'skill estimate': 0.0}\n",
      "33. Otharri, Suns' Glory - {'rating': trueskill.Rating(mu=25.000, sigma=8.333), 'skill estimate': 0.0}\n",
      "34. Krenko, Mob Boss - {'rating': trueskill.Rating(mu=25.000, sigma=8.333), 'skill estimate': 0.0}\n",
      "35. The Jolly Balloon Man - {'rating': trueskill.Rating(mu=25.000, sigma=8.333), 'skill estimate': 0.0}\n",
      "36. Ojer Axonil, Deepest Might - {'rating': trueskill.Rating(mu=25.000, sigma=8.333), 'skill estimate': 0.0}\n"
     ]
    }
   ],
   "source": [
    "print_commanders(commanders)"
   ]
  },
  {
   "cell_type": "code",
   "execution_count": 60,
   "id": "674179a3",
   "metadata": {},
   "outputs": [],
   "source": [
    "# commanders = players"
   ]
  },
  {
   "cell_type": "code",
   "execution_count": 61,
   "id": "f4b21cc3",
   "metadata": {},
   "outputs": [],
   "source": [
    "commanders_vis = pd.DataFrame(columns=[\"Match\", \"Commander\", \"TrueSkill Rating\", \"TrueSkill StDev\"])\n",
    "\n",
    "for i, match in enumerate(results):\n",
    "    # print(\"\\nMatch \", i + 1, \" on \", match[\"date\"], \":\", sep=\"\")\n",
    "    commander_winners = [winner[\"commander\"] for winner in match[\"winners\"]]\n",
    "    commander_losers = [loser[\"commander\"] for loser in match[\"losers\"]]\n",
    "    # commander_winners = [winner[\"player\"] for winner in match[\"winners\"]]\n",
    "    # commander_losers = [loser[\"player\"] for loser in match[\"losers\"]]\n",
    "    commanders_in_match = commander_winners + commander_losers\n",
    "    \n",
    "    # print(\"Ratings before match:\")\n",
    "    # print_commanders({commander: commanders[commander] for commander in commanders_in_match})\n",
    "\n",
    "    # print(\"\\nWinners:\", end=\" \")\n",
    "    # for winner in commander_winners[:(len(commander_winners)-1)]:\n",
    "    #     print(winner, end=\"; \")\n",
    "    # print(commander_winners[-1])\n",
    "    # print(\"Losers:\", end=\" \")\n",
    "    # for loser in commander_losers[:(len(commander_losers)-1)]:\n",
    "    #     print(loser, end=\"; \")\n",
    "    # print(commander_losers[-1])\n",
    "    \n",
    "    teams = [{commander: commanders[commander]} for commander in commander_winners] + \\\n",
    "             [{commander: commanders[commander]} for commander in commander_losers]\n",
    "    ranks = [0] * len(commander_winners) + [1] * len(commander_losers)\n",
    "    result = rate(teams, ranks=ranks)\n",
    "\n",
    "    for team in result:\n",
    "        for commander in team:\n",
    "            commanders[commander] = team[commander]\n",
    "\n",
    "    # print(\"\\nRatings after match:\")\n",
    "    # print_commanders({commander: commanders[commander] for commander in commanders_in_match})\n",
    "\n",
    "    current_match = pd.DataFrame({\n",
    "        \"Match\": i + 1,\n",
    "        \"Commander\": commanders_in_match,\n",
    "        \"TrueSkill Rating\": [commanders[commander].mu for commander in commanders_in_match],\n",
    "        \"TrueSkill StDev\": [commanders[commander].sigma for commander in commanders_in_match]\n",
    "    })\n",
    "\n",
    "    if commanders_vis.empty:\n",
    "        commanders_vis = current_match\n",
    "    else:\n",
    "        previous_matches = commanders_vis[(commanders_vis[\"Match\"] == i) & (~commanders_vis[\"Commander\"].isin(commanders_in_match))]\n",
    "        previous_matches.loc[:,\"Match\"] = i + 1\n",
    "\n",
    "        commanders_vis = pd.concat([commanders_vis, current_match, previous_matches], ignore_index=True)"
   ]
  },
  {
   "cell_type": "code",
   "execution_count": 62,
   "id": "453b6625",
   "metadata": {},
   "outputs": [
    {
     "name": "stdout",
     "output_type": "stream",
     "text": [
      "1. Lord Windgrace - {'rating': trueskill.Rating(mu=32.064, sigma=5.942), 'skill estimate': 14.236644655978836}\n",
      "2. Vnwxt, Verbose Host - {'rating': trueskill.Rating(mu=23.802, sigma=3.206), 'skill estimate': 14.18514346813419}\n",
      "3. Valgavoth, Harrower of Souls - {'rating': trueskill.Rating(mu=26.925, sigma=4.522), 'skill estimate': 13.358179375747474}\n",
      "4. Saruman, the White Hand - {'rating': trueskill.Rating(mu=31.614, sigma=6.431), 'skill estimate': 12.320638257397857}\n",
      "5. Ojer Axonil, Deepest Might - {'rating': trueskill.Rating(mu=26.656, sigma=4.904), 'skill estimate': 11.94444153356054}\n",
      "6. Y'shtola, Night's Blessed - {'rating': trueskill.Rating(mu=30.547, sigma=6.312), 'skill estimate': 11.610664287788854}\n",
      "7. Bria, Riptide Rogue - {'rating': trueskill.Rating(mu=25.374, sigma=4.632), 'skill estimate': 11.4771499201016}\n",
      "8. Kianne, Corrupted Memory - {'rating': trueskill.Rating(mu=26.730, sigma=5.120), 'skill estimate': 11.369271470120268}\n",
      "9. Nekusar, the Mindrazer - {'rating': trueskill.Rating(mu=24.474, sigma=4.393), 'skill estimate': 11.29468710622712}\n",
      "10. The Jolly Balloon Man - {'rating': trueskill.Rating(mu=21.743, sigma=3.492), 'skill estimate': 11.267907669638578}\n",
      "11. Umbris, Fear Manifest - {'rating': trueskill.Rating(mu=25.576, sigma=4.791), 'skill estimate': 11.201329560567084}\n",
      "12. Dionus, Elvish Archdruid - {'rating': trueskill.Rating(mu=25.353, sigma=4.743), 'skill estimate': 11.122304198680839}\n",
      "13. Krenko, Mob Boss - {'rating': trueskill.Rating(mu=26.158, sigma=5.138), 'skill estimate': 10.745548989011155}\n",
      "14. Otharri, Suns' Glory - {'rating': trueskill.Rating(mu=29.926, sigma=6.444), 'skill estimate': 10.593338795081493}\n",
      "15. Rakdos, Lord of Riots - {'rating': trueskill.Rating(mu=24.302, sigma=4.696), 'skill estimate': 10.21267559065021}\n",
      "16. Gandalf, Westward Voyager - {'rating': trueskill.Rating(mu=30.109, sigma=6.735), 'skill estimate': 9.903563243807653}\n",
      "17. Omo, Queen of Vesuva - {'rating': trueskill.Rating(mu=30.109, sigma=6.735), 'skill estimate': 9.903563243807653}\n",
      "18. Rona, Herald of Invasion // Rona, Tolarian Obliterator - {'rating': trueskill.Rating(mu=23.520, sigma=4.908), 'skill estimate': 8.796516577358126}\n",
      "19. Neera, Wild Mage - {'rating': trueskill.Rating(mu=23.512, sigma=4.913), 'skill estimate': 8.77319901667194}\n",
      "20. Maha, Its Feathers Night - {'rating': trueskill.Rating(mu=21.294, sigma=4.307), 'skill estimate': 8.374664325787984}\n",
      "21. Eshki, Temur's Roar - {'rating': trueskill.Rating(mu=25.051, sigma=5.643), 'skill estimate': 8.123623851069237}\n",
      "22. Cloud, Ex-SOLDIER - {'rating': trueskill.Rating(mu=22.442, sigma=4.969), 'skill estimate': 7.535376013016457}\n",
      "23. Satya, Aetherflux Genius - {'rating': trueskill.Rating(mu=22.447, sigma=4.976), 'skill estimate': 7.519193600565822}\n",
      "24. Lathril, Blade of the Elves - {'rating': trueskill.Rating(mu=21.687, sigma=5.035), 'skill estimate': 6.581478752666193}\n",
      "25. Davros, Dalek Creator - {'rating': trueskill.Rating(mu=21.676, sigma=5.037), 'skill estimate': 6.565765757416489}\n",
      "26. Astarion, the Decadent - {'rating': trueskill.Rating(mu=22.057, sigma=5.245), 'skill estimate': 6.321533818642495}\n",
      "27. Ulalek, Fused Atrocity - {'rating': trueskill.Rating(mu=22.064, sigma=5.251), 'skill estimate': 6.310686528488773}\n",
      "28. Edgar Markov - {'rating': trueskill.Rating(mu=22.045, sigma=5.245), 'skill estimate': 6.3098944502265155}\n",
      "29. Aminatou, Veil Piercer - {'rating': trueskill.Rating(mu=22.443, sigma=5.972), 'skill estimate': 4.526639780725894}\n",
      "30. Clavileño, First of the Blessed - {'rating': trueskill.Rating(mu=22.443, sigma=5.972), 'skill estimate': 4.526639780725894}\n",
      "31. Atraxa, Praetors' Voice - {'rating': trueskill.Rating(mu=22.448, sigma=5.974), 'skill estimate': 4.525650736674944}\n",
      "32. Temmet, Naktamun's Will - {'rating': trueskill.Rating(mu=22.448, sigma=5.974), 'skill estimate': 4.525650736674944}\n",
      "33. Frodo, Adventurous Hobbit // Sam, Loyal Attendant - {'rating': trueskill.Rating(mu=22.448, sigma=5.974), 'skill estimate': 4.525650736674944}\n",
      "34. Tom Bobadil - {'rating': trueskill.Rating(mu=21.033, sigma=5.593), 'skill estimate': 4.254855281296557}\n",
      "35. Hazel of the Rootbloom - {'rating': trueskill.Rating(mu=21.041, sigma=5.596), 'skill estimate': 4.25146215937756}\n",
      "36. Zedruu the Greathearted - {'rating': trueskill.Rating(mu=21.379, sigma=5.735), 'skill estimate': 4.174030673680072}\n"
     ]
    }
   ],
   "source": [
    "print_commanders(commanders)"
   ]
  },
  {
   "cell_type": "code",
   "execution_count": 63,
   "id": "22049565",
   "metadata": {},
   "outputs": [],
   "source": [
    "def generate_color_palette(n, alpha=1.0):\n",
    "    return [\n",
    "        f\"hsla({h}, 70%, 50%, {alpha})\"\n",
    "        for h in range(0, 360, int(360 / n))\n",
    "    ]"
   ]
  },
  {
   "cell_type": "code",
   "execution_count": 64,
   "id": "bf6bf877",
   "metadata": {},
   "outputs": [],
   "source": [
    "default_selection = [\"Lord Windgrace\", \"Atraxa, Praetors' Voice\", \"Nekusar, the Mindrazer\"]"
   ]
  },
  {
   "cell_type": "code",
   "execution_count": 65,
   "id": "99fa2f7e",
   "metadata": {},
   "outputs": [
    {
     "data": {
      "application/vnd.plotly.v1+json": {
       "config": {
        "plotlyServerURL": "https://plot.ly"
       },
       "data": [
        {
         "hoverinfo": "x+y+name",
         "legendgroup": "Aminatou, Veil Piercer",
         "line": {
          "color": "hsla(0, 70%, 50%, 1.0)",
          "width": 2
         },
         "mode": "lines",
         "name": "Aminatou, Veil Piercer",
         "type": "scatter",
         "visible": "legendonly",
         "x": {
          "bdata": "BQYHCAkKCwwNDg8QEQ==",
          "dtype": "i1"
         },
         "y": {
          "bdata": "amPXQ1JxNkBqY9dDUnE2QGpj10NScTZAamPXQ1JxNkBqY9dDUnE2QGpj10NScTZAamPXQ1JxNkBqY9dDUnE2QGpj10NScTZAamPXQ1JxNkBqY9dDUnE2QGpj10NScTZAamPXQ1JxNkA=",
          "dtype": "f8"
         }
        },
        {
         "fill": "toself",
         "fillcolor": "hsla(0, 70%, 50%, 0.1)",
         "hoverinfo": "skip",
         "legendgroup": "Aminatou, Veil Piercer",
         "line": {
          "color": "rgba(255,255,255,0)"
         },
         "showlegend": false,
         "type": "scatter",
         "visible": "legendonly",
         "x": {
          "bdata": "BQYHCAkKCwwNDg8QEREQDw4NDAsKCQgHBgU=",
          "dtype": "i1"
         },
         "y": {
          "bdata": "DDBWuydqPEAMMFa7J2o8QAwwVrsnajxADDBWuydqPEAMMFa7J2o8QAwwVrsnajxADDBWuydqPEAMMFa7J2o8QAwwVrsnajxADDBWuydqPEAMMFa7J2o8QAwwVrsnajxADDBWuydqPEDIlljMfHgwQMiWWMx8eDBAyJZYzHx4MEDIlljMfHgwQMiWWMx8eDBAyJZYzHx4MEDIlljMfHgwQMiWWMx8eDBAyJZYzHx4MEDIlljMfHgwQMiWWMx8eDBAyJZYzHx4MEDIlljMfHgwQA==",
          "dtype": "f8"
         }
        },
        {
         "hoverinfo": "x+y+name",
         "legendgroup": "Astarion, the Decadent",
         "line": {
          "color": "hsla(10, 70%, 50%, 1.0)",
          "width": 2
         },
         "mode": "lines",
         "name": "Astarion, the Decadent",
         "type": "scatter",
         "visible": "legendonly",
         "x": {
          "bdata": "DxAR",
          "dtype": "i1"
         },
         "y": {
          "bdata": "YU1+vbYONkBhTX69tg42QGFNfr22DjZA",
          "dtype": "f8"
         }
        },
        {
         "fill": "toself",
         "fillcolor": "hsla(10, 70%, 50%, 0.1)",
         "hoverinfo": "skip",
         "legendgroup": "Astarion, the Decadent",
         "line": {
          "color": "rgba(255,255,255,0)"
         },
         "showlegend": false,
         "type": "scatter",
         "visible": "legendonly",
         "x": {
          "bdata": "DxARERAP",
          "dtype": "i1"
         },
         "y": {
          "bdata": "Stzho4NNO0BK3OGjg007QErc4aODTTtAeL4a1+nPMEB4vhrX6c8wQHi+GtfpzzBA",
          "dtype": "f8"
         }
        },
        {
         "hoverinfo": "x+y+name",
         "legendgroup": "Atraxa, Praetors' Voice",
         "line": {
          "color": "hsla(20, 70%, 50%, 1.0)",
          "width": 2
         },
         "mode": "lines",
         "name": "Atraxa, Praetors' Voice",
         "type": "scatter",
         "visible": true,
         "x": {
          "bdata": "AQIDBAUGBwgJCgsMDQ4PEBE=",
          "dtype": "i1"
         },
         "y": {
          "bdata": "qUGJurJyNkCpQYm6snI2QKlBibqycjZAqUGJurJyNkCpQYm6snI2QKlBibqycjZAqUGJurJyNkCpQYm6snI2QKlBibqycjZAqUGJurJyNkCpQYm6snI2QKlBibqycjZAqUGJurJyNkCpQYm6snI2QKlBibqycjZAqUGJurJyNkCpQYm6snI2QA==",
          "dtype": "f8"
         }
        },
        {
         "fill": "toself",
         "fillcolor": "hsla(20, 70%, 50%, 0.1)",
         "hoverinfo": "skip",
         "legendgroup": "Atraxa, Praetors' Voice",
         "line": {
          "color": "rgba(255,255,255,0)"
         },
         "showlegend": false,
         "type": "scatter",
         "visible": true,
         "x": {
          "bdata": "AQIDBAUGBwgJCgsMDQ4PEBEREA8ODQwLCgkIBwYFBAMCAQ==",
          "dtype": "i1"
         },
         "y": {
          "bdata": "LKEQShNsPEAsoRBKE2w8QCyhEEoTbDxALKEQShNsPEAsoRBKE2w8QCyhEEoTbDxALKEQShNsPEAsoRBKE2w8QCyhEEoTbDxALKEQShNsPEAsoRBKE2w8QCyhEEoTbDxALKEQShNsPEAsoRBKE2w8QCyhEEoTbDxALKEQShNsPEAsoRBKE2w8QCbiAStSeTBAJuIBK1J5MEAm4gErUnkwQCbiAStSeTBAJuIBK1J5MEAm4gErUnkwQCbiAStSeTBAJuIBK1J5MEAm4gErUnkwQCbiAStSeTBAJuIBK1J5MEAm4gErUnkwQCbiAStSeTBAJuIBK1J5MEAm4gErUnkwQCbiAStSeTBAJuIBK1J5MEA=",
          "dtype": "f8"
         }
        },
        {
         "hoverinfo": "x+y+name",
         "legendgroup": "Bria, Riptide Rogue",
         "line": {
          "color": "hsla(30, 70%, 50%, 1.0)",
          "width": 2
         },
         "mode": "lines",
         "name": "Bria, Riptide Rogue",
         "type": "scatter",
         "visible": "legendonly",
         "x": {
          "bdata": "BgcICQoLDA0ODxAR",
          "dtype": "i1"
         },
         "y": {
          "bdata": "6VqfAfsbPkDpWp8B+xs+QOlanwH7Gz5A6VqfAfsbPkDpWp8B+xs+QOlanwH7Gz5AXIyJf89fOUBcjIl/z185QFyMiX/PXzlAXIyJf89fOUBcjIl/z185QFyMiX/PXzlA",
          "dtype": "f8"
         }
        },
        {
         "fill": "toself",
         "fillcolor": "hsla(30, 70%, 50%, 0.1)",
         "hoverinfo": "skip",
         "legendgroup": "Bria, Riptide Rogue",
         "line": {
          "color": "rgba(255,255,255,0)"
         },
         "showlegend": false,
         "type": "scatter",
         "visible": "legendonly",
         "x": {
          "bdata": "BgcICQoLDA0ODxARERAPDg0MCwoJCAcG",
          "dtype": "i1"
         },
         "y": {
          "bdata": "BZF2BBpsQkAFkXYEGmxCQAWRdgQabEJABZF2BBpsQkAFkXYEGmxCQAWRdgQabEJAyAWgf7IBPkDIBaB/sgE+QMgFoH+yAT5AyAWgf7IBPkDIBaB/sgE+QMgFoH+yAT5A8BJzf+y9NEDwEnN/7L00QPASc3/svTRA8BJzf+y9NEDwEnN/7L00QPASc3/svTRAx5NR+sFfN0DHk1H6wV83QMeTUfrBXzdAx5NR+sFfN0DHk1H6wV83QMeTUfrBXzdA",
          "dtype": "f8"
         }
        },
        {
         "hoverinfo": "x+y+name",
         "legendgroup": "Clavileño, First of the Blessed",
         "line": {
          "color": "hsla(40, 70%, 50%, 1.0)",
          "width": 2
         },
         "mode": "lines",
         "name": "Clavileño, First of the Blessed",
         "type": "scatter",
         "visible": "legendonly",
         "x": {
          "bdata": "CAkKCwwNDg8QEQ==",
          "dtype": "i1"
         },
         "y": {
          "bdata": "amPXQ1JxNkBqY9dDUnE2QGpj10NScTZAamPXQ1JxNkBqY9dDUnE2QGpj10NScTZAamPXQ1JxNkBqY9dDUnE2QGpj10NScTZAamPXQ1JxNkA=",
          "dtype": "f8"
         }
        },
        {
         "fill": "toself",
         "fillcolor": "hsla(40, 70%, 50%, 0.1)",
         "hoverinfo": "skip",
         "legendgroup": "Clavileño, First of the Blessed",
         "line": {
          "color": "rgba(255,255,255,0)"
         },
         "showlegend": false,
         "type": "scatter",
         "visible": "legendonly",
         "x": {
          "bdata": "CAkKCwwNDg8QEREQDw4NDAsKCQg=",
          "dtype": "i1"
         },
         "y": {
          "bdata": "DDBWuydqPEAMMFa7J2o8QAwwVrsnajxADDBWuydqPEAMMFa7J2o8QAwwVrsnajxADDBWuydqPEAMMFa7J2o8QAwwVrsnajxADDBWuydqPEDIlljMfHgwQMiWWMx8eDBAyJZYzHx4MEDIlljMfHgwQMiWWMx8eDBAyJZYzHx4MEDIlljMfHgwQMiWWMx8eDBAyJZYzHx4MEDIlljMfHgwQA==",
          "dtype": "f8"
         }
        },
        {
         "hoverinfo": "x+y+name",
         "legendgroup": "Cloud, Ex-SOLDIER",
         "line": {
          "color": "hsla(50, 70%, 50%, 1.0)",
          "width": 2
         },
         "mode": "lines",
         "name": "Cloud, Ex-SOLDIER",
         "type": "scatter",
         "visible": "legendonly",
         "x": {
          "bdata": "EBE=",
          "dtype": "i1"
         },
         "y": {
          "bdata": "m1vCaCdxNkCbW8JoJ3E2QA==",
          "dtype": "f8"
         }
        },
        {
         "fill": "toself",
         "fillcolor": "hsla(50, 70%, 50%, 0.1)",
         "hoverinfo": "skip",
         "legendgroup": "Cloud, Ex-SOLDIER",
         "line": {
          "color": "rgba(255,255,255,0)"
         },
         "showlegend": false,
         "type": "scatter",
         "visible": "legendonly",
         "x": {
          "bdata": "EBEREA==",
          "dtype": "i1"
         },
         "y": {
          "bdata": "KNKsvi9pO0Ao0qy+L2k7QA7l1xIfeTFADuXXEh95MUA=",
          "dtype": "f8"
         }
        },
        {
         "hoverinfo": "x+y+name",
         "legendgroup": "Davros, Dalek Creator",
         "line": {
          "color": "hsla(60, 70%, 50%, 1.0)",
          "width": 2
         },
         "mode": "lines",
         "name": "Davros, Dalek Creator",
         "type": "scatter",
         "visible": "legendonly",
         "x": {
          "bdata": "EQ==",
          "dtype": "i1"
         },
         "y": {
          "bdata": "SiORmAutNUA=",
          "dtype": "f8"
         }
        },
        {
         "fill": "toself",
         "fillcolor": "hsla(60, 70%, 50%, 0.1)",
         "hoverinfo": "skip",
         "legendgroup": "Davros, Dalek Creator",
         "line": {
          "color": "rgba(255,255,255,0)"
         },
         "showlegend": false,
         "type": "scatter",
         "visible": "legendonly",
         "x": {
          "bdata": "ERE=",
          "dtype": "i1"
         },
         "y": {
          "bdata": "aRVRyXK2OkArMdFnpKMwQA==",
          "dtype": "f8"
         }
        },
        {
         "hoverinfo": "x+y+name",
         "legendgroup": "Dionus, Elvish Archdruid",
         "line": {
          "color": "hsla(70, 70%, 50%, 1.0)",
          "width": 2
         },
         "mode": "lines",
         "name": "Dionus, Elvish Archdruid",
         "type": "scatter",
         "visible": "legendonly",
         "x": {
          "bdata": "CQoLDA0ODxAR",
          "dtype": "i1"
         },
         "y": {
          "bdata": "R4Hv8PZiNUBHge/w9mI1QEeB7/D2YjVAR4Hv8PZiNUBHge/w9mI1QEeB7/D2YjVAR4Hv8PZiNUBHge/w9mI1QOgBskpMWjlA",
          "dtype": "f8"
         }
        },
        {
         "fill": "toself",
         "fillcolor": "hsla(70, 70%, 50%, 0.1)",
         "hoverinfo": "skip",
         "legendgroup": "Dionus, Elvish Archdruid",
         "line": {
          "color": "rgba(255,255,255,0)"
         },
         "showlegend": false,
         "type": "scatter",
         "visible": "legendonly",
         "x": {
          "bdata": "CQoLDA0ODxARERAPDg0MCwoJ",
          "dtype": "i1"
         },
         "y": {
          "bdata": "5ooN1/EfO0Dmig3X8R87QOaKDdfxHztA5ooN1/EfO0Dmig3X8R87QOaKDdfxHztA5ooN1/EfO0Dmig3X8R87QBLY8JygGD5Avitz+PebNEBR76IV+EsvQFHvohX4Sy9AUe+iFfhLL0BR76IV+EsvQFHvohX4Sy9AUe+iFfhLL0BR76IV+EsvQFHvohX4Sy9A",
          "dtype": "f8"
         }
        },
        {
         "hoverinfo": "x+y+name",
         "legendgroup": "Edgar Markov",
         "line": {
          "color": "hsla(80, 70%, 50%, 1.0)",
          "width": 2
         },
         "mode": "lines",
         "name": "Edgar Markov",
         "type": "scatter",
         "visible": "legendonly",
         "x": {
          "bdata": "DxAR",
          "dtype": "i1"
         },
         "y": {
          "bdata": "ltk+64oLNkCW2T7rigs2QJbZPuuKCzZA",
          "dtype": "f8"
         }
        },
        {
         "fill": "toself",
         "fillcolor": "hsla(80, 70%, 50%, 0.1)",
         "hoverinfo": "skip",
         "legendgroup": "Edgar Markov",
         "line": {
          "color": "rgba(255,255,255,0)"
         },
         "showlegend": false,
         "type": "scatter",
         "visible": "legendonly",
         "x": {
          "bdata": "DxARERAP",
          "dtype": "i1"
         },
         "y": {
          "bdata": "WdJIekdKO0BZ0kh6R0o7QFnSSHpHSjtA0+A0XM7MMEDT4DRczswwQNPgNFzOzDBA",
          "dtype": "f8"
         }
        },
        {
         "hoverinfo": "x+y+name",
         "legendgroup": "Eshki, Temur's Roar",
         "line": {
          "color": "hsla(90, 70%, 50%, 1.0)",
          "width": 2
         },
         "mode": "lines",
         "name": "Eshki, Temur's Roar",
         "type": "scatter",
         "visible": "legendonly",
         "x": {
          "bdata": "CwwNDg8QEQ==",
          "dtype": "i1"
         },
         "y": {
          "bdata": "bq521SYNOUBurnbVJg05QG6udtUmDTlAbq521SYNOUBurnbVJg05QG6udtUmDTlAbq521SYNOUA=",
          "dtype": "f8"
         }
        },
        {
         "fill": "toself",
         "fillcolor": "hsla(90, 70%, 50%, 0.1)",
         "hoverinfo": "skip",
         "legendgroup": "Eshki, Temur's Roar",
         "line": {
          "color": "rgba(255,255,255,0)"
         },
         "showlegend": false,
         "type": "scatter",
         "visible": "legendonly",
         "x": {
          "bdata": "CwwNDg8QEREQDw4NDAs=",
          "dtype": "i1"
         },
         "y": {
          "bdata": "4sqZLKexPkDiypksp7E+QOLKmSynsT5A4sqZLKexPkDiypksp7E+QOLKmSynsT5A4sqZLKexPkD6kVN+pmgzQPqRU36maDNA+pFTfqZoM0D6kVN+pmgzQPqRU36maDNA+pFTfqZoM0D6kVN+pmgzQA==",
          "dtype": "f8"
         }
        },
        {
         "hoverinfo": "x+y+name",
         "legendgroup": "Frodo, Adventurous Hobbit // Sam, Loyal Attendant",
         "line": {
          "color": "hsla(100, 70%, 50%, 1.0)",
          "width": 2
         },
         "mode": "lines",
         "name": "Frodo, Adventurous Hobbit // Sam, Loyal Attendant",
         "type": "scatter",
         "visible": "legendonly",
         "x": {
          "bdata": "BQYHCAkKCwwNDg8QEQ==",
          "dtype": "i1"
         },
         "y": {
          "bdata": "qUGJurJyNkCpQYm6snI2QKlBibqycjZAqUGJurJyNkCpQYm6snI2QKlBibqycjZAqUGJurJyNkCpQYm6snI2QKlBibqycjZAqUGJurJyNkCpQYm6snI2QKlBibqycjZAqUGJurJyNkA=",
          "dtype": "f8"
         }
        },
        {
         "fill": "toself",
         "fillcolor": "hsla(100, 70%, 50%, 0.1)",
         "hoverinfo": "skip",
         "legendgroup": "Frodo, Adventurous Hobbit // Sam, Loyal Attendant",
         "line": {
          "color": "rgba(255,255,255,0)"
         },
         "showlegend": false,
         "type": "scatter",
         "visible": "legendonly",
         "x": {
          "bdata": "BQYHCAkKCwwNDg8QEREQDw4NDAsKCQgHBgU=",
          "dtype": "i1"
         },
         "y": {
          "bdata": "LKEQShNsPEAsoRBKE2w8QCyhEEoTbDxALKEQShNsPEAsoRBKE2w8QCyhEEoTbDxALKEQShNsPEAsoRBKE2w8QCyhEEoTbDxALKEQShNsPEAsoRBKE2w8QCyhEEoTbDxALKEQShNsPEAm4gErUnkwQCbiAStSeTBAJuIBK1J5MEAm4gErUnkwQCbiAStSeTBAJuIBK1J5MEAm4gErUnkwQCbiAStSeTBAJuIBK1J5MEAm4gErUnkwQCbiAStSeTBAJuIBK1J5MEAm4gErUnkwQA==",
          "dtype": "f8"
         }
        },
        {
         "hoverinfo": "x+y+name",
         "legendgroup": "Gandalf, Westward Voyager",
         "line": {
          "color": "hsla(110, 70%, 50%, 1.0)",
          "width": 2
         },
         "mode": "lines",
         "name": "Gandalf, Westward Voyager",
         "type": "scatter",
         "visible": "legendonly",
         "x": {
          "bdata": "CAkKCwwNDg8QEQ==",
          "dtype": "i1"
         },
         "y": {
          "bdata": "6VqfAfsbPkDpWp8B+xs+QOlanwH7Gz5A6VqfAfsbPkDpWp8B+xs+QOlanwH7Gz5A6VqfAfsbPkDpWp8B+xs+QOlanwH7Gz5A6VqfAfsbPkA=",
          "dtype": "f8"
         }
        },
        {
         "fill": "toself",
         "fillcolor": "hsla(110, 70%, 50%, 0.1)",
         "hoverinfo": "skip",
         "legendgroup": "Gandalf, Westward Voyager",
         "line": {
          "color": "rgba(255,255,255,0)"
         },
         "showlegend": false,
         "type": "scatter",
         "visible": "legendonly",
         "x": {
          "bdata": "CAkKCwwNDg8QEREQDw4NDAsKCQg=",
          "dtype": "i1"
         },
         "y": {
          "bdata": "BZF2BBpsQkAFkXYEGmxCQAWRdgQabEJABZF2BBpsQkAFkXYEGmxCQAWRdgQabEJABZF2BBpsQkAFkXYEGmxCQAWRdgQabEJABZF2BBpsQkDHk1H6wV83QMeTUfrBXzdAx5NR+sFfN0DHk1H6wV83QMeTUfrBXzdAx5NR+sFfN0DHk1H6wV83QMeTUfrBXzdAx5NR+sFfN0DHk1H6wV83QA==",
          "dtype": "f8"
         }
        },
        {
         "hoverinfo": "x+y+name",
         "legendgroup": "Hazel of the Rootbloom",
         "line": {
          "color": "hsla(120, 70%, 50%, 1.0)",
          "width": 2
         },
         "mode": "lines",
         "name": "Hazel of the Rootbloom",
         "type": "scatter",
         "visible": "legendonly",
         "x": {
          "bdata": "BwgJCgsMDQ4PEBE=",
          "dtype": "i1"
         },
         "y": {
          "bdata": "U3eZ03QKNUBTd5nTdAo1QFN3mdN0CjVAU3eZ03QKNUBTd5nTdAo1QFN3mdN0CjVAU3eZ03QKNUBTd5nTdAo1QFN3mdN0CjVAU3eZ03QKNUBTd5nTdAo1QA==",
          "dtype": "f8"
         }
        },
        {
         "fill": "toself",
         "fillcolor": "hsla(120, 70%, 50%, 0.1)",
         "hoverinfo": "skip",
         "legendgroup": "Hazel of the Rootbloom",
         "line": {
          "color": "rgba(255,255,255,0)"
         },
         "showlegend": false,
         "type": "scatter",
         "visible": "legendonly",
         "x": {
          "bdata": "BwgJCgsMDQ4PEBEREA8ODQwLCgkIBw==",
          "dtype": "i1"
         },
         "y": {
          "bdata": "q2J6fiajOkCrYnp+JqM6QKtien4mozpAq2J6fiajOkCrYnp+JqM6QKtien4mozpAq2J6fiajOkCrYnp+JqM6QKtien4mozpAq2J6fiajOkCrYnp+JqM6QPYXcVGG4y5A9hdxUYbjLkD2F3FRhuMuQPYXcVGG4y5A9hdxUYbjLkD2F3FRhuMuQPYXcVGG4y5A9hdxUYbjLkD2F3FRhuMuQPYXcVGG4y5A9hdxUYbjLkA=",
          "dtype": "f8"
         }
        },
        {
         "hoverinfo": "x+y+name",
         "legendgroup": "Kianne, Corrupted Memory",
         "line": {
          "color": "hsla(130, 70%, 50%, 1.0)",
          "width": 2
         },
         "mode": "lines",
         "name": "Kianne, Corrupted Memory",
         "type": "scatter",
         "visible": "legendonly",
         "x": {
          "bdata": "AwQFBgcICQoLDA0ODxAR",
          "dtype": "i1"
         },
         "y": {
          "bdata": "dWsYw4y8PkB1axjDjLw+QHVrGMOMvD5AdWsYw4y8PkB1axjDjLw+QHVrGMOMvD5AdWsYw4y8PkB1axjDjLw+QMZh1tn+ujpAxmHW2f66OkDGYdbZ/ro6QMZh1tn+ujpAxmHW2f66OkDGYdbZ/ro6QMZh1tn+ujpA",
          "dtype": "f8"
         }
        },
        {
         "fill": "toself",
         "fillcolor": "hsla(130, 70%, 50%, 0.1)",
         "hoverinfo": "skip",
         "legendgroup": "Kianne, Corrupted Memory",
         "line": {
          "color": "rgba(255,255,255,0)"
         },
         "showlegend": false,
         "type": "scatter",
         "visible": "legendonly",
         "x": {
          "bdata": "AwQFBgcICQoLDA0ODxARERAPDg0MCwoJCAcGBQQD",
          "dtype": "i1"
         },
         "y": {
          "bdata": "4qt6xzWZQkDiq3rHNZlCQOKresc1mUJA4qt6xzWZQkDiq3rHNZlCQOKresc1mUJA4qt6xzWZQkDiq3rHNZlCQPmrYPHQ2T9A+atg8dDZP0D5q2Dx0Nk/QPmrYPHQ2T9A+atg8dDZP0D5q2Dx0Nk/QPmrYPHQ2T9AkxdMwiycNUCTF0zCLJw1QJMXTMIsnDVAkxdMwiycNUCTF0zCLJw1QJMXTMIsnDVAkxdMwiycNUAmfzv3rUY4QCZ/O/etRjhAJn87961GOEAmfzv3rUY4QCZ/O/etRjhAJn87961GOEAmfzv3rUY4QCZ/O/etRjhA",
          "dtype": "f8"
         }
        },
        {
         "hoverinfo": "x+y+name",
         "legendgroup": "Krenko, Mob Boss",
         "line": {
          "color": "hsla(140, 70%, 50%, 1.0)",
          "width": 2
         },
         "mode": "lines",
         "name": "Krenko, Mob Boss",
         "type": "scatter",
         "visible": "legendonly",
         "x": {
          "bdata": "BgcICQoLDA0ODxAR",
          "dtype": "i1"
         },
         "y": {
          "bdata": "amPXQ1JxNkBqY9dDUnE2QGpj10NScTZANp+BjI8oOkA2n4GMjyg6QDafgYyPKDpANp+BjI8oOkA2n4GMjyg6QDafgYyPKDpANp+BjI8oOkA2n4GMjyg6QDafgYyPKDpA",
          "dtype": "f8"
         }
        },
        {
         "fill": "toself",
         "fillcolor": "hsla(140, 70%, 50%, 0.1)",
         "hoverinfo": "skip",
         "legendgroup": "Krenko, Mob Boss",
         "line": {
          "color": "rgba(255,255,255,0)"
         },
         "showlegend": false,
         "type": "scatter",
         "visible": "legendonly",
         "x": {
          "bdata": "BgcICQoLDA0ODxARERAPDg0MCwoJCAcG",
          "dtype": "i1"
         },
         "y": {
          "bdata": "DDBWuydqPEAMMFa7J2o8QAwwVrsnajxAe1+ITMtLP0B7X4hMy0s/QHtfiEzLSz9Ae1+ITMtLP0B7X4hMy0s/QHtfiEzLSz9Ae1+ITMtLP0B7X4hMy0s/QHtfiEzLSz9A8d56zFMFNUDx3nrMUwU1QPHeesxTBTVA8d56zFMFNUDx3nrMUwU1QPHeesxTBTVA8d56zFMFNUDx3nrMUwU1QPHeesxTBTVAyJZYzHx4MEDIlljMfHgwQMiWWMx8eDBA",
          "dtype": "f8"
         }
        },
        {
         "hoverinfo": "x+y+name",
         "legendgroup": "Lathril, Blade of the Elves",
         "line": {
          "color": "hsla(150, 70%, 50%, 1.0)",
          "width": 2
         },
         "mode": "lines",
         "name": "Lathril, Blade of the Elves",
         "type": "scatter",
         "visible": "legendonly",
         "x": {
          "bdata": "EQ==",
          "dtype": "i1"
         },
         "y": {
          "bdata": "35oTz8OvNUA=",
          "dtype": "f8"
         }
        },
        {
         "fill": "toself",
         "fillcolor": "hsla(150, 70%, 50%, 0.1)",
         "hoverinfo": "skip",
         "legendgroup": "Lathril, Blade of the Elves",
         "line": {
          "color": "rgba(255,255,255,0)"
         },
         "showlegend": false,
         "type": "scatter",
         "visible": "legendonly",
         "x": {
          "bdata": "ERE=",
          "dtype": "i1"
         },
         "y": {
          "bdata": "xsyO0Lu4OkD4aJjNy6YwQA==",
          "dtype": "f8"
         }
        },
        {
         "hoverinfo": "x+y+name",
         "legendgroup": "Lord Windgrace",
         "line": {
          "color": "hsla(160, 70%, 50%, 1.0)",
          "width": 2
         },
         "mode": "lines",
         "name": "Lord Windgrace",
         "type": "scatter",
         "visible": true,
         "x": {
          "bdata": "AQIDBAUGBwgJCgsMDQ4PEBE=",
          "dtype": "i1"
         },
         "y": {
          "bdata": "6VqfAfsbPkDpWp8B+xs+QOlanwH7Gz5A6VqfAfsbPkDpWp8B+xs+QOlanwH7Gz5A6VqfAfsbPkDpWp8B+xs+QOlanwH7Gz5AmYCZiiYIQECZgJmKJghAQJmAmYomCEBAmYCZiiYIQECZgJmKJghAQJmAmYomCEBAmYCZiiYIQECZgJmKJghAQA==",
          "dtype": "f8"
         }
        },
        {
         "fill": "toself",
         "fillcolor": "hsla(160, 70%, 50%, 0.1)",
         "hoverinfo": "skip",
         "legendgroup": "Lord Windgrace",
         "line": {
          "color": "rgba(255,255,255,0)"
         },
         "showlegend": false,
         "type": "scatter",
         "visible": true,
         "x": {
          "bdata": "AQIDBAUGBwgJCgsMDQ4PEBEREA8ODQwLCgkIBwYFBAMCAQ==",
          "dtype": "i1"
         },
         "y": {
          "bdata": "BZF2BBpsQkAFkXYEGmxCQAWRdgQabEJABZF2BBpsQkAFkXYEGmxCQAWRdgQabEJABZF2BBpsQkAFkXYEGmxCQAWRdgQabEJAK/i2Q8UAQ0Ar+LZDxQBDQCv4tkPFAENAK/i2Q8UAQ0Ar+LZDxQBDQCv4tkPFAENAK/i2Q8UAQ0Ar+LZDxQBDQA4S+KIPHzpADhL4og8fOkAOEviiDx86QA4S+KIPHzpADhL4og8fOkAOEviiDx86QA4S+KIPHzpADhL4og8fOkDHk1H6wV83QMeTUfrBXzdAx5NR+sFfN0DHk1H6wV83QMeTUfrBXzdAx5NR+sFfN0DHk1H6wV83QMeTUfrBXzdAx5NR+sFfN0A=",
          "dtype": "f8"
         }
        },
        {
         "hoverinfo": "x+y+name",
         "legendgroup": "Maha, Its Feathers Night",
         "line": {
          "color": "hsla(170, 70%, 50%, 1.0)",
          "width": 2
         },
         "mode": "lines",
         "name": "Maha, Its Feathers Night",
         "type": "scatter",
         "visible": "legendonly",
         "x": {
          "bdata": "CgsMDQ4PEBE=",
          "dtype": "i1"
         },
         "y": {
          "bdata": "fs38jXoRNkB+zfyNehE2QH7N/I16ETZAfs38jXoRNkB+zfyNehE2QH7N/I16ETZAfs38jXoRNkBSnGafXks1QA==",
          "dtype": "f8"
         }
        },
        {
         "fill": "toself",
         "fillcolor": "hsla(170, 70%, 50%, 0.1)",
         "hoverinfo": "skip",
         "legendgroup": "Maha, Its Feathers Night",
         "line": {
          "color": "rgba(255,255,255,0)"
         },
         "showlegend": false,
         "type": "scatter",
         "visible": "legendonly",
         "x": {
          "bdata": "CgsMDQ4PEBEREA8ODQwLCg==",
          "dtype": "i1"
         },
         "y": {
          "bdata": "XMWcu7KlO0BcxZy7sqU7QFzFnLuypTtAXMWcu7KlO0BcxZy7sqU7QFzFnLuypTtAXMWcu7KlO0DYZm3U2pk5QMzRX2ri/DBAoNVcYEJ9MECg1VxgQn0wQKDVXGBCfTBAoNVcYEJ9MECg1VxgQn0wQKDVXGBCfTBAoNVcYEJ9MEA=",
          "dtype": "f8"
         }
        },
        {
         "hoverinfo": "x+y+name",
         "legendgroup": "Neera, Wild Mage",
         "line": {
          "color": "hsla(180, 70%, 50%, 1.0)",
          "width": 2
         },
         "mode": "lines",
         "name": "Neera, Wild Mage",
         "type": "scatter",
         "visible": "legendonly",
         "x": {
          "bdata": "Dg8QEQ==",
          "dtype": "i1"
         },
         "y": {
          "bdata": "IiW/BvmCN0AiJb8G+YI3QCIlvwb5gjdAIiW/BvmCN0A=",
          "dtype": "f8"
         }
        },
        {
         "fill": "toself",
         "fillcolor": "hsla(180, 70%, 50%, 0.1)",
         "hoverinfo": "skip",
         "legendgroup": "Neera, Wild Mage",
         "line": {
          "color": "rgba(255,255,255,0)"
         },
         "showlegend": false,
         "type": "scatter",
         "visible": "legendonly",
         "x": {
          "bdata": "Dg8QEREQDw4=",
          "dtype": "i1"
         },
         "y": {
          "bdata": "ljkGlKZsPECWOQaUpmw8QJY5BpSmbDxAljkGlKZsPECuEHh5S5kyQK4QeHlLmTJArhB4eUuZMkCuEHh5S5kyQA==",
          "dtype": "f8"
         }
        },
        {
         "hoverinfo": "x+y+name",
         "legendgroup": "Nekusar, the Mindrazer",
         "line": {
          "color": "hsla(190, 70%, 50%, 1.0)",
          "width": 2
         },
         "mode": "lines",
         "name": "Nekusar, the Mindrazer",
         "type": "scatter",
         "visible": true,
         "x": {
          "bdata": "AQIDBAUGBwgJCgsMDQ4PEBE=",
          "dtype": "i1"
         },
         "y": {
          "bdata": "amPXQ1JxNkA2n4GMjyg6QPGia+5AeThA8aJr7kB5OEDxomvuQHk4QPGia+5AeThA8aJr7kB5OEDxomvuQHk4QPGia+5AeThA8aJr7kB5OEDxomvuQHk4QPGia+5AeThA8aJr7kB5OEDxomvuQHk4QPGia+5AeThA8aJr7kB5OEDxomvuQHk4QA==",
          "dtype": "f8"
         }
        },
        {
         "fill": "toself",
         "fillcolor": "hsla(190, 70%, 50%, 0.1)",
         "hoverinfo": "skip",
         "legendgroup": "Nekusar, the Mindrazer",
         "line": {
          "color": "rgba(255,255,255,0)"
         },
         "showlegend": false,
         "type": "scatter",
         "visible": true,
         "x": {
          "bdata": "AQIDBAUGBwgJCgsMDQ4PEBEREA8ODQwLCgkIBwYFBAMCAQ==",
          "dtype": "i1"
         },
         "y": {
          "bdata": "DDBWuydqPEB7X4hMy0s/QMw/JrTb3TxAzD8mtNvdPEDMPya02908QMw/JrTb3TxAzD8mtNvdPEDMPya02908QMw/JrTb3TxAzD8mtNvdPEDMPya02908QMw/JrTb3TxAzD8mtNvdPEDMPya02908QMw/JrTb3TxAzD8mtNvdPEDMPya02908QBYGsSimFDRAFgaxKKYUNEAWBrEophQ0QBYGsSimFDRAFgaxKKYUNEAWBrEophQ0QBYGsSimFDRAFgaxKKYUNEAWBrEophQ0QBYGsSimFDRAFgaxKKYUNEAWBrEophQ0QBYGsSimFDRAFgaxKKYUNEAWBrEophQ0QPHeesxTBTVAyJZYzHx4MEA=",
          "dtype": "f8"
         }
        },
        {
         "hoverinfo": "x+y+name",
         "legendgroup": "Ojer Axonil, Deepest Might",
         "line": {
          "color": "hsla(200, 70%, 50%, 1.0)",
          "width": 2
         },
         "mode": "lines",
         "name": "Ojer Axonil, Deepest Might",
         "type": "scatter",
         "visible": "legendonly",
         "x": {
          "bdata": "BgcICQoLDA0ODxAR",
          "dtype": "i1"
         },
         "y": {
          "bdata": "qUGJurJyNkCpQYm6snI2QKlBibqycjZAqUGJurJyNkCpQYm6snI2QKlBibqycjZAqUGJurJyNkArnu242qc6QCue7bjapzpAK57tuNqnOkArnu242qc6QCue7bjapzpA",
          "dtype": "f8"
         }
        },
        {
         "fill": "toself",
         "fillcolor": "hsla(200, 70%, 50%, 0.1)",
         "hoverinfo": "skip",
         "legendgroup": "Ojer Axonil, Deepest Might",
         "line": {
          "color": "rgba(255,255,255,0)"
         },
         "showlegend": false,
         "type": "scatter",
         "visible": "legendonly",
         "x": {
          "bdata": "BgcICQoLDA0ODxARERAPDg0MCwoJCAcG",
          "dtype": "i1"
         },
         "y": {
          "bdata": "LKEQShNsPEAsoRBKE2w8QCyhEEoTbDxALKEQShNsPEAsoRBKE2w8QCyhEEoTbDxALKEQShNsPEDB8gioNo8/QMHyCKg2jz9AwfIIqDaPP0DB8gioNo8/QMHyCKg2jz9AlUnSyX7ANUCVSdLJfsA1QJVJ0sl+wDVAlUnSyX7ANUCVSdLJfsA1QCbiAStSeTBAJuIBK1J5MEAm4gErUnkwQCbiAStSeTBAJuIBK1J5MEAm4gErUnkwQCbiAStSeTBA",
          "dtype": "f8"
         }
        },
        {
         "hoverinfo": "x+y+name",
         "legendgroup": "Omo, Queen of Vesuva",
         "line": {
          "color": "hsla(210, 70%, 50%, 1.0)",
          "width": 2
         },
         "mode": "lines",
         "name": "Omo, Queen of Vesuva",
         "type": "scatter",
         "visible": "legendonly",
         "x": {
          "bdata": "BQYHCAkKCwwNDg8QEQ==",
          "dtype": "i1"
         },
         "y": {
          "bdata": "6VqfAfsbPkDpWp8B+xs+QOlanwH7Gz5A6VqfAfsbPkDpWp8B+xs+QOlanwH7Gz5A6VqfAfsbPkDpWp8B+xs+QOlanwH7Gz5A6VqfAfsbPkDpWp8B+xs+QOlanwH7Gz5A6VqfAfsbPkA=",
          "dtype": "f8"
         }
        },
        {
         "fill": "toself",
         "fillcolor": "hsla(210, 70%, 50%, 0.1)",
         "hoverinfo": "skip",
         "legendgroup": "Omo, Queen of Vesuva",
         "line": {
          "color": "rgba(255,255,255,0)"
         },
         "showlegend": false,
         "type": "scatter",
         "visible": "legendonly",
         "x": {
          "bdata": "BQYHCAkKCwwNDg8QEREQDw4NDAsKCQgHBgU=",
          "dtype": "i1"
         },
         "y": {
          "bdata": "BZF2BBpsQkAFkXYEGmxCQAWRdgQabEJABZF2BBpsQkAFkXYEGmxCQAWRdgQabEJABZF2BBpsQkAFkXYEGmxCQAWRdgQabEJABZF2BBpsQkAFkXYEGmxCQAWRdgQabEJABZF2BBpsQkDHk1H6wV83QMeTUfrBXzdAx5NR+sFfN0DHk1H6wV83QMeTUfrBXzdAx5NR+sFfN0DHk1H6wV83QMeTUfrBXzdAx5NR+sFfN0DHk1H6wV83QMeTUfrBXzdAx5NR+sFfN0DHk1H6wV83QA==",
          "dtype": "f8"
         }
        },
        {
         "hoverinfo": "x+y+name",
         "legendgroup": "Otharri, Suns' Glory",
         "line": {
          "color": "hsla(220, 70%, 50%, 1.0)",
          "width": 2
         },
         "mode": "lines",
         "name": "Otharri, Suns' Glory",
         "type": "scatter",
         "visible": "legendonly",
         "x": {
          "bdata": "EBE=",
          "dtype": "i1"
         },
         "y": {
          "bdata": "KTll7hbtPUApOWXuFu09QA==",
          "dtype": "f8"
         }
        },
        {
         "fill": "toself",
         "fillcolor": "hsla(220, 70%, 50%, 0.1)",
         "hoverinfo": "skip",
         "legendgroup": "Otharri, Suns' Glory",
         "line": {
          "color": "rgba(255,255,255,0)"
         },
         "showlegend": false,
         "type": "scatter",
         "visible": "legendonly",
         "x": {
          "bdata": "EBEREA==",
          "dtype": "i1"
         },
         "y": {
          "bdata": "Uxi+HGkvQkBTGL4caS9CQK1BTqNbezdArUFOo1t7N0A=",
          "dtype": "f8"
         }
        },
        {
         "hoverinfo": "x+y+name",
         "legendgroup": "Rakdos, Lord of Riots",
         "line": {
          "color": "hsla(230, 70%, 50%, 1.0)",
          "width": 2
         },
         "mode": "lines",
         "name": "Rakdos, Lord of Riots",
         "type": "scatter",
         "visible": "legendonly",
         "x": {
          "bdata": "BAUGBwgJCgsMDQ4PEBE=",
          "dtype": "i1"
         },
         "y": {
          "bdata": "7LjoXJMTPkDsuOhckxM+QOy46FyTEz5A7LjoXJMTPkDsuOhckxM+QOy46FyTEz5A7LjoXJMTPkDsuOhckxM+QOy46FyTEz5ASgMRQ0JNOEBKAxFDQk04QEoDEUNCTThASgMRQ0JNOEBKAxFDQk04QA==",
          "dtype": "f8"
         }
        },
        {
         "fill": "toself",
         "fillcolor": "hsla(230, 70%, 50%, 0.1)",
         "hoverinfo": "skip",
         "legendgroup": "Rakdos, Lord of Riots",
         "line": {
          "color": "rgba(255,255,255,0)"
         },
         "showlegend": false,
         "type": "scatter",
         "visible": "legendonly",
         "x": {
          "bdata": "BAUGBwgJCgsMDQ4PEBEREA8ODQwLCgkIBwYFBA==",
          "dtype": "i1"
         },
         "y": {
          "bdata": "vLBwBKxUQkC8sHAErFRCQLywcASsVEJAvLBwBKxUQkC8sHAErFRCQLywcASsVEJAvLBwBKxUQkC8sHAErFRCQLywcASsVEJAtdmltof/PEC12aW2h/88QLXZpbaH/zxAtdmltof/PEC12aW2h/88QN8sfM/8mjNA3yx8z/yaM0DfLHzP/JozQN8sfM/8mjNA3yx8z/yaM0BgEPCwzn03QGAQ8LDOfTdAYBDwsM59N0BgEPCwzn03QGAQ8LDOfTdAYBDwsM59N0BgEPCwzn03QGAQ8LDOfTdAYBDwsM59N0A=",
          "dtype": "f8"
         }
        },
        {
         "hoverinfo": "x+y+name",
         "legendgroup": "Rona, Herald of Invasion // Rona, Tolarian Obliterator",
         "line": {
          "color": "hsla(240, 70%, 50%, 1.0)",
          "width": 2
         },
         "mode": "lines",
         "name": "Rona, Herald of Invasion // Rona, Tolarian Obliterator",
         "type": "scatter",
         "visible": "legendonly",
         "x": {
          "bdata": "Dg8QEQ==",
          "dtype": "i1"
         },
         "y": {
          "bdata": "2xAH1CmFN0DbEAfUKYU3QNsQB9QphTdA2xAH1CmFN0A=",
          "dtype": "f8"
         }
        },
        {
         "fill": "toself",
         "fillcolor": "hsla(240, 70%, 50%, 0.1)",
         "hoverinfo": "skip",
         "legendgroup": "Rona, Herald of Invasion // Rona, Tolarian Obliterator",
         "line": {
          "color": "rgba(255,255,255,0)"
         },
         "showlegend": false,
         "type": "scatter",
         "visible": "legendonly",
         "x": {
          "bdata": "Dg8QEREQDw4=",
          "dtype": "i1"
         },
         "y": {
          "bdata": "8e0l75RtPEDx7SXvlG08QPHtJe+UbTxA8e0l75RtPEDFM+i4vpwyQMUz6Li+nDJAxTPouL6cMkDFM+i4vpwyQA==",
          "dtype": "f8"
         }
        },
        {
         "hoverinfo": "x+y+name",
         "legendgroup": "Saruman, the White Hand",
         "line": {
          "color": "hsla(250, 70%, 50%, 1.0)",
          "width": 2
         },
         "mode": "lines",
         "name": "Saruman, the White Hand",
         "type": "scatter",
         "visible": "legendonly",
         "x": {
          "bdata": "CwwNDg8QEQ==",
          "dtype": "i1"
         },
         "y": {
          "bdata": "29Ol5xqdP0Db06XnGp0/QNvTpecanT9A29Ol5xqdP0Db06XnGp0/QNvTpecanT9A29Ol5xqdP0A=",
          "dtype": "f8"
         }
        },
        {
         "fill": "toself",
         "fillcolor": "hsla(250, 70%, 50%, 0.1)",
         "hoverinfo": "skip",
         "legendgroup": "Saruman, the White Hand",
         "line": {
          "color": "rgba(255,255,255,0)"
         },
         "showlegend": false,
         "type": "scatter",
         "visible": "legendonly",
         "x": {
          "bdata": "CwwNDg8QEREQDw4NDAs=",
          "dtype": "i1"
         },
         "y": {
          "bdata": "xlKMC7kFQ0DGUowLuQVDQMZSjAu5BUNAxlKMC7kFQ0DGUowLuQVDQMZSjAu5BUNAxlKMC7kFQ0AqAjO4wy45QCoCM7jDLjlAKgIzuMMuOUAqAjO4wy45QCoCM7jDLjlAKgIzuMMuOUAqAjO4wy45QA==",
          "dtype": "f8"
         }
        },
        {
         "hoverinfo": "x+y+name",
         "legendgroup": "Satya, Aetherflux Genius",
         "line": {
          "color": "hsla(260, 70%, 50%, 1.0)",
          "width": 2
         },
         "mode": "lines",
         "name": "Satya, Aetherflux Genius",
         "type": "scatter",
         "visible": "legendonly",
         "x": {
          "bdata": "EBE=",
          "dtype": "i1"
         },
         "y": {
          "bdata": "qNA8C4hyNkCo0DwLiHI2QA==",
          "dtype": "f8"
         }
        },
        {
         "fill": "toself",
         "fillcolor": "hsla(260, 70%, 50%, 0.1)",
         "hoverinfo": "skip",
         "legendgroup": "Satya, Aetherflux Genius",
         "line": {
          "color": "rgba(255,255,255,0)"
         },
         "showlegend": false,
         "type": "scatter",
         "visible": "legendonly",
         "x": {
          "bdata": "EBEREA==",
          "dtype": "i1"
         },
         "y": {
          "bdata": "NINBb2dsO0A0g0FvZ2w7QBweOKeoeDFAHB44p6h4MUA=",
          "dtype": "f8"
         }
        },
        {
         "hoverinfo": "x+y+name",
         "legendgroup": "Temmet, Naktamun's Will",
         "line": {
          "color": "hsla(270, 70%, 50%, 1.0)",
          "width": 2
         },
         "mode": "lines",
         "name": "Temmet, Naktamun's Will",
         "type": "scatter",
         "visible": "legendonly",
         "x": {
          "bdata": "CAkKCwwNDg8QEQ==",
          "dtype": "i1"
         },
         "y": {
          "bdata": "qUGJurJyNkCpQYm6snI2QKlBibqycjZAqUGJurJyNkCpQYm6snI2QKlBibqycjZAqUGJurJyNkCpQYm6snI2QKlBibqycjZAqUGJurJyNkA=",
          "dtype": "f8"
         }
        },
        {
         "fill": "toself",
         "fillcolor": "hsla(270, 70%, 50%, 0.1)",
         "hoverinfo": "skip",
         "legendgroup": "Temmet, Naktamun's Will",
         "line": {
          "color": "rgba(255,255,255,0)"
         },
         "showlegend": false,
         "type": "scatter",
         "visible": "legendonly",
         "x": {
          "bdata": "CAkKCwwNDg8QEREQDw4NDAsKCQg=",
          "dtype": "i1"
         },
         "y": {
          "bdata": "LKEQShNsPEAsoRBKE2w8QCyhEEoTbDxALKEQShNsPEAsoRBKE2w8QCyhEEoTbDxALKEQShNsPEAsoRBKE2w8QCyhEEoTbDxALKEQShNsPEAm4gErUnkwQCbiAStSeTBAJuIBK1J5MEAm4gErUnkwQCbiAStSeTBAJuIBK1J5MEAm4gErUnkwQCbiAStSeTBAJuIBK1J5MEAm4gErUnkwQA==",
          "dtype": "f8"
         }
        },
        {
         "hoverinfo": "x+y+name",
         "legendgroup": "The Jolly Balloon Man",
         "line": {
          "color": "hsla(280, 70%, 50%, 1.0)",
          "width": 2
         },
         "mode": "lines",
         "name": "The Jolly Balloon Man",
         "type": "scatter",
         "visible": "legendonly",
         "x": {
          "bdata": "AgMEBQYHCAkKCwwNDg8QEQ==",
          "dtype": "i1"
         },
         "y": {
          "bdata": "OdRYEQRhNUA51FgRBGE1QDnUWBEEYTVAOdRYEQRhNUA51FgRBGE1QDnUWBEEYTVAOdRYEQRhNUA51FgRBGE1QCWstq++WTVAJay2r75ZNUAlrLavvlk1QLdKNNhVszVAt0o02FWzNUC3SjTYVbM1QElxeNY0vjVASXF41jS+NUA=",
          "dtype": "f8"
         }
        },
        {
         "fill": "toself",
         "fillcolor": "hsla(280, 70%, 50%, 0.1)",
         "hoverinfo": "skip",
         "legendgroup": "The Jolly Balloon Man",
         "line": {
          "color": "rgba(255,255,255,0)"
         },
         "showlegend": false,
         "type": "scatter",
         "visible": "legendonly",
         "x": {
          "bdata": "AgMEBQYHCAkKCwwNDg8QEREQDw4NDAsKCQgHBgUEAwI=",
          "dtype": "i1"
         },
         "y": {
          "bdata": "px5lqisdO0CnHmWqKx07QKceZaorHTtApx5lqisdO0CnHmWqKx07QKceZaorHTtApx5lqisdO0CnHmWqKx07QKjNMei2IjpAqM0x6LYiOkCozTHotiI6QLOlY4S2sjlAs6VjhLayOUCzpWOEtrI5QLgbrpUUPDlAuBuulRQ8OUDaxkIXVUAyQNrGQhdVQDJAu+8ELPWzMUC77wQs9bMxQLvvBCz1szFAooo7d8aQMECiijt3xpAwQKKKO3fGkDBAlhOZ8LhJL0CWE5nwuEkvQJYTmfC4SS9AlhOZ8LhJL0CWE5nwuEkvQJYTmfC4SS9AlhOZ8LhJL0CWE5nwuEkvQA==",
          "dtype": "f8"
         }
        },
        {
         "hoverinfo": "x+y+name",
         "legendgroup": "Tom Bobadil",
         "line": {
          "color": "hsla(290, 70%, 50%, 1.0)",
          "width": 2
         },
         "mode": "lines",
         "name": "Tom Bobadil",
         "type": "scatter",
         "visible": "legendonly",
         "x": {
          "bdata": "BwgJCgsMDQ4PEBE=",
          "dtype": "i1"
         },
         "y": {
          "bdata": "4LSAP1IINUDgtIA/Ugg1QOC0gD9SCDVA4LSAP1IINUDgtIA/Ugg1QOC0gD9SCDVA4LSAP1IINUDgtIA/Ugg1QOC0gD9SCDVA4LSAP1IINUDgtIA/Ugg1QA==",
          "dtype": "f8"
         }
        },
        {
         "fill": "toself",
         "fillcolor": "hsla(290, 70%, 50%, 0.1)",
         "hoverinfo": "skip",
         "legendgroup": "Tom Bobadil",
         "line": {
          "color": "rgba(255,255,255,0)"
         },
         "showlegend": false,
         "type": "scatter",
         "visible": "legendonly",
         "x": {
          "bdata": "BwgJCgsMDQ4PEBEREA8ODQwLCgkIBw==",
          "dtype": "i1"
         },
         "y": {
          "bdata": "RXtNmQOgOkBFe02ZA6A6QEV7TZkDoDpARXtNmQOgOkBFe02ZA6A6QEV7TZkDoDpARXtNmQOgOkBFe02ZA6A6QEV7TZkDoDpARXtNmQOgOkBFe02ZA6A6QPbcZ8tB4S5A9txny0HhLkD23GfLQeEuQPbcZ8tB4S5A9txny0HhLkD23GfLQeEuQPbcZ8tB4S5A9txny0HhLkD23GfLQeEuQPbcZ8tB4S5A9txny0HhLkA=",
          "dtype": "f8"
         }
        },
        {
         "hoverinfo": "x+y+name",
         "legendgroup": "Ulalek, Fused Atrocity",
         "line": {
          "color": "hsla(300, 70%, 50%, 1.0)",
          "width": 2
         },
         "mode": "lines",
         "name": "Ulalek, Fused Atrocity",
         "type": "scatter",
         "visible": "legendonly",
         "x": {
          "bdata": "DxAR",
          "dtype": "i1"
         },
         "y": {
          "bdata": "uXKvUkwQNkC5cq9STBA2QLlyr1JMEDZA",
          "dtype": "f8"
         }
        },
        {
         "fill": "toself",
         "fillcolor": "hsla(300, 70%, 50%, 0.1)",
         "hoverinfo": "skip",
         "legendgroup": "Ulalek, Fused Atrocity",
         "line": {
          "color": "rgba(255,255,255,0)"
         },
         "showlegend": false,
         "type": "scatter",
         "visible": "legendonly",
         "x": {
          "bdata": "DxARERAP",
          "dtype": "i1"
         },
         "y": {
          "bdata": "tYo/YY1QO0C1ij9hjVA7QLWKP2GNUDtAvVofRAvQMEC9Wh9EC9AwQL1aH0QL0DBA",
          "dtype": "f8"
         }
        },
        {
         "hoverinfo": "x+y+name",
         "legendgroup": "Umbris, Fear Manifest",
         "line": {
          "color": "hsla(310, 70%, 50%, 1.0)",
          "width": 2
         },
         "mode": "lines",
         "name": "Umbris, Fear Manifest",
         "type": "scatter",
         "visible": "legendonly",
         "x": {
          "bdata": "AgMEBQYHCAkKCwwNDg8QEQ==",
          "dtype": "i1"
         },
         "y": {
          "bdata": "R4Hv8PZiNUBHge/w9mI1QEeB7/D2YjVAR4Hv8PZiNUBHge/w9mI1QEeB7/D2YjVAR4Hv8PZiNUBHge/w9mI1QEeB7/D2YjVAR4Hv8PZiNUBHge/w9mI1QEeB7/D2YjVAR4Hv8PZiNUDT2K0sWJM5QNPYrSxYkzlA09itLFiTOUA=",
          "dtype": "f8"
         }
        },
        {
         "fill": "toself",
         "fillcolor": "hsla(310, 70%, 50%, 0.1)",
         "hoverinfo": "skip",
         "legendgroup": "Umbris, Fear Manifest",
         "line": {
          "color": "rgba(255,255,255,0)"
         },
         "showlegend": false,
         "type": "scatter",
         "visible": "legendonly",
         "x": {
          "bdata": "AgMEBQYHCAkKCwwNDg8QEREQDw4NDAsKCQgHBgUEAwI=",
          "dtype": "i1"
         },
         "y": {
          "bdata": "5ooN1/EfO0Dmig3X8R87QOaKDdfxHztA5ooN1/EfO0Dmig3X8R87QOaKDdfxHztA5ooN1/EfO0Dmig3X8R87QOaKDdfxHztA5ooN1/EfO0Dmig3X8R87QOaKDdfxHztA5ooN1/EfO0BAWBAf8l0+QEBYEB/yXT5AQFgQH/JdPkBmWUs6vsg0QGZZSzq+yDRAZllLOr7INEBR76IV+EsvQFHvohX4Sy9AUe+iFfhLL0BR76IV+EsvQFHvohX4Sy9AUe+iFfhLL0BR76IV+EsvQFHvohX4Sy9AUe+iFfhLL0BR76IV+EsvQFHvohX4Sy9AUe+iFfhLL0BR76IV+EsvQA==",
          "dtype": "f8"
         }
        },
        {
         "hoverinfo": "x+y+name",
         "legendgroup": "Valgavoth, Harrower of Souls",
         "line": {
          "color": "hsla(320, 70%, 50%, 1.0)",
          "width": 2
         },
         "mode": "lines",
         "name": "Valgavoth, Harrower of Souls",
         "type": "scatter",
         "visible": "legendonly",
         "x": {
          "bdata": "BAUGBwgJCgsMDQ4PEBE=",
          "dtype": "i1"
         },
         "y": {
          "bdata": "VWfNKiWKNkBVZ80qJYo2QFVnzSolijZAVWfNKiWKNkBVZ80qJYo2QFVnzSolijZAVWfNKiWKNkBVZ80qJYo2QJ5xChbj7DpAnnEKFuPsOkCecQoW4+w6QJ5xChbj7DpAnnEKFuPsOkCecQoW4+w6QA==",
          "dtype": "f8"
         }
        },
        {
         "fill": "toself",
         "fillcolor": "hsla(320, 70%, 50%, 0.1)",
         "hoverinfo": "skip",
         "legendgroup": "Valgavoth, Harrower of Souls",
         "line": {
          "color": "rgba(255,255,255,0)"
         },
         "showlegend": false,
         "type": "scatter",
         "visible": "legendonly",
         "x": {
          "bdata": "BAUGBwgJCgsMDQ4PEBEREA8ODQwLCgkIBwYFBA==",
          "dtype": "i1"
         },
         "y": {
          "bdata": "6Gr6ELMIPEDoavoQswg8QOhq+hCzCDxA6Gr6ELMIPEDoavoQswg8QOhq+hCzCDxA6Gr6ELMIPEDoavoQswg8QNyczTuecj9A3JzNO55yP0DcnM07nnI/QNyczTuecj9A3JzNO55yP0DcnM07nnI/QGBGR/AnZzZAYEZH8CdnNkBgRkfwJ2c2QGBGR/AnZzZAYEZH8CdnNkBgRkfwJ2c2QMJjoESXCzFAwmOgRJcLMUDCY6BElwsxQMJjoESXCzFAwmOgRJcLMUDCY6BElwsxQMJjoESXCzFAwmOgRJcLMUA=",
          "dtype": "f8"
         }
        },
        {
         "hoverinfo": "x+y+name",
         "legendgroup": "Vnwxt, Verbose Host",
         "line": {
          "color": "hsla(330, 70%, 50%, 1.0)",
          "width": 2
         },
         "mode": "lines",
         "name": "Vnwxt, Verbose Host",
         "type": "scatter",
         "visible": "legendonly",
         "x": {
          "bdata": "AwQFBgcICQoLDA0ODxAR",
          "dtype": "i1"
         },
         "y": {
          "bdata": "VrCCqgKyN0AURmEZ4JU2QBRGYRnglTZAFEZhGeCVNkBWx7/ysfs4QFbHv/Kx+zhAVse/8rH7OEBWx7/ysfs4QFbHv/Kx+zhA2tjM75ZHOEDa2Mzvlkc4QEek2DRCzTdAR6TYNELNN0BHpNg0Qs03QEek2DRCzTdA",
          "dtype": "f8"
         }
        },
        {
         "fill": "toself",
         "fillcolor": "hsla(330, 70%, 50%, 0.1)",
         "hoverinfo": "skip",
         "legendgroup": "Vnwxt, Verbose Host",
         "line": {
          "color": "rgba(255,255,255,0)"
         },
         "showlegend": false,
         "type": "scatter",
         "visible": "legendonly",
         "x": {
          "bdata": "AwQFBgcICQoLDA0ODxARERAPDg0MCwoJCAcGBQQD",
          "dtype": "i1"
         },
         "y": {
          "bdata": "qzjoWXcfPUB5OFflDSs7QHk4V+UNKztAeThX5Q0rO0CO7oUmcyE9QI7uhSZzIT1Aju6FJnMhPUCO7oUmcyE9QI7uhSZzIT1ADoDlvKPdO0AOgOW8o907QET0eRbhATtARPR5FuEBO0BE9HkW4QE7QET0eRbhATtASlQ3U6OYNEBKVDdTo5g0QEpUN1OjmDRASlQ3U6OYNECmMbQiirE0QKYxtCKKsTRAHqD5vvDVNEAeoPm+8NU0QB6g+b7w1TRAHqD5vvDVNEAeoPm+8NU0QK9Ta02yADJAr1NrTbIAMkCvU2tNsgAyQAEoHfuNRDJA",
          "dtype": "f8"
         }
        },
        {
         "hoverinfo": "x+y+name",
         "legendgroup": "Y'shtola, Night's Blessed",
         "line": {
          "color": "hsla(340, 70%, 50%, 1.0)",
          "width": 2
         },
         "mode": "lines",
         "name": "Y'shtola, Night's Blessed",
         "type": "scatter",
         "visible": "legendonly",
         "x": {
          "bdata": "Dg8QEQ==",
          "dtype": "i1"
         },
         "y": {
          "bdata": "e2YNnyWMPkB7Zg2fJYw+QHtmDZ8ljD5Ae2YNnyWMPkA=",
          "dtype": "f8"
         }
        },
        {
         "fill": "toself",
         "fillcolor": "hsla(340, 70%, 50%, 0.1)",
         "hoverinfo": "skip",
         "legendgroup": "Y'shtola, Night's Blessed",
         "line": {
          "color": "rgba(255,255,255,0)"
         },
         "showlegend": false,
         "type": "scatter",
         "visible": "legendonly",
         "x": {
          "bdata": "Dg8QEREQDw4=",
          "dtype": "i1"
         },
         "y": {
          "bdata": "wXOX/wpuQkDBc5f/Cm5CQMFzl/8KbkJAwXOX/wpuQkB05es+NTw4QHTl6z41PDhAdOXrPjU8OEB05es+NTw4QA==",
          "dtype": "f8"
         }
        },
        {
         "hoverinfo": "x+y+name",
         "legendgroup": "Zedruu the Greathearted",
         "line": {
          "color": "hsla(350, 70%, 50%, 1.0)",
          "width": 2
         },
         "mode": "lines",
         "name": "Zedruu the Greathearted",
         "type": "scatter",
         "visible": "legendonly",
         "x": {
          "bdata": "CQoLDA0ODxAR",
          "dtype": "i1"
         },
         "y": {
          "bdata": "OdRYEQRhNUA51FgRBGE1QDnUWBEEYTVAOdRYEQRhNUA51FgRBGE1QDnUWBEEYTVAOdRYEQRhNUA51FgRBGE1QDnUWBEEYTVA",
          "dtype": "f8"
         }
        },
        {
         "fill": "toself",
         "fillcolor": "hsla(350, 70%, 50%, 0.1)",
         "hoverinfo": "skip",
         "legendgroup": "Zedruu the Greathearted",
         "line": {
          "color": "rgba(255,255,255,0)"
         },
         "showlegend": false,
         "type": "scatter",
         "visible": "legendonly",
         "x": {
          "bdata": "CQoLDA0ODxARERAPDg0MCwoJ",
          "dtype": "i1"
         },
         "y": {
          "bdata": "px5lqisdO0CnHmWqKx07QKceZaorHTtApx5lqisdO0CnHmWqKx07QKceZaorHTtApx5lqisdO0CnHmWqKx07QKceZaorHTtAlhOZ8LhJL0CWE5nwuEkvQJYTmfC4SS9AlhOZ8LhJL0CWE5nwuEkvQJYTmfC4SS9AlhOZ8LhJL0CWE5nwuEkvQJYTmfC4SS9A",
          "dtype": "f8"
         }
        }
       ],
       "layout": {
        "hovermode": "x unified",
        "legend": {
         "title": {
          "text": "Commander"
         }
        },
        "template": {
         "data": {
          "bar": [
           {
            "error_x": {
             "color": "#2a3f5f"
            },
            "error_y": {
             "color": "#2a3f5f"
            },
            "marker": {
             "line": {
              "color": "white",
              "width": 0.5
             },
             "pattern": {
              "fillmode": "overlay",
              "size": 10,
              "solidity": 0.2
             }
            },
            "type": "bar"
           }
          ],
          "barpolar": [
           {
            "marker": {
             "line": {
              "color": "white",
              "width": 0.5
             },
             "pattern": {
              "fillmode": "overlay",
              "size": 10,
              "solidity": 0.2
             }
            },
            "type": "barpolar"
           }
          ],
          "carpet": [
           {
            "aaxis": {
             "endlinecolor": "#2a3f5f",
             "gridcolor": "#C8D4E3",
             "linecolor": "#C8D4E3",
             "minorgridcolor": "#C8D4E3",
             "startlinecolor": "#2a3f5f"
            },
            "baxis": {
             "endlinecolor": "#2a3f5f",
             "gridcolor": "#C8D4E3",
             "linecolor": "#C8D4E3",
             "minorgridcolor": "#C8D4E3",
             "startlinecolor": "#2a3f5f"
            },
            "type": "carpet"
           }
          ],
          "choropleth": [
           {
            "colorbar": {
             "outlinewidth": 0,
             "ticks": ""
            },
            "type": "choropleth"
           }
          ],
          "contour": [
           {
            "colorbar": {
             "outlinewidth": 0,
             "ticks": ""
            },
            "colorscale": [
             [
              0,
              "#0d0887"
             ],
             [
              0.1111111111111111,
              "#46039f"
             ],
             [
              0.2222222222222222,
              "#7201a8"
             ],
             [
              0.3333333333333333,
              "#9c179e"
             ],
             [
              0.4444444444444444,
              "#bd3786"
             ],
             [
              0.5555555555555556,
              "#d8576b"
             ],
             [
              0.6666666666666666,
              "#ed7953"
             ],
             [
              0.7777777777777778,
              "#fb9f3a"
             ],
             [
              0.8888888888888888,
              "#fdca26"
             ],
             [
              1,
              "#f0f921"
             ]
            ],
            "type": "contour"
           }
          ],
          "contourcarpet": [
           {
            "colorbar": {
             "outlinewidth": 0,
             "ticks": ""
            },
            "type": "contourcarpet"
           }
          ],
          "heatmap": [
           {
            "colorbar": {
             "outlinewidth": 0,
             "ticks": ""
            },
            "colorscale": [
             [
              0,
              "#0d0887"
             ],
             [
              0.1111111111111111,
              "#46039f"
             ],
             [
              0.2222222222222222,
              "#7201a8"
             ],
             [
              0.3333333333333333,
              "#9c179e"
             ],
             [
              0.4444444444444444,
              "#bd3786"
             ],
             [
              0.5555555555555556,
              "#d8576b"
             ],
             [
              0.6666666666666666,
              "#ed7953"
             ],
             [
              0.7777777777777778,
              "#fb9f3a"
             ],
             [
              0.8888888888888888,
              "#fdca26"
             ],
             [
              1,
              "#f0f921"
             ]
            ],
            "type": "heatmap"
           }
          ],
          "histogram": [
           {
            "marker": {
             "pattern": {
              "fillmode": "overlay",
              "size": 10,
              "solidity": 0.2
             }
            },
            "type": "histogram"
           }
          ],
          "histogram2d": [
           {
            "colorbar": {
             "outlinewidth": 0,
             "ticks": ""
            },
            "colorscale": [
             [
              0,
              "#0d0887"
             ],
             [
              0.1111111111111111,
              "#46039f"
             ],
             [
              0.2222222222222222,
              "#7201a8"
             ],
             [
              0.3333333333333333,
              "#9c179e"
             ],
             [
              0.4444444444444444,
              "#bd3786"
             ],
             [
              0.5555555555555556,
              "#d8576b"
             ],
             [
              0.6666666666666666,
              "#ed7953"
             ],
             [
              0.7777777777777778,
              "#fb9f3a"
             ],
             [
              0.8888888888888888,
              "#fdca26"
             ],
             [
              1,
              "#f0f921"
             ]
            ],
            "type": "histogram2d"
           }
          ],
          "histogram2dcontour": [
           {
            "colorbar": {
             "outlinewidth": 0,
             "ticks": ""
            },
            "colorscale": [
             [
              0,
              "#0d0887"
             ],
             [
              0.1111111111111111,
              "#46039f"
             ],
             [
              0.2222222222222222,
              "#7201a8"
             ],
             [
              0.3333333333333333,
              "#9c179e"
             ],
             [
              0.4444444444444444,
              "#bd3786"
             ],
             [
              0.5555555555555556,
              "#d8576b"
             ],
             [
              0.6666666666666666,
              "#ed7953"
             ],
             [
              0.7777777777777778,
              "#fb9f3a"
             ],
             [
              0.8888888888888888,
              "#fdca26"
             ],
             [
              1,
              "#f0f921"
             ]
            ],
            "type": "histogram2dcontour"
           }
          ],
          "mesh3d": [
           {
            "colorbar": {
             "outlinewidth": 0,
             "ticks": ""
            },
            "type": "mesh3d"
           }
          ],
          "parcoords": [
           {
            "line": {
             "colorbar": {
              "outlinewidth": 0,
              "ticks": ""
             }
            },
            "type": "parcoords"
           }
          ],
          "pie": [
           {
            "automargin": true,
            "type": "pie"
           }
          ],
          "scatter": [
           {
            "fillpattern": {
             "fillmode": "overlay",
             "size": 10,
             "solidity": 0.2
            },
            "type": "scatter"
           }
          ],
          "scatter3d": [
           {
            "line": {
             "colorbar": {
              "outlinewidth": 0,
              "ticks": ""
             }
            },
            "marker": {
             "colorbar": {
              "outlinewidth": 0,
              "ticks": ""
             }
            },
            "type": "scatter3d"
           }
          ],
          "scattercarpet": [
           {
            "marker": {
             "colorbar": {
              "outlinewidth": 0,
              "ticks": ""
             }
            },
            "type": "scattercarpet"
           }
          ],
          "scattergeo": [
           {
            "marker": {
             "colorbar": {
              "outlinewidth": 0,
              "ticks": ""
             }
            },
            "type": "scattergeo"
           }
          ],
          "scattergl": [
           {
            "marker": {
             "colorbar": {
              "outlinewidth": 0,
              "ticks": ""
             }
            },
            "type": "scattergl"
           }
          ],
          "scattermap": [
           {
            "marker": {
             "colorbar": {
              "outlinewidth": 0,
              "ticks": ""
             }
            },
            "type": "scattermap"
           }
          ],
          "scattermapbox": [
           {
            "marker": {
             "colorbar": {
              "outlinewidth": 0,
              "ticks": ""
             }
            },
            "type": "scattermapbox"
           }
          ],
          "scatterpolar": [
           {
            "marker": {
             "colorbar": {
              "outlinewidth": 0,
              "ticks": ""
             }
            },
            "type": "scatterpolar"
           }
          ],
          "scatterpolargl": [
           {
            "marker": {
             "colorbar": {
              "outlinewidth": 0,
              "ticks": ""
             }
            },
            "type": "scatterpolargl"
           }
          ],
          "scatterternary": [
           {
            "marker": {
             "colorbar": {
              "outlinewidth": 0,
              "ticks": ""
             }
            },
            "type": "scatterternary"
           }
          ],
          "surface": [
           {
            "colorbar": {
             "outlinewidth": 0,
             "ticks": ""
            },
            "colorscale": [
             [
              0,
              "#0d0887"
             ],
             [
              0.1111111111111111,
              "#46039f"
             ],
             [
              0.2222222222222222,
              "#7201a8"
             ],
             [
              0.3333333333333333,
              "#9c179e"
             ],
             [
              0.4444444444444444,
              "#bd3786"
             ],
             [
              0.5555555555555556,
              "#d8576b"
             ],
             [
              0.6666666666666666,
              "#ed7953"
             ],
             [
              0.7777777777777778,
              "#fb9f3a"
             ],
             [
              0.8888888888888888,
              "#fdca26"
             ],
             [
              1,
              "#f0f921"
             ]
            ],
            "type": "surface"
           }
          ],
          "table": [
           {
            "cells": {
             "fill": {
              "color": "#EBF0F8"
             },
             "line": {
              "color": "white"
             }
            },
            "header": {
             "fill": {
              "color": "#C8D4E3"
             },
             "line": {
              "color": "white"
             }
            },
            "type": "table"
           }
          ]
         },
         "layout": {
          "annotationdefaults": {
           "arrowcolor": "#2a3f5f",
           "arrowhead": 0,
           "arrowwidth": 1
          },
          "autotypenumbers": "strict",
          "coloraxis": {
           "colorbar": {
            "outlinewidth": 0,
            "ticks": ""
           }
          },
          "colorscale": {
           "diverging": [
            [
             0,
             "#8e0152"
            ],
            [
             0.1,
             "#c51b7d"
            ],
            [
             0.2,
             "#de77ae"
            ],
            [
             0.3,
             "#f1b6da"
            ],
            [
             0.4,
             "#fde0ef"
            ],
            [
             0.5,
             "#f7f7f7"
            ],
            [
             0.6,
             "#e6f5d0"
            ],
            [
             0.7,
             "#b8e186"
            ],
            [
             0.8,
             "#7fbc41"
            ],
            [
             0.9,
             "#4d9221"
            ],
            [
             1,
             "#276419"
            ]
           ],
           "sequential": [
            [
             0,
             "#0d0887"
            ],
            [
             0.1111111111111111,
             "#46039f"
            ],
            [
             0.2222222222222222,
             "#7201a8"
            ],
            [
             0.3333333333333333,
             "#9c179e"
            ],
            [
             0.4444444444444444,
             "#bd3786"
            ],
            [
             0.5555555555555556,
             "#d8576b"
            ],
            [
             0.6666666666666666,
             "#ed7953"
            ],
            [
             0.7777777777777778,
             "#fb9f3a"
            ],
            [
             0.8888888888888888,
             "#fdca26"
            ],
            [
             1,
             "#f0f921"
            ]
           ],
           "sequentialminus": [
            [
             0,
             "#0d0887"
            ],
            [
             0.1111111111111111,
             "#46039f"
            ],
            [
             0.2222222222222222,
             "#7201a8"
            ],
            [
             0.3333333333333333,
             "#9c179e"
            ],
            [
             0.4444444444444444,
             "#bd3786"
            ],
            [
             0.5555555555555556,
             "#d8576b"
            ],
            [
             0.6666666666666666,
             "#ed7953"
            ],
            [
             0.7777777777777778,
             "#fb9f3a"
            ],
            [
             0.8888888888888888,
             "#fdca26"
            ],
            [
             1,
             "#f0f921"
            ]
           ]
          },
          "colorway": [
           "#636efa",
           "#EF553B",
           "#00cc96",
           "#ab63fa",
           "#FFA15A",
           "#19d3f3",
           "#FF6692",
           "#B6E880",
           "#FF97FF",
           "#FECB52"
          ],
          "font": {
           "color": "#2a3f5f"
          },
          "geo": {
           "bgcolor": "white",
           "lakecolor": "white",
           "landcolor": "white",
           "showlakes": true,
           "showland": true,
           "subunitcolor": "#C8D4E3"
          },
          "hoverlabel": {
           "align": "left"
          },
          "hovermode": "closest",
          "mapbox": {
           "style": "light"
          },
          "paper_bgcolor": "white",
          "plot_bgcolor": "white",
          "polar": {
           "angularaxis": {
            "gridcolor": "#EBF0F8",
            "linecolor": "#EBF0F8",
            "ticks": ""
           },
           "bgcolor": "white",
           "radialaxis": {
            "gridcolor": "#EBF0F8",
            "linecolor": "#EBF0F8",
            "ticks": ""
           }
          },
          "scene": {
           "xaxis": {
            "backgroundcolor": "white",
            "gridcolor": "#DFE8F3",
            "gridwidth": 2,
            "linecolor": "#EBF0F8",
            "showbackground": true,
            "ticks": "",
            "zerolinecolor": "#EBF0F8"
           },
           "yaxis": {
            "backgroundcolor": "white",
            "gridcolor": "#DFE8F3",
            "gridwidth": 2,
            "linecolor": "#EBF0F8",
            "showbackground": true,
            "ticks": "",
            "zerolinecolor": "#EBF0F8"
           },
           "zaxis": {
            "backgroundcolor": "white",
            "gridcolor": "#DFE8F3",
            "gridwidth": 2,
            "linecolor": "#EBF0F8",
            "showbackground": true,
            "ticks": "",
            "zerolinecolor": "#EBF0F8"
           }
          },
          "shapedefaults": {
           "line": {
            "color": "#2a3f5f"
           }
          },
          "ternary": {
           "aaxis": {
            "gridcolor": "#DFE8F3",
            "linecolor": "#A2B1C6",
            "ticks": ""
           },
           "baxis": {
            "gridcolor": "#DFE8F3",
            "linecolor": "#A2B1C6",
            "ticks": ""
           },
           "bgcolor": "white",
           "caxis": {
            "gridcolor": "#DFE8F3",
            "linecolor": "#A2B1C6",
            "ticks": ""
           }
          },
          "title": {
           "x": 0.05
          },
          "xaxis": {
           "automargin": true,
           "gridcolor": "#EBF0F8",
           "linecolor": "#EBF0F8",
           "ticks": "",
           "title": {
            "standoff": 15
           },
           "zerolinecolor": "#EBF0F8",
           "zerolinewidth": 2
          },
          "yaxis": {
           "automargin": true,
           "gridcolor": "#EBF0F8",
           "linecolor": "#EBF0F8",
           "ticks": "",
           "title": {
            "standoff": 15
           },
           "zerolinecolor": "#EBF0F8",
           "zerolinewidth": 2
          }
         }
        },
        "title": {
         "text": "Commander TrueSkill Ratings with Confidence Bands"
        },
        "xaxis": {
         "title": {
          "text": "Match"
         }
        },
        "yaxis": {
         "title": {
          "text": "TrueSkill Rating"
         }
        }
       }
      }
     },
     "metadata": {},
     "output_type": "display_data"
    }
   ],
   "source": [
    "commanders_vis['Match'] = commanders_vis['Match'].astype(int)\n",
    "commanders_vis = commanders_vis.sort_values(['Commander', 'Match'])\n",
    "\n",
    "fig = go.Figure()\n",
    "\n",
    "commanders = commanders_vis['Commander'].unique()\n",
    "base_colors = generate_color_palette(len(commanders), alpha=1.0)\n",
    "band_colors = generate_color_palette(len(commanders), alpha=0.1)\n",
    "\n",
    "# Get distinct colors for each commander using Plotly's qualitative color palette\n",
    "color_map_line = dict(zip(commanders, base_colors))\n",
    "color_map_band = dict(zip(commanders, band_colors))\n",
    "\n",
    "for commander in commanders:\n",
    "    data = commanders_vis[commanders_vis['Commander'] == commander].copy()\n",
    "    data = data.sort_values('Match')\n",
    "\n",
    "    color_line = color_map_line[commander]\n",
    "    color_band = color_map_band[commander]\n",
    "    # color_rgba = color.replace('rgb', 'rgba').replace(')', ', 0.15)')  # Transparent fill\n",
    "\n",
    "    upper = data['TrueSkill Rating'] + data['TrueSkill StDev']\n",
    "    lower = data['TrueSkill Rating'] - data['TrueSkill StDev']\n",
    "\n",
    "    # Line trace\n",
    "    fig.add_trace(go.Scatter(\n",
    "        x=data['Match'], y=data['TrueSkill Rating'],\n",
    "        mode='lines',\n",
    "        name=commander,\n",
    "        legendgroup=commander,\n",
    "        line=dict(width=2, color=color_line),\n",
    "        hoverinfo='x+y+name',\n",
    "        visible='legendonly' if not commander in default_selection else True\n",
    "    ))\n",
    "\n",
    "    # Confidence band\n",
    "    fig.add_trace(go.Scatter(\n",
    "        x=pd.concat([data['Match'], data['Match'][::-1]]),\n",
    "        y=pd.concat([upper, lower[::-1]]),\n",
    "        fill='toself',\n",
    "        fillcolor=color_band,\n",
    "        line=dict(color='rgba(255,255,255,0)'),\n",
    "        hoverinfo='skip',\n",
    "        showlegend=False,\n",
    "        legendgroup=commander,\n",
    "        visible='legendonly' if not commander in default_selection else True\n",
    "    ))\n",
    "\n",
    "fig.update_layout(\n",
    "    title='Commander TrueSkill Ratings with Confidence Bands',\n",
    "    xaxis_title='Match',\n",
    "    yaxis_title='TrueSkill Rating',\n",
    "    template='plotly_white',\n",
    "    legend_title='Commander',\n",
    "    hovermode='x unified'\n",
    ")\n",
    "\n",
    "fig.show()"
   ]
  },
  {
   "cell_type": "code",
   "execution_count": null,
   "id": "b617af2b",
   "metadata": {},
   "outputs": [
    {
     "data": {
      "application/vnd.plotly.v1+json": {
       "config": {
        "plotlyServerURL": "https://plot.ly"
       },
       "data": [
        {
         "hoverinfo": "x+y+name",
         "legendgroup": "Aminatou, Veil Piercer",
         "line": {
          "color": "hsla(0, 70%, 50%, 1.0)",
          "width": 2
         },
         "mode": "lines",
         "name": "Aminatou, Veil Piercer",
         "type": "scatter",
         "visible": "legendonly",
         "x": {
          "bdata": "BQYHCAkKCwwNDg8QEQ==",
          "dtype": "i1"
         },
         "y": {
          "bdata": "GPZrdUcbEkAY9mt1RxsSQBj2a3VHGxJAGPZrdUcbEkAY9mt1RxsSQBj2a3VHGxJAGPZrdUcbEkAY9mt1RxsSQBj2a3VHGxJAGPZrdUcbEkAY9mt1RxsSQBj2a3VHGxJAGPZrdUcbEkA=",
          "dtype": "f8"
         }
        },
        {
         "hoverinfo": "x+y+name",
         "legendgroup": "Astarion, the Decadent",
         "line": {
          "color": "hsla(10, 70%, 50%, 1.0)",
          "width": 2
         },
         "mode": "lines",
         "name": "Astarion, the Decadent",
         "type": "scatter",
         "visible": "legendonly",
         "x": {
          "bdata": "DxAR",
          "dtype": "i1"
         },
         "y": {
          "bdata": "koJOKUBJGUCSgk4pQEkZQJKCTilASRlA",
          "dtype": "f8"
         }
        },
        {
         "hoverinfo": "x+y+name",
         "legendgroup": "Atraxa, Praetors' Voice",
         "line": {
          "color": "hsla(20, 70%, 50%, 1.0)",
          "width": 2
         },
         "mode": "lines",
         "name": "Atraxa, Praetors' Voice",
         "type": "scatter",
         "visible": "legendonly",
         "x": {
          "bdata": "AQIDBAUGBwgJCgsMDQ4PEBE=",
          "dtype": "i1"
         },
         "y": {
          "bdata": "fIzML0QaEkB8jMwvRBoSQHyMzC9EGhJAfIzML0QaEkB8jMwvRBoSQHyMzC9EGhJAfIzML0QaEkB8jMwvRBoSQHyMzC9EGhJAfIzML0QaEkB8jMwvRBoSQHyMzC9EGhJAfIzML0QaEkB8jMwvRBoSQHyMzC9EGhJAfIzML0QaEkB8jMwvRBoSQA==",
          "dtype": "f8"
         }
        },
        {
         "hoverinfo": "x+y+name",
         "legendgroup": "Bria, Riptide Rogue",
         "line": {
          "color": "hsla(30, 70%, 50%, 1.0)",
          "width": 2
         },
         "mode": "lines",
         "name": "Bria, Riptide Rogue",
         "type": "scatter",
         "visible": "legendonly",
         "x": {
          "bdata": "BgcICQoLDA0ODxAR",
          "dtype": "i1"
         },
         "y": {
          "bdata": "CAts15/OI0AIC2zXn84jQAgLbNefziNACAts15/OI0AIC2zXn84jQAgLbNefziNAMkCM/kz0JkAyQIz+TPQmQDJAjP5M9CZAMkCM/kz0JkAyQIz+TPQmQDJAjP5M9CZA",
          "dtype": "f8"
         }
        },
        {
         "hoverinfo": "x+y+name",
         "legendgroup": "Clavileño, First of the Blessed",
         "line": {
          "color": "hsla(40, 70%, 50%, 1.0)",
          "width": 2
         },
         "mode": "lines",
         "name": "Clavileño, First of the Blessed",
         "type": "scatter",
         "visible": "legendonly",
         "x": {
          "bdata": "CAkKCwwNDg8QEQ==",
          "dtype": "i1"
         },
         "y": {
          "bdata": "GPZrdUcbEkAY9mt1RxsSQBj2a3VHGxJAGPZrdUcbEkAY9mt1RxsSQBj2a3VHGxJAGPZrdUcbEkAY9mt1RxsSQBj2a3VHGxJAGPZrdUcbEkA=",
          "dtype": "f8"
         }
        },
        {
         "hoverinfo": "x+y+name",
         "legendgroup": "Cloud, Ex-SOLDIER",
         "line": {
          "color": "hsla(50, 70%, 50%, 1.0)",
          "width": 2
         },
         "mode": "lines",
         "name": "Cloud, Ex-SOLDIER",
         "type": "scatter",
         "visible": "legendonly",
         "x": {
          "bdata": "EBE=",
          "dtype": "i1"
         },
         "y": {
          "bdata": "zN8LnDkkHkDM3wucOSQeQA==",
          "dtype": "f8"
         }
        },
        {
         "hoverinfo": "x+y+name",
         "legendgroup": "Davros, Dalek Creator",
         "line": {
          "color": "hsla(60, 70%, 50%, 1.0)",
          "width": 2
         },
         "mode": "lines",
         "name": "Davros, Dalek Creator",
         "type": "scatter",
         "visible": "legendonly",
         "x": {
          "bdata": "EQ==",
          "dtype": "i1"
         },
         "y": {
          "bdata": "tDNFGVhDGkA=",
          "dtype": "f8"
         }
        },
        {
         "hoverinfo": "x+y+name",
         "legendgroup": "Dionus, Elvish Archdruid",
         "line": {
          "color": "hsla(70, 70%, 50%, 1.0)",
          "width": 2
         },
         "mode": "lines",
         "name": "Dionus, Elvish Archdruid",
         "type": "scatter",
         "visible": "legendonly",
         "x": {
          "bdata": "CQoLDA0ODxAR",
          "dtype": "i1"
         },
         "y": {
          "bdata": "rJFV+hiwEECskVX6GLAQQKyRVfoYsBBArJFV+hiwEECskVX6GLAQQKyRVfoYsBBArJFV+hiwEECskVX6GLAQQNH+6qeePiZA",
          "dtype": "f8"
         }
        },
        {
         "hoverinfo": "x+y+name",
         "legendgroup": "Edgar Markov",
         "line": {
          "color": "hsla(80, 70%, 50%, 1.0)",
          "width": 2
         },
         "mode": "lines",
         "name": "Edgar Markov",
         "type": "scatter",
         "visible": "legendonly",
         "x": {
          "bdata": "DxAR",
          "dtype": "i1"
         },
         "y": {
          "bdata": "OL2D+FQ9GUA4vYP4VD0ZQDi9g/hUPRlA",
          "dtype": "f8"
         }
        },
        {
         "hoverinfo": "x+y+name",
         "legendgroup": "Eshki, Temur's Roar",
         "line": {
          "color": "hsla(90, 70%, 50%, 1.0)",
          "width": 2
         },
         "mode": "lines",
         "name": "Eshki, Temur's Roar",
         "type": "scatter",
         "visible": "legendonly",
         "x": {
          "bdata": "CwwNDg8QEQ==",
          "dtype": "i1"
         },
         "y": {
          "bdata": "JrIaoEs/IEAmshqgSz8gQCayGqBLPyBAJrIaoEs/IEAmshqgSz8gQCayGqBLPyBAJrIaoEs/IEA=",
          "dtype": "f8"
         }
        },
        {
         "hoverinfo": "x+y+name",
         "legendgroup": "Frodo, Adventurous Hobbit // Sam, Loyal Attendant",
         "line": {
          "color": "hsla(100, 70%, 50%, 1.0)",
          "width": 2
         },
         "mode": "lines",
         "name": "Frodo, Adventurous Hobbit // Sam, Loyal Attendant",
         "type": "scatter",
         "visible": "legendonly",
         "x": {
          "bdata": "BQYHCAkKCwwNDg8QEQ==",
          "dtype": "i1"
         },
         "y": {
          "bdata": "fIzML0QaEkB8jMwvRBoSQHyMzC9EGhJAfIzML0QaEkB8jMwvRBoSQHyMzC9EGhJAfIzML0QaEkB8jMwvRBoSQHyMzC9EGhJAfIzML0QaEkB8jMwvRBoSQHyMzC9EGhJAfIzML0QaEkA=",
          "dtype": "f8"
         }
        },
        {
         "hoverinfo": "x+y+name",
         "legendgroup": "Gandalf, Westward Voyager",
         "line": {
          "color": "hsla(110, 70%, 50%, 1.0)",
          "width": 2
         },
         "mode": "lines",
         "name": "Gandalf, Westward Voyager",
         "type": "scatter",
         "visible": "legendonly",
         "x": {
          "bdata": "CAkKCwwNDg8QEQ==",
          "dtype": "i1"
         },
         "y": {
          "bdata": "CAts15/OI0AIC2zXn84jQAgLbNefziNACAts15/OI0AIC2zXn84jQAgLbNefziNACAts15/OI0AIC2zXn84jQAgLbNefziNACAts15/OI0A=",
          "dtype": "f8"
         }
        },
        {
         "hoverinfo": "x+y+name",
         "legendgroup": "Hazel of the Rootbloom",
         "line": {
          "color": "hsla(120, 70%, 50%, 1.0)",
          "width": 2
         },
         "mode": "lines",
         "name": "Hazel of the Rootbloom",
         "type": "scatter",
         "visible": "legendonly",
         "x": {
          "bdata": "BwgJCgsMDQ4PEBE=",
          "dtype": "i1"
         },
         "y": {
          "bdata": "KNXaS38BEUAo1dpLfwERQCjV2kt/ARFAKNXaS38BEUAo1dpLfwERQCjV2kt/ARFAKNXaS38BEUAo1dpLfwERQCjV2kt/ARFAKNXaS38BEUAo1dpLfwERQA==",
          "dtype": "f8"
         }
        },
        {
         "hoverinfo": "x+y+name",
         "legendgroup": "Kianne, Corrupted Memory",
         "line": {
          "color": "hsla(130, 70%, 50%, 1.0)",
          "width": 2
         },
         "mode": "lines",
         "name": "Kianne, Corrupted Memory",
         "type": "scatter",
         "visible": "legendonly",
         "x": {
          "bdata": "AwQFBgcICQoLDA0ODxAR",
          "dtype": "i1"
         },
         "y": {
          "bdata": "Ek0Dv+C1JkASTQO/4LUmQBJNA7/gtSZAEk0Dv+C1JkASTQO/4LUmQBJNA7/gtSZAEk0Dv+C1JkASTQO/4LUmQFgGbyYRvSZAWAZvJhG9JkBYBm8mEb0mQFgGbyYRvSZAWAZvJhG9JkBYBm8mEb0mQFgGbyYRvSZA",
          "dtype": "f8"
         }
        },
        {
         "hoverinfo": "x+y+name",
         "legendgroup": "Krenko, Mob Boss",
         "line": {
          "color": "hsla(140, 70%, 50%, 1.0)",
          "width": 2
         },
         "mode": "lines",
         "name": "Krenko, Mob Boss",
         "type": "scatter",
         "visible": "legendonly",
         "x": {
          "bdata": "BgcICQoLDA0ODxAR",
          "dtype": "i1"
         },
         "y": {
          "bdata": "GPZrdUcbEkAY9mt1RxsSQBj2a3VHGxJA0LzamLh9JUDQvNqYuH0lQNC82pi4fSVA0LzamLh9JUDQvNqYuH0lQNC82pi4fSVA0LzamLh9JUDQvNqYuH0lQNC82pi4fSVA",
          "dtype": "f8"
         }
        },
        {
         "hoverinfo": "x+y+name",
         "legendgroup": "Lathril, Blade of the Elves",
         "line": {
          "color": "hsla(150, 70%, 50%, 1.0)",
          "width": 2
         },
         "mode": "lines",
         "name": "Lathril, Blade of the Elves",
         "type": "scatter",
         "visible": "legendonly",
         "x": {
          "bdata": "EQ==",
          "dtype": "i1"
         },
         "y": {
          "bdata": "qBSIKm9TGkA=",
          "dtype": "f8"
         }
        },
        {
         "hoverinfo": "x+y+name",
         "legendgroup": "Lord Windgrace",
         "line": {
          "color": "hsla(160, 70%, 50%, 1.0)",
          "width": 2
         },
         "mode": "lines",
         "name": "Lord Windgrace",
         "type": "scatter",
         "visible": true,
         "x": {
          "bdata": "AQIDBAUGBwgJCgsMDQ4PEBE=",
          "dtype": "i1"
         },
         "y": {
          "bdata": "CAts15/OI0AIC2zXn84jQAgLbNefziNACAts15/OI0AIC2zXn84jQAgLbNefziNACAts15/OI0AIC2zXn84jQAgLbNefziNAkGcEfSl5LECQZwR9KXksQJBnBH0peSxAkGcEfSl5LECQZwR9KXksQJBnBH0peSxAkGcEfSl5LECQZwR9KXksQA==",
          "dtype": "f8"
         }
        },
        {
         "hoverinfo": "x+y+name",
         "legendgroup": "Maha, Its Feathers Night",
         "line": {
          "color": "hsla(170, 70%, 50%, 1.0)",
          "width": 2
         },
         "mode": "lines",
         "name": "Maha, Its Feathers Night",
         "type": "scatter",
         "visible": "legendonly",
         "x": {
          "bdata": "CgsMDQ4PEBE=",
          "dtype": "i1"
         },
         "y": {
          "bdata": "lJdzFEhTFUCUl3MUSFMVQJSXcxRIUxVAlJdzFEhTFUCUl3MUSFMVQJSXcxRIUxVAlJdzFEhTFUB9eaQA1L8gQA==",
          "dtype": "f8"
         }
        },
        {
         "hoverinfo": "x+y+name",
         "legendgroup": "Neera, Wild Mage",
         "line": {
          "color": "hsla(180, 70%, 50%, 1.0)",
          "width": 2
         },
         "mode": "lines",
         "name": "Neera, Wild Mage",
         "type": "scatter",
         "visible": "legendonly",
         "x": {
          "bdata": "Dg8QEQ==",
          "dtype": "i1"
         },
         "y": {
          "bdata": "ic/TveCLIUCJz9O94IshQInP073giyFAic/TveCLIUA=",
          "dtype": "f8"
         }
        },
        {
         "hoverinfo": "x+y+name",
         "legendgroup": "Nekusar, the Mindrazer",
         "line": {
          "color": "hsla(190, 70%, 50%, 1.0)",
          "width": 2
         },
         "mode": "lines",
         "name": "Nekusar, the Mindrazer",
         "type": "scatter",
         "visible": "legendonly",
         "x": {
          "bdata": "AQIDBAUGBwgJCgsMDQ4PEBE=",
          "dtype": "i1"
         },
         "y": {
          "bdata": "GPZrdUcbEkDQvNqYuH0lQMKYdzrhliZAwph3OuGWJkDCmHc64ZYmQMKYdzrhliZAwph3OuGWJkDCmHc64ZYmQMKYdzrhliZAwph3OuGWJkDCmHc64ZYmQMKYdzrhliZAwph3OuGWJkDCmHc64ZYmQMKYdzrhliZAwph3OuGWJkDCmHc64ZYmQA==",
          "dtype": "f8"
         }
        },
        {
         "hoverinfo": "x+y+name",
         "legendgroup": "Ojer Axonil, Deepest Might",
         "line": {
          "color": "hsla(200, 70%, 50%, 1.0)",
          "width": 2
         },
         "mode": "lines",
         "name": "Ojer Axonil, Deepest Might",
         "type": "scatter",
         "visible": "legendonly",
         "x": {
          "bdata": "BgcICQoLDA0ODxAR",
          "dtype": "i1"
         },
         "y": {
          "bdata": "fIzML0QaEkB8jMwvRBoSQHyMzC9EGhJAfIzML0QaEkB8jMwvRBoSQHyMzC9EGhJAfIzML0QaEkDSQDfXjeMnQNJAN9eN4ydA0kA3143jJ0DSQDfXjeMnQNJAN9eN4ydA",
          "dtype": "f8"
         }
        },
        {
         "hoverinfo": "x+y+name",
         "legendgroup": "Omo, Queen of Vesuva",
         "line": {
          "color": "hsla(210, 70%, 50%, 1.0)",
          "width": 2
         },
         "mode": "lines",
         "name": "Omo, Queen of Vesuva",
         "type": "scatter",
         "visible": "legendonly",
         "x": {
          "bdata": "BQYHCAkKCwwNDg8QEQ==",
          "dtype": "i1"
         },
         "y": {
          "bdata": "CAts15/OI0AIC2zXn84jQAgLbNefziNACAts15/OI0AIC2zXn84jQAgLbNefziNACAts15/OI0AIC2zXn84jQAgLbNefziNACAts15/OI0AIC2zXn84jQAgLbNefziNACAts15/OI0A=",
          "dtype": "f8"
         }
        },
        {
         "hoverinfo": "x+y+name",
         "legendgroup": "Otharri, Suns' Glory",
         "line": {
          "color": "hsla(220, 70%, 50%, 1.0)",
          "width": 2
         },
         "mode": "lines",
         "name": "Otharri, Suns' Glory",
         "type": "scatter",
         "visible": "legendonly",
         "x": {
          "bdata": "EBE=",
          "dtype": "i1"
         },
         "y": {
          "bdata": "aKVAGsovJUBopUAayi8lQA==",
          "dtype": "f8"
         }
        },
        {
         "hoverinfo": "x+y+name",
         "legendgroup": "Rakdos, Lord of Riots",
         "line": {
          "color": "hsla(230, 70%, 50%, 1.0)",
          "width": 2
         },
         "mode": "lines",
         "name": "Rakdos, Lord of Riots",
         "type": "scatter",
         "visible": "legendonly",
         "x": {
          "bdata": "BAUGBwgJCgsMDQ4PEBE=",
          "dtype": "i1"
         },
         "y": {
          "bdata": "kn79sYqkJECSfv2xiqQkQJJ+/bGKpCRAkn79sYqkJECSfv2xiqQkQJJ+/bGKpCRAkn79sYqkJECSfv2xiqQkQJJ+/bGKpCRAEgCl0ONsJEASAKXQ42wkQBIApdDjbCRAEgCl0ONsJEASAKXQ42wkQA==",
          "dtype": "f8"
         }
        },
        {
         "hoverinfo": "x+y+name",
         "legendgroup": "Rona, Herald of Invasion // Rona, Tolarian Obliterator",
         "line": {
          "color": "hsla(240, 70%, 50%, 1.0)",
          "width": 2
         },
         "mode": "lines",
         "name": "Rona, Herald of Invasion // Rona, Tolarian Obliterator",
         "type": "scatter",
         "visible": "legendonly",
         "x": {
          "bdata": "Dg8QEQ==",
          "dtype": "i1"
         },
         "y": {
          "bdata": "NPNUBdGXIUA081QF0ZchQDTzVAXRlyFANPNUBdGXIUA=",
          "dtype": "f8"
         }
        },
        {
         "hoverinfo": "x+y+name",
         "legendgroup": "Saruman, the White Hand",
         "line": {
          "color": "hsla(250, 70%, 50%, 1.0)",
          "width": 2
         },
         "mode": "lines",
         "name": "Saruman, the White Hand",
         "type": "scatter",
         "visible": "legendonly",
         "x": {
          "bdata": "CwwNDg8QEQ==",
          "dtype": "i1"
         },
         "y": {
          "bdata": "jr2asiqkKECOvZqyKqQoQI69mrIqpChAjr2asiqkKECOvZqyKqQoQI69mrIqpChAjr2asiqkKEA=",
          "dtype": "f8"
         }
        },
        {
         "hoverinfo": "x+y+name",
         "legendgroup": "Satya, Aetherflux Genius",
         "line": {
          "color": "hsla(260, 70%, 50%, 1.0)",
          "width": 2
         },
         "mode": "lines",
         "name": "Satya, Aetherflux Genius",
         "type": "scatter",
         "visible": "legendonly",
         "x": {
          "bdata": "EBE=",
          "dtype": "i1"
         },
         "y": {
          "bdata": "CuS6fKcTHkAK5Lp8pxMeQA==",
          "dtype": "f8"
         }
        },
        {
         "hoverinfo": "x+y+name",
         "legendgroup": "Temmet, Naktamun's Will",
         "line": {
          "color": "hsla(270, 70%, 50%, 1.0)",
          "width": 2
         },
         "mode": "lines",
         "name": "Temmet, Naktamun's Will",
         "type": "scatter",
         "visible": "legendonly",
         "x": {
          "bdata": "CAkKCwwNDg8QEQ==",
          "dtype": "i1"
         },
         "y": {
          "bdata": "fIzML0QaEkB8jMwvRBoSQHyMzC9EGhJAfIzML0QaEkB8jMwvRBoSQHyMzC9EGhJAfIzML0QaEkB8jMwvRBoSQHyMzC9EGhJAfIzML0QaEkA=",
          "dtype": "f8"
         }
        },
        {
         "hoverinfo": "x+y+name",
         "legendgroup": "The Jolly Balloon Man",
         "line": {
          "color": "hsla(280, 70%, 50%, 1.0)",
          "width": 2
         },
         "mode": "lines",
         "name": "The Jolly Balloon Man",
         "type": "scatter",
         "visible": "legendonly",
         "x": {
          "bdata": "AgMEBQYHCAkKCwwNDg8QEQ==",
          "dtype": "i1"
         },
         "y": {
          "bdata": "uNPPGDWyEEC4088YNbIQQLjTzxg1shBAuNPPGDWyEEC4088YNbIQQLjTzxg1shBAuNPPGDWyEEC4088YNbIQQHAeFRlY+xtAcB4VGVj7G0BwHhUZWPsbQIhzTKdnaiNAiHNMp2dqI0CIc0ynZ2ojQPrjrjEriSZA+uOuMSuJJkA=",
          "dtype": "f8"
         }
        },
        {
         "hoverinfo": "x+y+name",
         "legendgroup": "Tom Bobadil",
         "line": {
          "color": "hsla(290, 70%, 50%, 1.0)",
          "width": 2
         },
         "mode": "lines",
         "name": "Tom Bobadil",
         "type": "scatter",
         "visible": "legendonly",
         "x": {
          "bdata": "BwgJCgsMDQ4PEBE=",
          "dtype": "i1"
         },
         "y": {
          "bdata": "wIZpyPgEEUDAhmnI+AQRQMCGacj4BBFAwIZpyPgEEUDAhmnI+AQRQMCGacj4BBFAwIZpyPgEEUDAhmnI+AQRQMCGacj4BBFAwIZpyPgEEUDAhmnI+AQRQA==",
          "dtype": "f8"
         }
        },
        {
         "hoverinfo": "x+y+name",
         "legendgroup": "Ulalek, Fused Atrocity",
         "line": {
          "color": "hsla(300, 70%, 50%, 1.0)",
          "width": 2
         },
         "mode": "lines",
         "name": "Ulalek, Fused Atrocity",
         "type": "scatter",
         "visible": "legendonly",
         "x": {
          "bdata": "DxAR",
          "dtype": "i1"
         },
         "y": {
          "bdata": "EKv8myQ+GUAQq/ybJD4ZQBCr/JskPhlA",
          "dtype": "f8"
         }
        },
        {
         "hoverinfo": "x+y+name",
         "legendgroup": "Umbris, Fear Manifest",
         "line": {
          "color": "hsla(310, 70%, 50%, 1.0)",
          "width": 2
         },
         "mode": "lines",
         "name": "Umbris, Fear Manifest",
         "type": "scatter",
         "visible": "legendonly",
         "x": {
          "bdata": "AgMEBQYHCAkKCwwNDg8QEQ==",
          "dtype": "i1"
         },
         "y": {
          "bdata": "rJFV+hiwEECskVX6GLAQQKyRVfoYsBBArJFV+hiwEECskVX6GLAQQKyRVfoYsBBArJFV+hiwEECskVX6GLAQQKyRVfoYsBBArJFV+hiwEECskVX6GLAQQKyRVfoYsBBArJFV+hiwEEAVtQyrFGcmQBW1DKsUZyZAFbUMqxRnJkA=",
          "dtype": "f8"
         }
        },
        {
         "hoverinfo": "x+y+name",
         "legendgroup": "Valgavoth, Harrower of Souls",
         "line": {
          "color": "hsla(320, 70%, 50%, 1.0)",
          "width": 2
         },
         "mode": "lines",
         "name": "Valgavoth, Harrower of Souls",
         "type": "scatter",
         "visible": "legendonly",
         "x": {
          "bdata": "BAUGBwgJCgsMDQ4PEBE=",
          "dtype": "i1"
         },
         "y": {
          "bdata": "dHIZ4e05GEB0chnh7TkYQHRyGeHtORhAdHIZ4e05GEB0chnh7TkYQHRyGeHtORhAdHIZ4e05GEB0chnh7TkYQMvfgUljtypAy9+BSWO3KkDL34FJY7cqQMvfgUljtypAy9+BSWO3KkDL34FJY7cqQA==",
          "dtype": "f8"
         }
        },
        {
         "hoverinfo": "x+y+name",
         "legendgroup": "Vnwxt, Verbose Host",
         "line": {
          "color": "hsla(330, 70%, 50%, 1.0)",
          "width": 2
         },
         "mode": "lines",
         "name": "Vnwxt, Verbose Host",
         "type": "scatter",
         "visible": "legendonly",
         "x": {
          "bdata": "AwQFBgcICQoLDA0ODxAR",
          "dtype": "i1"
         },
         "y": {
          "bdata": "XF1IcZKmHUDI3f5qrawhQMjd/mqtrCFAyN3+aq2sIUBeo9qu3BQpQF6j2q7cFClAXqPartwUKUBeo9qu3BQpQF6j2q7cFClAfsYFEeEKK0B+xgUR4QorQKJo6R/LXixAomjpH8teLECiaOkfy14sQKJo6R/LXixA",
          "dtype": "f8"
         }
        },
        {
         "hoverinfo": "x+y+name",
         "legendgroup": "Y'shtola, Night's Blessed",
         "line": {
          "color": "hsla(340, 70%, 50%, 1.0)",
          "width": 2
         },
         "mode": "lines",
         "name": "Y'shtola, Night's Blessed",
         "type": "scatter",
         "visible": "legendonly",
         "x": {
          "bdata": "Dg8QEQ==",
          "dtype": "i1"
         },
         "y": {
          "bdata": "ysZR/ag4J0DKxlH9qDgnQMrGUf2oOCdAysZR/ag4J0A=",
          "dtype": "f8"
         }
        },
        {
         "hoverinfo": "x+y+name",
         "legendgroup": "Zedruu the Greathearted",
         "line": {
          "color": "hsla(350, 70%, 50%, 1.0)",
          "width": 2
         },
         "mode": "lines",
         "name": "Zedruu the Greathearted",
         "type": "scatter",
         "visible": "legendonly",
         "x": {
          "bdata": "CQoLDA0ODxAR",
          "dtype": "i1"
         },
         "y": {
          "bdata": "uNPPGDWyEEC4088YNbIQQLjTzxg1shBAuNPPGDWyEEC4088YNbIQQLjTzxg1shBAuNPPGDWyEEC4088YNbIQQLjTzxg1shBA",
          "dtype": "f8"
         }
        }
       ],
       "layout": {
        "hovermode": "x unified",
        "legend": {
         "title": {
          "text": "Commander"
         }
        },
        "template": {
         "data": {
          "bar": [
           {
            "error_x": {
             "color": "#2a3f5f"
            },
            "error_y": {
             "color": "#2a3f5f"
            },
            "marker": {
             "line": {
              "color": "white",
              "width": 0.5
             },
             "pattern": {
              "fillmode": "overlay",
              "size": 10,
              "solidity": 0.2
             }
            },
            "type": "bar"
           }
          ],
          "barpolar": [
           {
            "marker": {
             "line": {
              "color": "white",
              "width": 0.5
             },
             "pattern": {
              "fillmode": "overlay",
              "size": 10,
              "solidity": 0.2
             }
            },
            "type": "barpolar"
           }
          ],
          "carpet": [
           {
            "aaxis": {
             "endlinecolor": "#2a3f5f",
             "gridcolor": "#C8D4E3",
             "linecolor": "#C8D4E3",
             "minorgridcolor": "#C8D4E3",
             "startlinecolor": "#2a3f5f"
            },
            "baxis": {
             "endlinecolor": "#2a3f5f",
             "gridcolor": "#C8D4E3",
             "linecolor": "#C8D4E3",
             "minorgridcolor": "#C8D4E3",
             "startlinecolor": "#2a3f5f"
            },
            "type": "carpet"
           }
          ],
          "choropleth": [
           {
            "colorbar": {
             "outlinewidth": 0,
             "ticks": ""
            },
            "type": "choropleth"
           }
          ],
          "contour": [
           {
            "colorbar": {
             "outlinewidth": 0,
             "ticks": ""
            },
            "colorscale": [
             [
              0,
              "#0d0887"
             ],
             [
              0.1111111111111111,
              "#46039f"
             ],
             [
              0.2222222222222222,
              "#7201a8"
             ],
             [
              0.3333333333333333,
              "#9c179e"
             ],
             [
              0.4444444444444444,
              "#bd3786"
             ],
             [
              0.5555555555555556,
              "#d8576b"
             ],
             [
              0.6666666666666666,
              "#ed7953"
             ],
             [
              0.7777777777777778,
              "#fb9f3a"
             ],
             [
              0.8888888888888888,
              "#fdca26"
             ],
             [
              1,
              "#f0f921"
             ]
            ],
            "type": "contour"
           }
          ],
          "contourcarpet": [
           {
            "colorbar": {
             "outlinewidth": 0,
             "ticks": ""
            },
            "type": "contourcarpet"
           }
          ],
          "heatmap": [
           {
            "colorbar": {
             "outlinewidth": 0,
             "ticks": ""
            },
            "colorscale": [
             [
              0,
              "#0d0887"
             ],
             [
              0.1111111111111111,
              "#46039f"
             ],
             [
              0.2222222222222222,
              "#7201a8"
             ],
             [
              0.3333333333333333,
              "#9c179e"
             ],
             [
              0.4444444444444444,
              "#bd3786"
             ],
             [
              0.5555555555555556,
              "#d8576b"
             ],
             [
              0.6666666666666666,
              "#ed7953"
             ],
             [
              0.7777777777777778,
              "#fb9f3a"
             ],
             [
              0.8888888888888888,
              "#fdca26"
             ],
             [
              1,
              "#f0f921"
             ]
            ],
            "type": "heatmap"
           }
          ],
          "histogram": [
           {
            "marker": {
             "pattern": {
              "fillmode": "overlay",
              "size": 10,
              "solidity": 0.2
             }
            },
            "type": "histogram"
           }
          ],
          "histogram2d": [
           {
            "colorbar": {
             "outlinewidth": 0,
             "ticks": ""
            },
            "colorscale": [
             [
              0,
              "#0d0887"
             ],
             [
              0.1111111111111111,
              "#46039f"
             ],
             [
              0.2222222222222222,
              "#7201a8"
             ],
             [
              0.3333333333333333,
              "#9c179e"
             ],
             [
              0.4444444444444444,
              "#bd3786"
             ],
             [
              0.5555555555555556,
              "#d8576b"
             ],
             [
              0.6666666666666666,
              "#ed7953"
             ],
             [
              0.7777777777777778,
              "#fb9f3a"
             ],
             [
              0.8888888888888888,
              "#fdca26"
             ],
             [
              1,
              "#f0f921"
             ]
            ],
            "type": "histogram2d"
           }
          ],
          "histogram2dcontour": [
           {
            "colorbar": {
             "outlinewidth": 0,
             "ticks": ""
            },
            "colorscale": [
             [
              0,
              "#0d0887"
             ],
             [
              0.1111111111111111,
              "#46039f"
             ],
             [
              0.2222222222222222,
              "#7201a8"
             ],
             [
              0.3333333333333333,
              "#9c179e"
             ],
             [
              0.4444444444444444,
              "#bd3786"
             ],
             [
              0.5555555555555556,
              "#d8576b"
             ],
             [
              0.6666666666666666,
              "#ed7953"
             ],
             [
              0.7777777777777778,
              "#fb9f3a"
             ],
             [
              0.8888888888888888,
              "#fdca26"
             ],
             [
              1,
              "#f0f921"
             ]
            ],
            "type": "histogram2dcontour"
           }
          ],
          "mesh3d": [
           {
            "colorbar": {
             "outlinewidth": 0,
             "ticks": ""
            },
            "type": "mesh3d"
           }
          ],
          "parcoords": [
           {
            "line": {
             "colorbar": {
              "outlinewidth": 0,
              "ticks": ""
             }
            },
            "type": "parcoords"
           }
          ],
          "pie": [
           {
            "automargin": true,
            "type": "pie"
           }
          ],
          "scatter": [
           {
            "fillpattern": {
             "fillmode": "overlay",
             "size": 10,
             "solidity": 0.2
            },
            "type": "scatter"
           }
          ],
          "scatter3d": [
           {
            "line": {
             "colorbar": {
              "outlinewidth": 0,
              "ticks": ""
             }
            },
            "marker": {
             "colorbar": {
              "outlinewidth": 0,
              "ticks": ""
             }
            },
            "type": "scatter3d"
           }
          ],
          "scattercarpet": [
           {
            "marker": {
             "colorbar": {
              "outlinewidth": 0,
              "ticks": ""
             }
            },
            "type": "scattercarpet"
           }
          ],
          "scattergeo": [
           {
            "marker": {
             "colorbar": {
              "outlinewidth": 0,
              "ticks": ""
             }
            },
            "type": "scattergeo"
           }
          ],
          "scattergl": [
           {
            "marker": {
             "colorbar": {
              "outlinewidth": 0,
              "ticks": ""
             }
            },
            "type": "scattergl"
           }
          ],
          "scattermap": [
           {
            "marker": {
             "colorbar": {
              "outlinewidth": 0,
              "ticks": ""
             }
            },
            "type": "scattermap"
           }
          ],
          "scattermapbox": [
           {
            "marker": {
             "colorbar": {
              "outlinewidth": 0,
              "ticks": ""
             }
            },
            "type": "scattermapbox"
           }
          ],
          "scatterpolar": [
           {
            "marker": {
             "colorbar": {
              "outlinewidth": 0,
              "ticks": ""
             }
            },
            "type": "scatterpolar"
           }
          ],
          "scatterpolargl": [
           {
            "marker": {
             "colorbar": {
              "outlinewidth": 0,
              "ticks": ""
             }
            },
            "type": "scatterpolargl"
           }
          ],
          "scatterternary": [
           {
            "marker": {
             "colorbar": {
              "outlinewidth": 0,
              "ticks": ""
             }
            },
            "type": "scatterternary"
           }
          ],
          "surface": [
           {
            "colorbar": {
             "outlinewidth": 0,
             "ticks": ""
            },
            "colorscale": [
             [
              0,
              "#0d0887"
             ],
             [
              0.1111111111111111,
              "#46039f"
             ],
             [
              0.2222222222222222,
              "#7201a8"
             ],
             [
              0.3333333333333333,
              "#9c179e"
             ],
             [
              0.4444444444444444,
              "#bd3786"
             ],
             [
              0.5555555555555556,
              "#d8576b"
             ],
             [
              0.6666666666666666,
              "#ed7953"
             ],
             [
              0.7777777777777778,
              "#fb9f3a"
             ],
             [
              0.8888888888888888,
              "#fdca26"
             ],
             [
              1,
              "#f0f921"
             ]
            ],
            "type": "surface"
           }
          ],
          "table": [
           {
            "cells": {
             "fill": {
              "color": "#EBF0F8"
             },
             "line": {
              "color": "white"
             }
            },
            "header": {
             "fill": {
              "color": "#C8D4E3"
             },
             "line": {
              "color": "white"
             }
            },
            "type": "table"
           }
          ]
         },
         "layout": {
          "annotationdefaults": {
           "arrowcolor": "#2a3f5f",
           "arrowhead": 0,
           "arrowwidth": 1
          },
          "autotypenumbers": "strict",
          "coloraxis": {
           "colorbar": {
            "outlinewidth": 0,
            "ticks": ""
           }
          },
          "colorscale": {
           "diverging": [
            [
             0,
             "#8e0152"
            ],
            [
             0.1,
             "#c51b7d"
            ],
            [
             0.2,
             "#de77ae"
            ],
            [
             0.3,
             "#f1b6da"
            ],
            [
             0.4,
             "#fde0ef"
            ],
            [
             0.5,
             "#f7f7f7"
            ],
            [
             0.6,
             "#e6f5d0"
            ],
            [
             0.7,
             "#b8e186"
            ],
            [
             0.8,
             "#7fbc41"
            ],
            [
             0.9,
             "#4d9221"
            ],
            [
             1,
             "#276419"
            ]
           ],
           "sequential": [
            [
             0,
             "#0d0887"
            ],
            [
             0.1111111111111111,
             "#46039f"
            ],
            [
             0.2222222222222222,
             "#7201a8"
            ],
            [
             0.3333333333333333,
             "#9c179e"
            ],
            [
             0.4444444444444444,
             "#bd3786"
            ],
            [
             0.5555555555555556,
             "#d8576b"
            ],
            [
             0.6666666666666666,
             "#ed7953"
            ],
            [
             0.7777777777777778,
             "#fb9f3a"
            ],
            [
             0.8888888888888888,
             "#fdca26"
            ],
            [
             1,
             "#f0f921"
            ]
           ],
           "sequentialminus": [
            [
             0,
             "#0d0887"
            ],
            [
             0.1111111111111111,
             "#46039f"
            ],
            [
             0.2222222222222222,
             "#7201a8"
            ],
            [
             0.3333333333333333,
             "#9c179e"
            ],
            [
             0.4444444444444444,
             "#bd3786"
            ],
            [
             0.5555555555555556,
             "#d8576b"
            ],
            [
             0.6666666666666666,
             "#ed7953"
            ],
            [
             0.7777777777777778,
             "#fb9f3a"
            ],
            [
             0.8888888888888888,
             "#fdca26"
            ],
            [
             1,
             "#f0f921"
            ]
           ]
          },
          "colorway": [
           "#636efa",
           "#EF553B",
           "#00cc96",
           "#ab63fa",
           "#FFA15A",
           "#19d3f3",
           "#FF6692",
           "#B6E880",
           "#FF97FF",
           "#FECB52"
          ],
          "font": {
           "color": "#2a3f5f"
          },
          "geo": {
           "bgcolor": "white",
           "lakecolor": "white",
           "landcolor": "white",
           "showlakes": true,
           "showland": true,
           "subunitcolor": "#C8D4E3"
          },
          "hoverlabel": {
           "align": "left"
          },
          "hovermode": "closest",
          "mapbox": {
           "style": "light"
          },
          "paper_bgcolor": "white",
          "plot_bgcolor": "white",
          "polar": {
           "angularaxis": {
            "gridcolor": "#EBF0F8",
            "linecolor": "#EBF0F8",
            "ticks": ""
           },
           "bgcolor": "white",
           "radialaxis": {
            "gridcolor": "#EBF0F8",
            "linecolor": "#EBF0F8",
            "ticks": ""
           }
          },
          "scene": {
           "xaxis": {
            "backgroundcolor": "white",
            "gridcolor": "#DFE8F3",
            "gridwidth": 2,
            "linecolor": "#EBF0F8",
            "showbackground": true,
            "ticks": "",
            "zerolinecolor": "#EBF0F8"
           },
           "yaxis": {
            "backgroundcolor": "white",
            "gridcolor": "#DFE8F3",
            "gridwidth": 2,
            "linecolor": "#EBF0F8",
            "showbackground": true,
            "ticks": "",
            "zerolinecolor": "#EBF0F8"
           },
           "zaxis": {
            "backgroundcolor": "white",
            "gridcolor": "#DFE8F3",
            "gridwidth": 2,
            "linecolor": "#EBF0F8",
            "showbackground": true,
            "ticks": "",
            "zerolinecolor": "#EBF0F8"
           }
          },
          "shapedefaults": {
           "line": {
            "color": "#2a3f5f"
           }
          },
          "ternary": {
           "aaxis": {
            "gridcolor": "#DFE8F3",
            "linecolor": "#A2B1C6",
            "ticks": ""
           },
           "baxis": {
            "gridcolor": "#DFE8F3",
            "linecolor": "#A2B1C6",
            "ticks": ""
           },
           "bgcolor": "white",
           "caxis": {
            "gridcolor": "#DFE8F3",
            "linecolor": "#A2B1C6",
            "ticks": ""
           }
          },
          "title": {
           "x": 0.05
          },
          "xaxis": {
           "automargin": true,
           "gridcolor": "#EBF0F8",
           "linecolor": "#EBF0F8",
           "ticks": "",
           "title": {
            "standoff": 15
           },
           "zerolinecolor": "#EBF0F8",
           "zerolinewidth": 2
          },
          "yaxis": {
           "automargin": true,
           "gridcolor": "#EBF0F8",
           "linecolor": "#EBF0F8",
           "ticks": "",
           "title": {
            "standoff": 15
           },
           "zerolinecolor": "#EBF0F8",
           "zerolinewidth": 2
          }
         }
        },
        "title": {
         "text": "Commander estimated Ratings "
        },
        "xaxis": {
         "title": {
          "text": "Match"
         }
        },
        "yaxis": {
         "title": {
          "text": "TrueSkill Rating"
         }
        }
       }
      }
     },
     "metadata": {},
     "output_type": "display_data"
    }
   ],
   "source": [
    "k = 3\n",
    "\n",
    "commanders_vis[\"estimated skill\"] = commanders_vis[\"TrueSkill Rating\"] - 3 * commanders_vis[\"TrueSkill StDev\"]\n",
    "\n",
    "fig = go.Figure()\n",
    "\n",
    "base_colors = generate_color_palette(len(commanders), alpha=1.0)\n",
    "\n",
    "# Get distinct colors for each commander using Plotly's qualitative color palette\n",
    "color_map_line = dict(zip(commanders, base_colors))\n",
    "\n",
    "for commander in commanders:\n",
    "    data = commanders_vis[commanders_vis['Commander'] == commander].copy()\n",
    "    data = data.sort_values('Match')\n",
    "\n",
    "    color_line = color_map_line[commander]\n",
    "\n",
    "    # Line trace\n",
    "    fig.add_trace(go.Scatter(\n",
    "        x=data['Match'], y=data['estimated skill'],\n",
    "        mode='lines',\n",
    "        name=commander,\n",
    "        legendgroup=commander,\n",
    "        line=dict(width=2, color=color_line),\n",
    "        hoverinfo='x+y+name',\n",
    "        visible='legendonly' if not commander in default_selection else True\n",
    "    ))\n",
    "\n",
    "fig.update_layout(\n",
    "    title='Commander estimated Ratings ',\n",
    "    xaxis_title='Match',\n",
    "    yaxis_title='TrueSkill Rating',\n",
    "    template='plotly_white',\n",
    "    legend_title='Commander',\n",
    "    hovermode='x unified'\n",
    ")\n",
    "\n",
    "fig.show()"
   ]
  },
  {
   "cell_type": "code",
   "execution_count": null,
   "id": "35544e2b",
   "metadata": {},
   "outputs": [],
   "source": []
  }
 ],
 "metadata": {
  "kernelspec": {
   "display_name": "venv",
   "language": "python",
   "name": "python3"
  },
  "language_info": {
   "codemirror_mode": {
    "name": "ipython",
    "version": 3
   },
   "file_extension": ".py",
   "mimetype": "text/x-python",
   "name": "python",
   "nbconvert_exporter": "python",
   "pygments_lexer": "ipython3",
   "version": "3.13.0"
  }
 },
 "nbformat": 4,
 "nbformat_minor": 5
}

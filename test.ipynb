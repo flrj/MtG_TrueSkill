{
 "cells": [
  {
   "cell_type": "code",
   "execution_count": 56,
   "id": "7f0166a5",
   "metadata": {},
   "outputs": [],
   "source": [
    "from trueskill import Rating, rate\n",
    "import pandas as pd\n",
    "import plotly.graph_objects as go\n",
    "import plotly.express as px\n",
    "import json"
   ]
  },
  {
   "cell_type": "code",
   "execution_count": 57,
   "id": "41e4f741",
   "metadata": {},
   "outputs": [],
   "source": [
    "def print_commanders(commanders, skill_estimate_k = 3):\n",
    "    commanders = {k: {\"rating\": v, \"skill estimate\": skill_estimate(v, k = skill_estimate_k)} for k, v in commanders.items()}\n",
    "    ratings = [v[\"skill estimate\"] for v in commanders.values()]\n",
    "    rankings = sorted(range(len(ratings)), key=lambda i: ratings[i], reverse=True)\n",
    "    for i, rank in enumerate(rankings):\n",
    "        print(f\"{i + 1}. {list(commanders.keys())[rank]} - {list(commanders.values())[rank]}\")"
   ]
  },
  {
   "cell_type": "code",
   "execution_count": 58,
   "id": "b96ca348",
   "metadata": {},
   "outputs": [],
   "source": [
    "def skill_estimate(rating, k = 3):\n",
    "    \"\"\"\n",
    "    Calculate the conservative skill estimate for a given rating.\n",
    "    This is the mu value minus k times the sigma value.\n",
    "    \"\"\"\n",
    "    return float(rating.mu) - k * float(rating.sigma)"
   ]
  },
  {
   "cell_type": "code",
   "execution_count": 59,
   "id": "44e0f67a",
   "metadata": {},
   "outputs": [],
   "source": [
    "with open(\"results.json\") as results_file:\n",
    "    results = json.load(results_file)"
   ]
  },
  {
   "cell_type": "code",
   "execution_count": 60,
   "id": "e3607593",
   "metadata": {},
   "outputs": [
    {
     "name": "stdout",
     "output_type": "stream",
     "text": [
      "{'Ojer Axonil, Deepest Might', \"Atraxa, Praetors' Voice\", 'Zedruu the Greathearted', 'Aminatou, Veil Piercer', 'Gandalf, Westward Voyager', 'Clavileño, First of the Blessed', \"Eshki, Temur's Roar\", 'Valgavoth, Harrower of Souls', 'Dionus, Elvish Archdruid', 'Maha, Its Feathers Night', 'Kianne, Corrupted Memory', 'Lord Windgrace', 'Umbris, Fear Manifest', 'Frodo, Adventurous Hobbit // Sam, Loyal Attendant', 'Nekusar, the Mindrazer', 'Krenko, Mob Boss', 'The Jolly Balloon Man', 'Rakdos, Lord of Riots', 'Bria, Riptide Rogue', 'Hazel of the Rootbloom', \"Temmet, Naktamun's Will\", 'Tom Bobadil', 'Vnwxt, Verbose Host', 'Omo, Queen of Vesuva', 'Saruman, the White Hand'}\n",
      "{'Julian', 'Simon', 'Sebastian'}\n"
     ]
    }
   ],
   "source": [
    "commanders = set()\n",
    "players = set()\n",
    "\n",
    "for match in results:\n",
    "    commanders.update([winner[\"commander\"] for winner in match[\"winners\"]])\n",
    "    commanders.update([loser[\"commander\"] for loser in match[\"losers\"]])\n",
    "    players.update([winner[\"player\"] for winner in match[\"winners\"]])\n",
    "    players.update([loser[\"player\"] for loser in match[\"losers\"]])\n",
    "\n",
    "print(commanders)\n",
    "print(players)\n",
    "\n",
    "\n",
    "commanders = {commander: Rating() for commander in commanders}\n",
    "players = {player: Rating() for player in players}"
   ]
  },
  {
   "cell_type": "code",
   "execution_count": 61,
   "id": "fc6ebb0b",
   "metadata": {},
   "outputs": [],
   "source": [
    "# commanders = players"
   ]
  },
  {
   "cell_type": "code",
   "execution_count": 62,
   "id": "53a6ac74",
   "metadata": {},
   "outputs": [
    {
     "name": "stdout",
     "output_type": "stream",
     "text": [
      "1. Ojer Axonil, Deepest Might - {'rating': trueskill.Rating(mu=25.000, sigma=8.333), 'skill estimate': 0.0}\n",
      "2. Atraxa, Praetors' Voice - {'rating': trueskill.Rating(mu=25.000, sigma=8.333), 'skill estimate': 0.0}\n",
      "3. Zedruu the Greathearted - {'rating': trueskill.Rating(mu=25.000, sigma=8.333), 'skill estimate': 0.0}\n",
      "4. Aminatou, Veil Piercer - {'rating': trueskill.Rating(mu=25.000, sigma=8.333), 'skill estimate': 0.0}\n",
      "5. Gandalf, Westward Voyager - {'rating': trueskill.Rating(mu=25.000, sigma=8.333), 'skill estimate': 0.0}\n",
      "6. Clavileño, First of the Blessed - {'rating': trueskill.Rating(mu=25.000, sigma=8.333), 'skill estimate': 0.0}\n",
      "7. Eshki, Temur's Roar - {'rating': trueskill.Rating(mu=25.000, sigma=8.333), 'skill estimate': 0.0}\n",
      "8. Valgavoth, Harrower of Souls - {'rating': trueskill.Rating(mu=25.000, sigma=8.333), 'skill estimate': 0.0}\n",
      "9. Dionus, Elvish Archdruid - {'rating': trueskill.Rating(mu=25.000, sigma=8.333), 'skill estimate': 0.0}\n",
      "10. Maha, Its Feathers Night - {'rating': trueskill.Rating(mu=25.000, sigma=8.333), 'skill estimate': 0.0}\n",
      "11. Kianne, Corrupted Memory - {'rating': trueskill.Rating(mu=25.000, sigma=8.333), 'skill estimate': 0.0}\n",
      "12. Lord Windgrace - {'rating': trueskill.Rating(mu=25.000, sigma=8.333), 'skill estimate': 0.0}\n",
      "13. Umbris, Fear Manifest - {'rating': trueskill.Rating(mu=25.000, sigma=8.333), 'skill estimate': 0.0}\n",
      "14. Frodo, Adventurous Hobbit // Sam, Loyal Attendant - {'rating': trueskill.Rating(mu=25.000, sigma=8.333), 'skill estimate': 0.0}\n",
      "15. Nekusar, the Mindrazer - {'rating': trueskill.Rating(mu=25.000, sigma=8.333), 'skill estimate': 0.0}\n",
      "16. Krenko, Mob Boss - {'rating': trueskill.Rating(mu=25.000, sigma=8.333), 'skill estimate': 0.0}\n",
      "17. The Jolly Balloon Man - {'rating': trueskill.Rating(mu=25.000, sigma=8.333), 'skill estimate': 0.0}\n",
      "18. Rakdos, Lord of Riots - {'rating': trueskill.Rating(mu=25.000, sigma=8.333), 'skill estimate': 0.0}\n",
      "19. Bria, Riptide Rogue - {'rating': trueskill.Rating(mu=25.000, sigma=8.333), 'skill estimate': 0.0}\n",
      "20. Hazel of the Rootbloom - {'rating': trueskill.Rating(mu=25.000, sigma=8.333), 'skill estimate': 0.0}\n",
      "21. Temmet, Naktamun's Will - {'rating': trueskill.Rating(mu=25.000, sigma=8.333), 'skill estimate': 0.0}\n",
      "22. Tom Bobadil - {'rating': trueskill.Rating(mu=25.000, sigma=8.333), 'skill estimate': 0.0}\n",
      "23. Vnwxt, Verbose Host - {'rating': trueskill.Rating(mu=25.000, sigma=8.333), 'skill estimate': 0.0}\n",
      "24. Omo, Queen of Vesuva - {'rating': trueskill.Rating(mu=25.000, sigma=8.333), 'skill estimate': 0.0}\n",
      "25. Saruman, the White Hand - {'rating': trueskill.Rating(mu=25.000, sigma=8.333), 'skill estimate': 0.0}\n"
     ]
    }
   ],
   "source": [
    "print_commanders(commanders)"
   ]
  },
  {
   "cell_type": "code",
   "execution_count": 63,
   "id": "f4b21cc3",
   "metadata": {},
   "outputs": [],
   "source": [
    "commanders_vis = pd.DataFrame(columns=[\"Match\", \"Commander\", \"TrueSkill Rating\", \"TrueSkill StDev\"])\n",
    "\n",
    "for i, match in enumerate(results):\n",
    "    # print(\"\\nMatch \", i + 1, \" on \", match[\"date\"], \":\", sep=\"\")\n",
    "    commander_winners = [winner[\"commander\"] for winner in match[\"winners\"]]\n",
    "    commander_losers = [loser[\"commander\"] for loser in match[\"losers\"]]\n",
    "    commanders_in_match = commander_winners + commander_losers\n",
    "    \n",
    "    # print(\"Ratings before match:\")\n",
    "    # print_commanders({commander: commanders[commander] for commander in commanders_in_match})\n",
    "\n",
    "    # print(\"\\nWinners:\", end=\" \")\n",
    "    # for winner in commander_winners[:(len(commander_winners)-1)]:\n",
    "    #     print(winner, end=\"; \")\n",
    "    # print(commander_winners[-1])\n",
    "    # print(\"Losers:\", end=\" \")\n",
    "    # for loser in commander_losers[:(len(commander_losers)-1)]:\n",
    "    #     print(loser, end=\"; \")\n",
    "    # print(commander_losers[-1])\n",
    "    \n",
    "    teams = [{commander: commanders[commander]} for commander in commander_winners] + \\\n",
    "             [{commander: commanders[commander]} for commander in commander_losers]\n",
    "    ranks = [0] * len(commander_winners) + [1] * len(commander_losers)\n",
    "    result = rate(teams, ranks=ranks)\n",
    "\n",
    "    for team in result:\n",
    "        for commander in team:\n",
    "            commanders[commander] = team[commander]\n",
    "\n",
    "    # print(\"\\nRatings after match:\")\n",
    "    # print_commanders({commander: commanders[commander] for commander in commanders_in_match})\n",
    "\n",
    "    current_match = pd.DataFrame({\n",
    "        \"Match\": i + 1,\n",
    "        \"Commander\": commanders_in_match,\n",
    "        \"TrueSkill Rating\": [commanders[commander].mu for commander in commanders_in_match],\n",
    "        \"TrueSkill StDev\": [commanders[commander].sigma for commander in commanders_in_match]\n",
    "    })\n",
    "\n",
    "    if commanders_vis.empty:\n",
    "        commanders_vis = current_match\n",
    "    else:\n",
    "        previous_matches = commanders_vis[(commanders_vis[\"Match\"] == i) & (~commanders_vis[\"Commander\"].isin(commanders_in_match))]\n",
    "        previous_matches.loc[:,\"Match\"] = i + 1\n",
    "\n",
    "        commanders_vis = pd.concat([commanders_vis, current_match, previous_matches], ignore_index=True)"
   ]
  },
  {
   "cell_type": "code",
   "execution_count": 64,
   "id": "453b6625",
   "metadata": {},
   "outputs": [
    {
     "name": "stdout",
     "output_type": "stream",
     "text": [
      "1. Lord Windgrace - {'rating': trueskill.Rating(mu=32.064, sigma=5.942), 'skill estimate': 14.236644655978836}\n",
      "2. Vnwxt, Verbose Host - {'rating': trueskill.Rating(mu=24.280, sigma=3.586), 'skill estimate': 13.521248371081352}\n",
      "3. Valgavoth, Harrower of Souls - {'rating': trueskill.Rating(mu=26.925, sigma=4.522), 'skill estimate': 13.358179375747474}\n",
      "4. Saruman, the White Hand - {'rating': trueskill.Rating(mu=31.614, sigma=6.431), 'skill estimate': 12.320638257397857}\n",
      "5. Ojer Axonil, Deepest Might - {'rating': trueskill.Rating(mu=26.656, sigma=4.904), 'skill estimate': 11.94444153356054}\n",
      "6. Bria, Riptide Rogue - {'rating': trueskill.Rating(mu=25.374, sigma=4.632), 'skill estimate': 11.4771499201016}\n",
      "7. Kianne, Corrupted Memory - {'rating': trueskill.Rating(mu=26.730, sigma=5.120), 'skill estimate': 11.369271470120268}\n",
      "8. Nekusar, the Mindrazer - {'rating': trueskill.Rating(mu=24.474, sigma=4.393), 'skill estimate': 11.29468710622712}\n",
      "9. Krenko, Mob Boss - {'rating': trueskill.Rating(mu=26.158, sigma=5.138), 'skill estimate': 10.745548989011155}\n",
      "10. Rakdos, Lord of Riots - {'rating': trueskill.Rating(mu=24.302, sigma=4.696), 'skill estimate': 10.21267559065021}\n",
      "11. Gandalf, Westward Voyager - {'rating': trueskill.Rating(mu=30.109, sigma=6.735), 'skill estimate': 9.903563243807653}\n",
      "12. Omo, Queen of Vesuva - {'rating': trueskill.Rating(mu=30.109, sigma=6.735), 'skill estimate': 9.903563243807653}\n",
      "13. The Jolly Balloon Man - {'rating': trueskill.Rating(mu=21.701, sigma=3.998), 'skill estimate': 9.70782206352466}\n",
      "14. Eshki, Temur's Roar - {'rating': trueskill.Rating(mu=25.051, sigma=5.643), 'skill estimate': 8.123623851069237}\n",
      "15. Maha, Its Feathers Night - {'rating': trueskill.Rating(mu=22.068, sigma=5.579), 'skill estimate': 5.331329650454695}\n",
      "16. Aminatou, Veil Piercer - {'rating': trueskill.Rating(mu=22.443, sigma=5.972), 'skill estimate': 4.526639780725894}\n",
      "17. Clavileño, First of the Blessed - {'rating': trueskill.Rating(mu=22.443, sigma=5.972), 'skill estimate': 4.526639780725894}\n",
      "18. Atraxa, Praetors' Voice - {'rating': trueskill.Rating(mu=22.448, sigma=5.974), 'skill estimate': 4.525650736674944}\n",
      "19. Frodo, Adventurous Hobbit // Sam, Loyal Attendant - {'rating': trueskill.Rating(mu=22.448, sigma=5.974), 'skill estimate': 4.525650736674944}\n",
      "20. Temmet, Naktamun's Will - {'rating': trueskill.Rating(mu=22.448, sigma=5.974), 'skill estimate': 4.525650736674944}\n",
      "21. Tom Bobadil - {'rating': trueskill.Rating(mu=21.033, sigma=5.593), 'skill estimate': 4.254855281296557}\n",
      "22. Hazel of the Rootbloom - {'rating': trueskill.Rating(mu=21.041, sigma=5.596), 'skill estimate': 4.25146215937756}\n",
      "23. Zedruu the Greathearted - {'rating': trueskill.Rating(mu=21.379, sigma=5.735), 'skill estimate': 4.174030673680072}\n",
      "24. Dionus, Elvish Archdruid - {'rating': trueskill.Rating(mu=21.387, sigma=5.738), 'skill estimate': 4.171970283005447}\n",
      "25. Umbris, Fear Manifest - {'rating': trueskill.Rating(mu=21.387, sigma=5.738), 'skill estimate': 4.171970283005447}\n"
     ]
    }
   ],
   "source": [
    "print_commanders(commanders)"
   ]
  },
  {
   "cell_type": "code",
   "execution_count": 65,
   "id": "22049565",
   "metadata": {},
   "outputs": [],
   "source": [
    "def generate_color_palette(n, alpha=1.0):\n",
    "    return [\n",
    "        f\"hsla({h}, 70%, 50%, {alpha})\"\n",
    "        for h in range(0, 360, int(360 / n))\n",
    "    ]"
   ]
  },
  {
   "cell_type": "code",
   "execution_count": 66,
   "id": "99fa2f7e",
   "metadata": {},
   "outputs": [
    {
     "data": {
      "application/vnd.plotly.v1+json": {
       "config": {
        "plotlyServerURL": "https://plot.ly"
       },
       "data": [
        {
         "hoverinfo": "x+y+name",
         "legendgroup": "Aminatou, Veil Piercer",
         "line": {
          "color": "hsla(0, 70%, 50%, 1.0)",
          "width": 2
         },
         "mode": "lines",
         "name": "Aminatou, Veil Piercer",
         "type": "scatter",
         "x": {
          "bdata": "BQYHCAkKCwwN",
          "dtype": "i1"
         },
         "y": {
          "bdata": "amPXQ1JxNkBqY9dDUnE2QGpj10NScTZAamPXQ1JxNkBqY9dDUnE2QGpj10NScTZAamPXQ1JxNkBqY9dDUnE2QGpj10NScTZA",
          "dtype": "f8"
         }
        },
        {
         "fill": "toself",
         "fillcolor": "hsla(0, 70%, 50%, 0.1)",
         "hoverinfo": "skip",
         "legendgroup": "Aminatou, Veil Piercer",
         "line": {
          "color": "rgba(255,255,255,0)"
         },
         "showlegend": false,
         "type": "scatter",
         "x": {
          "bdata": "BQYHCAkKCwwNDQwLCgkIBwYF",
          "dtype": "i1"
         },
         "y": {
          "bdata": "DDBWuydqPEAMMFa7J2o8QAwwVrsnajxADDBWuydqPEAMMFa7J2o8QAwwVrsnajxADDBWuydqPEAMMFa7J2o8QAwwVrsnajxAyJZYzHx4MEDIlljMfHgwQMiWWMx8eDBAyJZYzHx4MEDIlljMfHgwQMiWWMx8eDBAyJZYzHx4MEDIlljMfHgwQMiWWMx8eDBA",
          "dtype": "f8"
         }
        },
        {
         "hoverinfo": "x+y+name",
         "legendgroup": "Atraxa, Praetors' Voice",
         "line": {
          "color": "hsla(14, 70%, 50%, 1.0)",
          "width": 2
         },
         "mode": "lines",
         "name": "Atraxa, Praetors' Voice",
         "type": "scatter",
         "x": {
          "bdata": "AQIDBAUGBwgJCgsMDQ==",
          "dtype": "i1"
         },
         "y": {
          "bdata": "qUGJurJyNkCpQYm6snI2QKlBibqycjZAqUGJurJyNkCpQYm6snI2QKlBibqycjZAqUGJurJyNkCpQYm6snI2QKlBibqycjZAqUGJurJyNkCpQYm6snI2QKlBibqycjZAqUGJurJyNkA=",
          "dtype": "f8"
         }
        },
        {
         "fill": "toself",
         "fillcolor": "hsla(14, 70%, 50%, 0.1)",
         "hoverinfo": "skip",
         "legendgroup": "Atraxa, Praetors' Voice",
         "line": {
          "color": "rgba(255,255,255,0)"
         },
         "showlegend": false,
         "type": "scatter",
         "x": {
          "bdata": "AQIDBAUGBwgJCgsMDQ0MCwoJCAcGBQQDAgE=",
          "dtype": "i1"
         },
         "y": {
          "bdata": "LKEQShNsPEAsoRBKE2w8QCyhEEoTbDxALKEQShNsPEAsoRBKE2w8QCyhEEoTbDxALKEQShNsPEAsoRBKE2w8QCyhEEoTbDxALKEQShNsPEAsoRBKE2w8QCyhEEoTbDxALKEQShNsPEAm4gErUnkwQCbiAStSeTBAJuIBK1J5MEAm4gErUnkwQCbiAStSeTBAJuIBK1J5MEAm4gErUnkwQCbiAStSeTBAJuIBK1J5MEAm4gErUnkwQCbiAStSeTBAJuIBK1J5MEAm4gErUnkwQA==",
          "dtype": "f8"
         }
        },
        {
         "hoverinfo": "x+y+name",
         "legendgroup": "Bria, Riptide Rogue",
         "line": {
          "color": "hsla(28, 70%, 50%, 1.0)",
          "width": 2
         },
         "mode": "lines",
         "name": "Bria, Riptide Rogue",
         "type": "scatter",
         "x": {
          "bdata": "BgcICQoLDA0=",
          "dtype": "i1"
         },
         "y": {
          "bdata": "6VqfAfsbPkDpWp8B+xs+QOlanwH7Gz5A6VqfAfsbPkDpWp8B+xs+QOlanwH7Gz5AXIyJf89fOUBcjIl/z185QA==",
          "dtype": "f8"
         }
        },
        {
         "fill": "toself",
         "fillcolor": "hsla(28, 70%, 50%, 0.1)",
         "hoverinfo": "skip",
         "legendgroup": "Bria, Riptide Rogue",
         "line": {
          "color": "rgba(255,255,255,0)"
         },
         "showlegend": false,
         "type": "scatter",
         "x": {
          "bdata": "BgcICQoLDA0NDAsKCQgHBg==",
          "dtype": "i1"
         },
         "y": {
          "bdata": "BZF2BBpsQkAFkXYEGmxCQAWRdgQabEJABZF2BBpsQkAFkXYEGmxCQAWRdgQabEJAyAWgf7IBPkDIBaB/sgE+QPASc3/svTRA8BJzf+y9NEDHk1H6wV83QMeTUfrBXzdAx5NR+sFfN0DHk1H6wV83QMeTUfrBXzdAx5NR+sFfN0A=",
          "dtype": "f8"
         }
        },
        {
         "hoverinfo": "x+y+name",
         "legendgroup": "Clavileño, First of the Blessed",
         "line": {
          "color": "hsla(42, 70%, 50%, 1.0)",
          "width": 2
         },
         "mode": "lines",
         "name": "Clavileño, First of the Blessed",
         "type": "scatter",
         "x": {
          "bdata": "CAkKCwwN",
          "dtype": "i1"
         },
         "y": {
          "bdata": "amPXQ1JxNkBqY9dDUnE2QGpj10NScTZAamPXQ1JxNkBqY9dDUnE2QGpj10NScTZA",
          "dtype": "f8"
         }
        },
        {
         "fill": "toself",
         "fillcolor": "hsla(42, 70%, 50%, 0.1)",
         "hoverinfo": "skip",
         "legendgroup": "Clavileño, First of the Blessed",
         "line": {
          "color": "rgba(255,255,255,0)"
         },
         "showlegend": false,
         "type": "scatter",
         "x": {
          "bdata": "CAkKCwwNDQwLCgkI",
          "dtype": "i1"
         },
         "y": {
          "bdata": "DDBWuydqPEAMMFa7J2o8QAwwVrsnajxADDBWuydqPEAMMFa7J2o8QAwwVrsnajxAyJZYzHx4MEDIlljMfHgwQMiWWMx8eDBAyJZYzHx4MEDIlljMfHgwQMiWWMx8eDBA",
          "dtype": "f8"
         }
        },
        {
         "hoverinfo": "x+y+name",
         "legendgroup": "Dionus, Elvish Archdruid",
         "line": {
          "color": "hsla(56, 70%, 50%, 1.0)",
          "width": 2
         },
         "mode": "lines",
         "name": "Dionus, Elvish Archdruid",
         "type": "scatter",
         "x": {
          "bdata": "CQoLDA0=",
          "dtype": "i1"
         },
         "y": {
          "bdata": "R4Hv8PZiNUBHge/w9mI1QEeB7/D2YjVAR4Hv8PZiNUBHge/w9mI1QA==",
          "dtype": "f8"
         }
        },
        {
         "fill": "toself",
         "fillcolor": "hsla(56, 70%, 50%, 0.1)",
         "hoverinfo": "skip",
         "legendgroup": "Dionus, Elvish Archdruid",
         "line": {
          "color": "rgba(255,255,255,0)"
         },
         "showlegend": false,
         "type": "scatter",
         "x": {
          "bdata": "CQoLDA0NDAsKCQ==",
          "dtype": "i1"
         },
         "y": {
          "bdata": "5ooN1/EfO0Dmig3X8R87QOaKDdfxHztA5ooN1/EfO0Dmig3X8R87QFHvohX4Sy9AUe+iFfhLL0BR76IV+EsvQFHvohX4Sy9AUe+iFfhLL0A=",
          "dtype": "f8"
         }
        },
        {
         "hoverinfo": "x+y+name",
         "legendgroup": "Eshki, Temur's Roar",
         "line": {
          "color": "hsla(70, 70%, 50%, 1.0)",
          "width": 2
         },
         "mode": "lines",
         "name": "Eshki, Temur's Roar",
         "type": "scatter",
         "x": {
          "bdata": "CwwN",
          "dtype": "i1"
         },
         "y": {
          "bdata": "bq521SYNOUBurnbVJg05QG6udtUmDTlA",
          "dtype": "f8"
         }
        },
        {
         "fill": "toself",
         "fillcolor": "hsla(70, 70%, 50%, 0.1)",
         "hoverinfo": "skip",
         "legendgroup": "Eshki, Temur's Roar",
         "line": {
          "color": "rgba(255,255,255,0)"
         },
         "showlegend": false,
         "type": "scatter",
         "x": {
          "bdata": "CwwNDQwL",
          "dtype": "i1"
         },
         "y": {
          "bdata": "4sqZLKexPkDiypksp7E+QOLKmSynsT5A+pFTfqZoM0D6kVN+pmgzQPqRU36maDNA",
          "dtype": "f8"
         }
        },
        {
         "hoverinfo": "x+y+name",
         "legendgroup": "Frodo, Adventurous Hobbit // Sam, Loyal Attendant",
         "line": {
          "color": "hsla(84, 70%, 50%, 1.0)",
          "width": 2
         },
         "mode": "lines",
         "name": "Frodo, Adventurous Hobbit // Sam, Loyal Attendant",
         "type": "scatter",
         "x": {
          "bdata": "BQYHCAkKCwwN",
          "dtype": "i1"
         },
         "y": {
          "bdata": "qUGJurJyNkCpQYm6snI2QKlBibqycjZAqUGJurJyNkCpQYm6snI2QKlBibqycjZAqUGJurJyNkCpQYm6snI2QKlBibqycjZA",
          "dtype": "f8"
         }
        },
        {
         "fill": "toself",
         "fillcolor": "hsla(84, 70%, 50%, 0.1)",
         "hoverinfo": "skip",
         "legendgroup": "Frodo, Adventurous Hobbit // Sam, Loyal Attendant",
         "line": {
          "color": "rgba(255,255,255,0)"
         },
         "showlegend": false,
         "type": "scatter",
         "x": {
          "bdata": "BQYHCAkKCwwNDQwLCgkIBwYF",
          "dtype": "i1"
         },
         "y": {
          "bdata": "LKEQShNsPEAsoRBKE2w8QCyhEEoTbDxALKEQShNsPEAsoRBKE2w8QCyhEEoTbDxALKEQShNsPEAsoRBKE2w8QCyhEEoTbDxAJuIBK1J5MEAm4gErUnkwQCbiAStSeTBAJuIBK1J5MEAm4gErUnkwQCbiAStSeTBAJuIBK1J5MEAm4gErUnkwQCbiAStSeTBA",
          "dtype": "f8"
         }
        },
        {
         "hoverinfo": "x+y+name",
         "legendgroup": "Gandalf, Westward Voyager",
         "line": {
          "color": "hsla(98, 70%, 50%, 1.0)",
          "width": 2
         },
         "mode": "lines",
         "name": "Gandalf, Westward Voyager",
         "type": "scatter",
         "x": {
          "bdata": "CAkKCwwN",
          "dtype": "i1"
         },
         "y": {
          "bdata": "6VqfAfsbPkDpWp8B+xs+QOlanwH7Gz5A6VqfAfsbPkDpWp8B+xs+QOlanwH7Gz5A",
          "dtype": "f8"
         }
        },
        {
         "fill": "toself",
         "fillcolor": "hsla(98, 70%, 50%, 0.1)",
         "hoverinfo": "skip",
         "legendgroup": "Gandalf, Westward Voyager",
         "line": {
          "color": "rgba(255,255,255,0)"
         },
         "showlegend": false,
         "type": "scatter",
         "x": {
          "bdata": "CAkKCwwNDQwLCgkI",
          "dtype": "i1"
         },
         "y": {
          "bdata": "BZF2BBpsQkAFkXYEGmxCQAWRdgQabEJABZF2BBpsQkAFkXYEGmxCQAWRdgQabEJAx5NR+sFfN0DHk1H6wV83QMeTUfrBXzdAx5NR+sFfN0DHk1H6wV83QMeTUfrBXzdA",
          "dtype": "f8"
         }
        },
        {
         "hoverinfo": "x+y+name",
         "legendgroup": "Hazel of the Rootbloom",
         "line": {
          "color": "hsla(112, 70%, 50%, 1.0)",
          "width": 2
         },
         "mode": "lines",
         "name": "Hazel of the Rootbloom",
         "type": "scatter",
         "x": {
          "bdata": "BwgJCgsMDQ==",
          "dtype": "i1"
         },
         "y": {
          "bdata": "U3eZ03QKNUBTd5nTdAo1QFN3mdN0CjVAU3eZ03QKNUBTd5nTdAo1QFN3mdN0CjVAU3eZ03QKNUA=",
          "dtype": "f8"
         }
        },
        {
         "fill": "toself",
         "fillcolor": "hsla(112, 70%, 50%, 0.1)",
         "hoverinfo": "skip",
         "legendgroup": "Hazel of the Rootbloom",
         "line": {
          "color": "rgba(255,255,255,0)"
         },
         "showlegend": false,
         "type": "scatter",
         "x": {
          "bdata": "BwgJCgsMDQ0MCwoJCAc=",
          "dtype": "i1"
         },
         "y": {
          "bdata": "q2J6fiajOkCrYnp+JqM6QKtien4mozpAq2J6fiajOkCrYnp+JqM6QKtien4mozpAq2J6fiajOkD2F3FRhuMuQPYXcVGG4y5A9hdxUYbjLkD2F3FRhuMuQPYXcVGG4y5A9hdxUYbjLkD2F3FRhuMuQA==",
          "dtype": "f8"
         }
        },
        {
         "hoverinfo": "x+y+name",
         "legendgroup": "Kianne, Corrupted Memory",
         "line": {
          "color": "hsla(126, 70%, 50%, 1.0)",
          "width": 2
         },
         "mode": "lines",
         "name": "Kianne, Corrupted Memory",
         "type": "scatter",
         "x": {
          "bdata": "AwQFBgcICQoLDA0=",
          "dtype": "i1"
         },
         "y": {
          "bdata": "dWsYw4y8PkB1axjDjLw+QHVrGMOMvD5AdWsYw4y8PkB1axjDjLw+QHVrGMOMvD5AdWsYw4y8PkB1axjDjLw+QMZh1tn+ujpAxmHW2f66OkDGYdbZ/ro6QA==",
          "dtype": "f8"
         }
        },
        {
         "fill": "toself",
         "fillcolor": "hsla(126, 70%, 50%, 0.1)",
         "hoverinfo": "skip",
         "legendgroup": "Kianne, Corrupted Memory",
         "line": {
          "color": "rgba(255,255,255,0)"
         },
         "showlegend": false,
         "type": "scatter",
         "x": {
          "bdata": "AwQFBgcICQoLDA0NDAsKCQgHBgUEAw==",
          "dtype": "i1"
         },
         "y": {
          "bdata": "4qt6xzWZQkDiq3rHNZlCQOKresc1mUJA4qt6xzWZQkDiq3rHNZlCQOKresc1mUJA4qt6xzWZQkDiq3rHNZlCQPmrYPHQ2T9A+atg8dDZP0D5q2Dx0Nk/QJMXTMIsnDVAkxdMwiycNUCTF0zCLJw1QCZ/O/etRjhAJn87961GOEAmfzv3rUY4QCZ/O/etRjhAJn87961GOEAmfzv3rUY4QCZ/O/etRjhAJn87961GOEA=",
          "dtype": "f8"
         }
        },
        {
         "hoverinfo": "x+y+name",
         "legendgroup": "Krenko, Mob Boss",
         "line": {
          "color": "hsla(140, 70%, 50%, 1.0)",
          "width": 2
         },
         "mode": "lines",
         "name": "Krenko, Mob Boss",
         "type": "scatter",
         "x": {
          "bdata": "BgcICQoLDA0=",
          "dtype": "i1"
         },
         "y": {
          "bdata": "amPXQ1JxNkBqY9dDUnE2QGpj10NScTZANp+BjI8oOkA2n4GMjyg6QDafgYyPKDpANp+BjI8oOkA2n4GMjyg6QA==",
          "dtype": "f8"
         }
        },
        {
         "fill": "toself",
         "fillcolor": "hsla(140, 70%, 50%, 0.1)",
         "hoverinfo": "skip",
         "legendgroup": "Krenko, Mob Boss",
         "line": {
          "color": "rgba(255,255,255,0)"
         },
         "showlegend": false,
         "type": "scatter",
         "x": {
          "bdata": "BgcICQoLDA0NDAsKCQgHBg==",
          "dtype": "i1"
         },
         "y": {
          "bdata": "DDBWuydqPEAMMFa7J2o8QAwwVrsnajxAe1+ITMtLP0B7X4hMy0s/QHtfiEzLSz9Ae1+ITMtLP0B7X4hMy0s/QPHeesxTBTVA8d56zFMFNUDx3nrMUwU1QPHeesxTBTVA8d56zFMFNUDIlljMfHgwQMiWWMx8eDBAyJZYzHx4MEA=",
          "dtype": "f8"
         }
        },
        {
         "hoverinfo": "x+y+name",
         "legendgroup": "Lord Windgrace",
         "line": {
          "color": "hsla(154, 70%, 50%, 1.0)",
          "width": 2
         },
         "mode": "lines",
         "name": "Lord Windgrace",
         "type": "scatter",
         "x": {
          "bdata": "AQIDBAUGBwgJCgsMDQ==",
          "dtype": "i1"
         },
         "y": {
          "bdata": "6VqfAfsbPkDpWp8B+xs+QOlanwH7Gz5A6VqfAfsbPkDpWp8B+xs+QOlanwH7Gz5A6VqfAfsbPkDpWp8B+xs+QOlanwH7Gz5AmYCZiiYIQECZgJmKJghAQJmAmYomCEBAmYCZiiYIQEA=",
          "dtype": "f8"
         }
        },
        {
         "fill": "toself",
         "fillcolor": "hsla(154, 70%, 50%, 0.1)",
         "hoverinfo": "skip",
         "legendgroup": "Lord Windgrace",
         "line": {
          "color": "rgba(255,255,255,0)"
         },
         "showlegend": false,
         "type": "scatter",
         "x": {
          "bdata": "AQIDBAUGBwgJCgsMDQ0MCwoJCAcGBQQDAgE=",
          "dtype": "i1"
         },
         "y": {
          "bdata": "BZF2BBpsQkAFkXYEGmxCQAWRdgQabEJABZF2BBpsQkAFkXYEGmxCQAWRdgQabEJABZF2BBpsQkAFkXYEGmxCQAWRdgQabEJAK/i2Q8UAQ0Ar+LZDxQBDQCv4tkPFAENAK/i2Q8UAQ0AOEviiDx86QA4S+KIPHzpADhL4og8fOkAOEviiDx86QMeTUfrBXzdAx5NR+sFfN0DHk1H6wV83QMeTUfrBXzdAx5NR+sFfN0DHk1H6wV83QMeTUfrBXzdAx5NR+sFfN0DHk1H6wV83QA==",
          "dtype": "f8"
         }
        },
        {
         "hoverinfo": "x+y+name",
         "legendgroup": "Maha, Its Feathers Night",
         "line": {
          "color": "hsla(168, 70%, 50%, 1.0)",
          "width": 2
         },
         "mode": "lines",
         "name": "Maha, Its Feathers Night",
         "type": "scatter",
         "x": {
          "bdata": "CgsMDQ==",
          "dtype": "i1"
         },
         "y": {
          "bdata": "fs38jXoRNkB+zfyNehE2QH7N/I16ETZAfs38jXoRNkA=",
          "dtype": "f8"
         }
        },
        {
         "fill": "toself",
         "fillcolor": "hsla(168, 70%, 50%, 0.1)",
         "hoverinfo": "skip",
         "legendgroup": "Maha, Its Feathers Night",
         "line": {
          "color": "rgba(255,255,255,0)"
         },
         "showlegend": false,
         "type": "scatter",
         "x": {
          "bdata": "CgsMDQ0MCwo=",
          "dtype": "i1"
         },
         "y": {
          "bdata": "XMWcu7KlO0BcxZy7sqU7QFzFnLuypTtAXMWcu7KlO0Cg1VxgQn0wQKDVXGBCfTBAoNVcYEJ9MECg1VxgQn0wQA==",
          "dtype": "f8"
         }
        },
        {
         "hoverinfo": "x+y+name",
         "legendgroup": "Nekusar, the Mindrazer",
         "line": {
          "color": "hsla(182, 70%, 50%, 1.0)",
          "width": 2
         },
         "mode": "lines",
         "name": "Nekusar, the Mindrazer",
         "type": "scatter",
         "x": {
          "bdata": "AQIDBAUGBwgJCgsMDQ==",
          "dtype": "i1"
         },
         "y": {
          "bdata": "amPXQ1JxNkA2n4GMjyg6QPGia+5AeThA8aJr7kB5OEDxomvuQHk4QPGia+5AeThA8aJr7kB5OEDxomvuQHk4QPGia+5AeThA8aJr7kB5OEDxomvuQHk4QPGia+5AeThA8aJr7kB5OEA=",
          "dtype": "f8"
         }
        },
        {
         "fill": "toself",
         "fillcolor": "hsla(182, 70%, 50%, 0.1)",
         "hoverinfo": "skip",
         "legendgroup": "Nekusar, the Mindrazer",
         "line": {
          "color": "rgba(255,255,255,0)"
         },
         "showlegend": false,
         "type": "scatter",
         "x": {
          "bdata": "AQIDBAUGBwgJCgsMDQ0MCwoJCAcGBQQDAgE=",
          "dtype": "i1"
         },
         "y": {
          "bdata": "DDBWuydqPEB7X4hMy0s/QMw/JrTb3TxAzD8mtNvdPEDMPya02908QMw/JrTb3TxAzD8mtNvdPEDMPya02908QMw/JrTb3TxAzD8mtNvdPEDMPya02908QMw/JrTb3TxAzD8mtNvdPEAWBrEophQ0QBYGsSimFDRAFgaxKKYUNEAWBrEophQ0QBYGsSimFDRAFgaxKKYUNEAWBrEophQ0QBYGsSimFDRAFgaxKKYUNEAWBrEophQ0QBYGsSimFDRA8d56zFMFNUDIlljMfHgwQA==",
          "dtype": "f8"
         }
        },
        {
         "hoverinfo": "x+y+name",
         "legendgroup": "Ojer Axonil, Deepest Might",
         "line": {
          "color": "hsla(196, 70%, 50%, 1.0)",
          "width": 2
         },
         "mode": "lines",
         "name": "Ojer Axonil, Deepest Might",
         "type": "scatter",
         "x": {
          "bdata": "BgcICQoLDA0=",
          "dtype": "i1"
         },
         "y": {
          "bdata": "qUGJurJyNkCpQYm6snI2QKlBibqycjZAqUGJurJyNkCpQYm6snI2QKlBibqycjZAqUGJurJyNkArnu242qc6QA==",
          "dtype": "f8"
         }
        },
        {
         "fill": "toself",
         "fillcolor": "hsla(196, 70%, 50%, 0.1)",
         "hoverinfo": "skip",
         "legendgroup": "Ojer Axonil, Deepest Might",
         "line": {
          "color": "rgba(255,255,255,0)"
         },
         "showlegend": false,
         "type": "scatter",
         "x": {
          "bdata": "BgcICQoLDA0NDAsKCQgHBg==",
          "dtype": "i1"
         },
         "y": {
          "bdata": "LKEQShNsPEAsoRBKE2w8QCyhEEoTbDxALKEQShNsPEAsoRBKE2w8QCyhEEoTbDxALKEQShNsPEDB8gioNo8/QJVJ0sl+wDVAJuIBK1J5MEAm4gErUnkwQCbiAStSeTBAJuIBK1J5MEAm4gErUnkwQCbiAStSeTBAJuIBK1J5MEA=",
          "dtype": "f8"
         }
        },
        {
         "hoverinfo": "x+y+name",
         "legendgroup": "Omo, Queen of Vesuva",
         "line": {
          "color": "hsla(210, 70%, 50%, 1.0)",
          "width": 2
         },
         "mode": "lines",
         "name": "Omo, Queen of Vesuva",
         "type": "scatter",
         "x": {
          "bdata": "BQYHCAkKCwwN",
          "dtype": "i1"
         },
         "y": {
          "bdata": "6VqfAfsbPkDpWp8B+xs+QOlanwH7Gz5A6VqfAfsbPkDpWp8B+xs+QOlanwH7Gz5A6VqfAfsbPkDpWp8B+xs+QOlanwH7Gz5A",
          "dtype": "f8"
         }
        },
        {
         "fill": "toself",
         "fillcolor": "hsla(210, 70%, 50%, 0.1)",
         "hoverinfo": "skip",
         "legendgroup": "Omo, Queen of Vesuva",
         "line": {
          "color": "rgba(255,255,255,0)"
         },
         "showlegend": false,
         "type": "scatter",
         "x": {
          "bdata": "BQYHCAkKCwwNDQwLCgkIBwYF",
          "dtype": "i1"
         },
         "y": {
          "bdata": "BZF2BBpsQkAFkXYEGmxCQAWRdgQabEJABZF2BBpsQkAFkXYEGmxCQAWRdgQabEJABZF2BBpsQkAFkXYEGmxCQAWRdgQabEJAx5NR+sFfN0DHk1H6wV83QMeTUfrBXzdAx5NR+sFfN0DHk1H6wV83QMeTUfrBXzdAx5NR+sFfN0DHk1H6wV83QMeTUfrBXzdA",
          "dtype": "f8"
         }
        },
        {
         "hoverinfo": "x+y+name",
         "legendgroup": "Rakdos, Lord of Riots",
         "line": {
          "color": "hsla(224, 70%, 50%, 1.0)",
          "width": 2
         },
         "mode": "lines",
         "name": "Rakdos, Lord of Riots",
         "type": "scatter",
         "x": {
          "bdata": "BAUGBwgJCgsMDQ==",
          "dtype": "i1"
         },
         "y": {
          "bdata": "7LjoXJMTPkDsuOhckxM+QOy46FyTEz5A7LjoXJMTPkDsuOhckxM+QOy46FyTEz5A7LjoXJMTPkDsuOhckxM+QOy46FyTEz5ASgMRQ0JNOEA=",
          "dtype": "f8"
         }
        },
        {
         "fill": "toself",
         "fillcolor": "hsla(224, 70%, 50%, 0.1)",
         "hoverinfo": "skip",
         "legendgroup": "Rakdos, Lord of Riots",
         "line": {
          "color": "rgba(255,255,255,0)"
         },
         "showlegend": false,
         "type": "scatter",
         "x": {
          "bdata": "BAUGBwgJCgsMDQ0MCwoJCAcGBQQ=",
          "dtype": "i1"
         },
         "y": {
          "bdata": "vLBwBKxUQkC8sHAErFRCQLywcASsVEJAvLBwBKxUQkC8sHAErFRCQLywcASsVEJAvLBwBKxUQkC8sHAErFRCQLywcASsVEJAtdmltof/PEDfLHzP/JozQGAQ8LDOfTdAYBDwsM59N0BgEPCwzn03QGAQ8LDOfTdAYBDwsM59N0BgEPCwzn03QGAQ8LDOfTdAYBDwsM59N0BgEPCwzn03QA==",
          "dtype": "f8"
         }
        },
        {
         "hoverinfo": "x+y+name",
         "legendgroup": "Saruman, the White Hand",
         "line": {
          "color": "hsla(238, 70%, 50%, 1.0)",
          "width": 2
         },
         "mode": "lines",
         "name": "Saruman, the White Hand",
         "type": "scatter",
         "x": {
          "bdata": "CwwN",
          "dtype": "i1"
         },
         "y": {
          "bdata": "29Ol5xqdP0Db06XnGp0/QNvTpecanT9A",
          "dtype": "f8"
         }
        },
        {
         "fill": "toself",
         "fillcolor": "hsla(238, 70%, 50%, 0.1)",
         "hoverinfo": "skip",
         "legendgroup": "Saruman, the White Hand",
         "line": {
          "color": "rgba(255,255,255,0)"
         },
         "showlegend": false,
         "type": "scatter",
         "x": {
          "bdata": "CwwNDQwL",
          "dtype": "i1"
         },
         "y": {
          "bdata": "xlKMC7kFQ0DGUowLuQVDQMZSjAu5BUNAKgIzuMMuOUAqAjO4wy45QCoCM7jDLjlA",
          "dtype": "f8"
         }
        },
        {
         "hoverinfo": "x+y+name",
         "legendgroup": "Temmet, Naktamun's Will",
         "line": {
          "color": "hsla(252, 70%, 50%, 1.0)",
          "width": 2
         },
         "mode": "lines",
         "name": "Temmet, Naktamun's Will",
         "type": "scatter",
         "x": {
          "bdata": "CAkKCwwN",
          "dtype": "i1"
         },
         "y": {
          "bdata": "qUGJurJyNkCpQYm6snI2QKlBibqycjZAqUGJurJyNkCpQYm6snI2QKlBibqycjZA",
          "dtype": "f8"
         }
        },
        {
         "fill": "toself",
         "fillcolor": "hsla(252, 70%, 50%, 0.1)",
         "hoverinfo": "skip",
         "legendgroup": "Temmet, Naktamun's Will",
         "line": {
          "color": "rgba(255,255,255,0)"
         },
         "showlegend": false,
         "type": "scatter",
         "x": {
          "bdata": "CAkKCwwNDQwLCgkI",
          "dtype": "i1"
         },
         "y": {
          "bdata": "LKEQShNsPEAsoRBKE2w8QCyhEEoTbDxALKEQShNsPEAsoRBKE2w8QCyhEEoTbDxAJuIBK1J5MEAm4gErUnkwQCbiAStSeTBAJuIBK1J5MEAm4gErUnkwQCbiAStSeTBA",
          "dtype": "f8"
         }
        },
        {
         "hoverinfo": "x+y+name",
         "legendgroup": "The Jolly Balloon Man",
         "line": {
          "color": "hsla(266, 70%, 50%, 1.0)",
          "width": 2
         },
         "mode": "lines",
         "name": "The Jolly Balloon Man",
         "type": "scatter",
         "x": {
          "bdata": "AgMEBQYHCAkKCwwN",
          "dtype": "i1"
         },
         "y": {
          "bdata": "OdRYEQRhNUA51FgRBGE1QDnUWBEEYTVAOdRYEQRhNUA51FgRBGE1QDnUWBEEYTVAOdRYEQRhNUA51FgRBGE1QCWstq++WTVAJay2r75ZNUAlrLavvlk1QLdKNNhVszVA",
          "dtype": "f8"
         }
        },
        {
         "fill": "toself",
         "fillcolor": "hsla(266, 70%, 50%, 0.1)",
         "hoverinfo": "skip",
         "legendgroup": "The Jolly Balloon Man",
         "line": {
          "color": "rgba(255,255,255,0)"
         },
         "showlegend": false,
         "type": "scatter",
         "x": {
          "bdata": "AgMEBQYHCAkKCwwNDQwLCgkIBwYFBAMC",
          "dtype": "i1"
         },
         "y": {
          "bdata": "px5lqisdO0CnHmWqKx07QKceZaorHTtApx5lqisdO0CnHmWqKx07QKceZaorHTtApx5lqisdO0CnHmWqKx07QKjNMei2IjpAqM0x6LYiOkCozTHotiI6QLOlY4S2sjlAu+8ELPWzMUCiijt3xpAwQKKKO3fGkDBAooo7d8aQMECWE5nwuEkvQJYTmfC4SS9AlhOZ8LhJL0CWE5nwuEkvQJYTmfC4SS9AlhOZ8LhJL0CWE5nwuEkvQJYTmfC4SS9A",
          "dtype": "f8"
         }
        },
        {
         "hoverinfo": "x+y+name",
         "legendgroup": "Tom Bobadil",
         "line": {
          "color": "hsla(280, 70%, 50%, 1.0)",
          "width": 2
         },
         "mode": "lines",
         "name": "Tom Bobadil",
         "type": "scatter",
         "x": {
          "bdata": "BwgJCgsMDQ==",
          "dtype": "i1"
         },
         "y": {
          "bdata": "4LSAP1IINUDgtIA/Ugg1QOC0gD9SCDVA4LSAP1IINUDgtIA/Ugg1QOC0gD9SCDVA4LSAP1IINUA=",
          "dtype": "f8"
         }
        },
        {
         "fill": "toself",
         "fillcolor": "hsla(280, 70%, 50%, 0.1)",
         "hoverinfo": "skip",
         "legendgroup": "Tom Bobadil",
         "line": {
          "color": "rgba(255,255,255,0)"
         },
         "showlegend": false,
         "type": "scatter",
         "x": {
          "bdata": "BwgJCgsMDQ0MCwoJCAc=",
          "dtype": "i1"
         },
         "y": {
          "bdata": "RXtNmQOgOkBFe02ZA6A6QEV7TZkDoDpARXtNmQOgOkBFe02ZA6A6QEV7TZkDoDpARXtNmQOgOkD23GfLQeEuQPbcZ8tB4S5A9txny0HhLkD23GfLQeEuQPbcZ8tB4S5A9txny0HhLkD23GfLQeEuQA==",
          "dtype": "f8"
         }
        },
        {
         "hoverinfo": "x+y+name",
         "legendgroup": "Umbris, Fear Manifest",
         "line": {
          "color": "hsla(294, 70%, 50%, 1.0)",
          "width": 2
         },
         "mode": "lines",
         "name": "Umbris, Fear Manifest",
         "type": "scatter",
         "x": {
          "bdata": "AgMEBQYHCAkKCwwN",
          "dtype": "i1"
         },
         "y": {
          "bdata": "R4Hv8PZiNUBHge/w9mI1QEeB7/D2YjVAR4Hv8PZiNUBHge/w9mI1QEeB7/D2YjVAR4Hv8PZiNUBHge/w9mI1QEeB7/D2YjVAR4Hv8PZiNUBHge/w9mI1QEeB7/D2YjVA",
          "dtype": "f8"
         }
        },
        {
         "fill": "toself",
         "fillcolor": "hsla(294, 70%, 50%, 0.1)",
         "hoverinfo": "skip",
         "legendgroup": "Umbris, Fear Manifest",
         "line": {
          "color": "rgba(255,255,255,0)"
         },
         "showlegend": false,
         "type": "scatter",
         "x": {
          "bdata": "AgMEBQYHCAkKCwwNDQwLCgkIBwYFBAMC",
          "dtype": "i1"
         },
         "y": {
          "bdata": "5ooN1/EfO0Dmig3X8R87QOaKDdfxHztA5ooN1/EfO0Dmig3X8R87QOaKDdfxHztA5ooN1/EfO0Dmig3X8R87QOaKDdfxHztA5ooN1/EfO0Dmig3X8R87QOaKDdfxHztAUe+iFfhLL0BR76IV+EsvQFHvohX4Sy9AUe+iFfhLL0BR76IV+EsvQFHvohX4Sy9AUe+iFfhLL0BR76IV+EsvQFHvohX4Sy9AUe+iFfhLL0BR76IV+EsvQFHvohX4Sy9A",
          "dtype": "f8"
         }
        },
        {
         "hoverinfo": "x+y+name",
         "legendgroup": "Valgavoth, Harrower of Souls",
         "line": {
          "color": "hsla(308, 70%, 50%, 1.0)",
          "width": 2
         },
         "mode": "lines",
         "name": "Valgavoth, Harrower of Souls",
         "type": "scatter",
         "x": {
          "bdata": "BAUGBwgJCgsMDQ==",
          "dtype": "i1"
         },
         "y": {
          "bdata": "VWfNKiWKNkBVZ80qJYo2QFVnzSolijZAVWfNKiWKNkBVZ80qJYo2QFVnzSolijZAVWfNKiWKNkBVZ80qJYo2QJ5xChbj7DpAnnEKFuPsOkA=",
          "dtype": "f8"
         }
        },
        {
         "fill": "toself",
         "fillcolor": "hsla(308, 70%, 50%, 0.1)",
         "hoverinfo": "skip",
         "legendgroup": "Valgavoth, Harrower of Souls",
         "line": {
          "color": "rgba(255,255,255,0)"
         },
         "showlegend": false,
         "type": "scatter",
         "x": {
          "bdata": "BAUGBwgJCgsMDQ0MCwoJCAcGBQQ=",
          "dtype": "i1"
         },
         "y": {
          "bdata": "6Gr6ELMIPEDoavoQswg8QOhq+hCzCDxA6Gr6ELMIPEDoavoQswg8QOhq+hCzCDxA6Gr6ELMIPEDoavoQswg8QNyczTuecj9A3JzNO55yP0BgRkfwJ2c2QGBGR/AnZzZAwmOgRJcLMUDCY6BElwsxQMJjoESXCzFAwmOgRJcLMUDCY6BElwsxQMJjoESXCzFAwmOgRJcLMUDCY6BElwsxQA==",
          "dtype": "f8"
         }
        },
        {
         "hoverinfo": "x+y+name",
         "legendgroup": "Vnwxt, Verbose Host",
         "line": {
          "color": "hsla(322, 70%, 50%, 1.0)",
          "width": 2
         },
         "mode": "lines",
         "name": "Vnwxt, Verbose Host",
         "type": "scatter",
         "x": {
          "bdata": "AwQFBgcICQoLDA0=",
          "dtype": "i1"
         },
         "y": {
          "bdata": "VrCCqgKyN0AURmEZ4JU2QBRGYRnglTZAFEZhGeCVNkBWx7/ysfs4QFbHv/Kx+zhAVse/8rH7OEBWx7/ysfs4QFbHv/Kx+zhA2tjM75ZHOEDa2Mzvlkc4QA==",
          "dtype": "f8"
         }
        },
        {
         "fill": "toself",
         "fillcolor": "hsla(322, 70%, 50%, 0.1)",
         "hoverinfo": "skip",
         "legendgroup": "Vnwxt, Verbose Host",
         "line": {
          "color": "rgba(255,255,255,0)"
         },
         "showlegend": false,
         "type": "scatter",
         "x": {
          "bdata": "AwQFBgcICQoLDA0NDAsKCQgHBgUEAw==",
          "dtype": "i1"
         },
         "y": {
          "bdata": "qzjoWXcfPUB5OFflDSs7QHk4V+UNKztAeThX5Q0rO0CO7oUmcyE9QI7uhSZzIT1Aju6FJnMhPUCO7oUmcyE9QI7uhSZzIT1ADoDlvKPdO0AOgOW8o907QKYxtCKKsTRApjG0IoqxNEAeoPm+8NU0QB6g+b7w1TRAHqD5vvDVNEAeoPm+8NU0QB6g+b7w1TRAr1NrTbIAMkCvU2tNsgAyQK9Ta02yADJAASgd+41EMkA=",
          "dtype": "f8"
         }
        },
        {
         "hoverinfo": "x+y+name",
         "legendgroup": "Zedruu the Greathearted",
         "line": {
          "color": "hsla(336, 70%, 50%, 1.0)",
          "width": 2
         },
         "mode": "lines",
         "name": "Zedruu the Greathearted",
         "type": "scatter",
         "x": {
          "bdata": "CQoLDA0=",
          "dtype": "i1"
         },
         "y": {
          "bdata": "OdRYEQRhNUA51FgRBGE1QDnUWBEEYTVAOdRYEQRhNUA51FgRBGE1QA==",
          "dtype": "f8"
         }
        },
        {
         "fill": "toself",
         "fillcolor": "hsla(336, 70%, 50%, 0.1)",
         "hoverinfo": "skip",
         "legendgroup": "Zedruu the Greathearted",
         "line": {
          "color": "rgba(255,255,255,0)"
         },
         "showlegend": false,
         "type": "scatter",
         "x": {
          "bdata": "CQoLDA0NDAsKCQ==",
          "dtype": "i1"
         },
         "y": {
          "bdata": "px5lqisdO0CnHmWqKx07QKceZaorHTtApx5lqisdO0CnHmWqKx07QJYTmfC4SS9AlhOZ8LhJL0CWE5nwuEkvQJYTmfC4SS9AlhOZ8LhJL0A=",
          "dtype": "f8"
         }
        }
       ],
       "layout": {
        "hovermode": "x unified",
        "legend": {
         "title": {
          "text": "Commander"
         }
        },
        "template": {
         "data": {
          "bar": [
           {
            "error_x": {
             "color": "#2a3f5f"
            },
            "error_y": {
             "color": "#2a3f5f"
            },
            "marker": {
             "line": {
              "color": "white",
              "width": 0.5
             },
             "pattern": {
              "fillmode": "overlay",
              "size": 10,
              "solidity": 0.2
             }
            },
            "type": "bar"
           }
          ],
          "barpolar": [
           {
            "marker": {
             "line": {
              "color": "white",
              "width": 0.5
             },
             "pattern": {
              "fillmode": "overlay",
              "size": 10,
              "solidity": 0.2
             }
            },
            "type": "barpolar"
           }
          ],
          "carpet": [
           {
            "aaxis": {
             "endlinecolor": "#2a3f5f",
             "gridcolor": "#C8D4E3",
             "linecolor": "#C8D4E3",
             "minorgridcolor": "#C8D4E3",
             "startlinecolor": "#2a3f5f"
            },
            "baxis": {
             "endlinecolor": "#2a3f5f",
             "gridcolor": "#C8D4E3",
             "linecolor": "#C8D4E3",
             "minorgridcolor": "#C8D4E3",
             "startlinecolor": "#2a3f5f"
            },
            "type": "carpet"
           }
          ],
          "choropleth": [
           {
            "colorbar": {
             "outlinewidth": 0,
             "ticks": ""
            },
            "type": "choropleth"
           }
          ],
          "contour": [
           {
            "colorbar": {
             "outlinewidth": 0,
             "ticks": ""
            },
            "colorscale": [
             [
              0,
              "#0d0887"
             ],
             [
              0.1111111111111111,
              "#46039f"
             ],
             [
              0.2222222222222222,
              "#7201a8"
             ],
             [
              0.3333333333333333,
              "#9c179e"
             ],
             [
              0.4444444444444444,
              "#bd3786"
             ],
             [
              0.5555555555555556,
              "#d8576b"
             ],
             [
              0.6666666666666666,
              "#ed7953"
             ],
             [
              0.7777777777777778,
              "#fb9f3a"
             ],
             [
              0.8888888888888888,
              "#fdca26"
             ],
             [
              1,
              "#f0f921"
             ]
            ],
            "type": "contour"
           }
          ],
          "contourcarpet": [
           {
            "colorbar": {
             "outlinewidth": 0,
             "ticks": ""
            },
            "type": "contourcarpet"
           }
          ],
          "heatmap": [
           {
            "colorbar": {
             "outlinewidth": 0,
             "ticks": ""
            },
            "colorscale": [
             [
              0,
              "#0d0887"
             ],
             [
              0.1111111111111111,
              "#46039f"
             ],
             [
              0.2222222222222222,
              "#7201a8"
             ],
             [
              0.3333333333333333,
              "#9c179e"
             ],
             [
              0.4444444444444444,
              "#bd3786"
             ],
             [
              0.5555555555555556,
              "#d8576b"
             ],
             [
              0.6666666666666666,
              "#ed7953"
             ],
             [
              0.7777777777777778,
              "#fb9f3a"
             ],
             [
              0.8888888888888888,
              "#fdca26"
             ],
             [
              1,
              "#f0f921"
             ]
            ],
            "type": "heatmap"
           }
          ],
          "histogram": [
           {
            "marker": {
             "pattern": {
              "fillmode": "overlay",
              "size": 10,
              "solidity": 0.2
             }
            },
            "type": "histogram"
           }
          ],
          "histogram2d": [
           {
            "colorbar": {
             "outlinewidth": 0,
             "ticks": ""
            },
            "colorscale": [
             [
              0,
              "#0d0887"
             ],
             [
              0.1111111111111111,
              "#46039f"
             ],
             [
              0.2222222222222222,
              "#7201a8"
             ],
             [
              0.3333333333333333,
              "#9c179e"
             ],
             [
              0.4444444444444444,
              "#bd3786"
             ],
             [
              0.5555555555555556,
              "#d8576b"
             ],
             [
              0.6666666666666666,
              "#ed7953"
             ],
             [
              0.7777777777777778,
              "#fb9f3a"
             ],
             [
              0.8888888888888888,
              "#fdca26"
             ],
             [
              1,
              "#f0f921"
             ]
            ],
            "type": "histogram2d"
           }
          ],
          "histogram2dcontour": [
           {
            "colorbar": {
             "outlinewidth": 0,
             "ticks": ""
            },
            "colorscale": [
             [
              0,
              "#0d0887"
             ],
             [
              0.1111111111111111,
              "#46039f"
             ],
             [
              0.2222222222222222,
              "#7201a8"
             ],
             [
              0.3333333333333333,
              "#9c179e"
             ],
             [
              0.4444444444444444,
              "#bd3786"
             ],
             [
              0.5555555555555556,
              "#d8576b"
             ],
             [
              0.6666666666666666,
              "#ed7953"
             ],
             [
              0.7777777777777778,
              "#fb9f3a"
             ],
             [
              0.8888888888888888,
              "#fdca26"
             ],
             [
              1,
              "#f0f921"
             ]
            ],
            "type": "histogram2dcontour"
           }
          ],
          "mesh3d": [
           {
            "colorbar": {
             "outlinewidth": 0,
             "ticks": ""
            },
            "type": "mesh3d"
           }
          ],
          "parcoords": [
           {
            "line": {
             "colorbar": {
              "outlinewidth": 0,
              "ticks": ""
             }
            },
            "type": "parcoords"
           }
          ],
          "pie": [
           {
            "automargin": true,
            "type": "pie"
           }
          ],
          "scatter": [
           {
            "fillpattern": {
             "fillmode": "overlay",
             "size": 10,
             "solidity": 0.2
            },
            "type": "scatter"
           }
          ],
          "scatter3d": [
           {
            "line": {
             "colorbar": {
              "outlinewidth": 0,
              "ticks": ""
             }
            },
            "marker": {
             "colorbar": {
              "outlinewidth": 0,
              "ticks": ""
             }
            },
            "type": "scatter3d"
           }
          ],
          "scattercarpet": [
           {
            "marker": {
             "colorbar": {
              "outlinewidth": 0,
              "ticks": ""
             }
            },
            "type": "scattercarpet"
           }
          ],
          "scattergeo": [
           {
            "marker": {
             "colorbar": {
              "outlinewidth": 0,
              "ticks": ""
             }
            },
            "type": "scattergeo"
           }
          ],
          "scattergl": [
           {
            "marker": {
             "colorbar": {
              "outlinewidth": 0,
              "ticks": ""
             }
            },
            "type": "scattergl"
           }
          ],
          "scattermap": [
           {
            "marker": {
             "colorbar": {
              "outlinewidth": 0,
              "ticks": ""
             }
            },
            "type": "scattermap"
           }
          ],
          "scattermapbox": [
           {
            "marker": {
             "colorbar": {
              "outlinewidth": 0,
              "ticks": ""
             }
            },
            "type": "scattermapbox"
           }
          ],
          "scatterpolar": [
           {
            "marker": {
             "colorbar": {
              "outlinewidth": 0,
              "ticks": ""
             }
            },
            "type": "scatterpolar"
           }
          ],
          "scatterpolargl": [
           {
            "marker": {
             "colorbar": {
              "outlinewidth": 0,
              "ticks": ""
             }
            },
            "type": "scatterpolargl"
           }
          ],
          "scatterternary": [
           {
            "marker": {
             "colorbar": {
              "outlinewidth": 0,
              "ticks": ""
             }
            },
            "type": "scatterternary"
           }
          ],
          "surface": [
           {
            "colorbar": {
             "outlinewidth": 0,
             "ticks": ""
            },
            "colorscale": [
             [
              0,
              "#0d0887"
             ],
             [
              0.1111111111111111,
              "#46039f"
             ],
             [
              0.2222222222222222,
              "#7201a8"
             ],
             [
              0.3333333333333333,
              "#9c179e"
             ],
             [
              0.4444444444444444,
              "#bd3786"
             ],
             [
              0.5555555555555556,
              "#d8576b"
             ],
             [
              0.6666666666666666,
              "#ed7953"
             ],
             [
              0.7777777777777778,
              "#fb9f3a"
             ],
             [
              0.8888888888888888,
              "#fdca26"
             ],
             [
              1,
              "#f0f921"
             ]
            ],
            "type": "surface"
           }
          ],
          "table": [
           {
            "cells": {
             "fill": {
              "color": "#EBF0F8"
             },
             "line": {
              "color": "white"
             }
            },
            "header": {
             "fill": {
              "color": "#C8D4E3"
             },
             "line": {
              "color": "white"
             }
            },
            "type": "table"
           }
          ]
         },
         "layout": {
          "annotationdefaults": {
           "arrowcolor": "#2a3f5f",
           "arrowhead": 0,
           "arrowwidth": 1
          },
          "autotypenumbers": "strict",
          "coloraxis": {
           "colorbar": {
            "outlinewidth": 0,
            "ticks": ""
           }
          },
          "colorscale": {
           "diverging": [
            [
             0,
             "#8e0152"
            ],
            [
             0.1,
             "#c51b7d"
            ],
            [
             0.2,
             "#de77ae"
            ],
            [
             0.3,
             "#f1b6da"
            ],
            [
             0.4,
             "#fde0ef"
            ],
            [
             0.5,
             "#f7f7f7"
            ],
            [
             0.6,
             "#e6f5d0"
            ],
            [
             0.7,
             "#b8e186"
            ],
            [
             0.8,
             "#7fbc41"
            ],
            [
             0.9,
             "#4d9221"
            ],
            [
             1,
             "#276419"
            ]
           ],
           "sequential": [
            [
             0,
             "#0d0887"
            ],
            [
             0.1111111111111111,
             "#46039f"
            ],
            [
             0.2222222222222222,
             "#7201a8"
            ],
            [
             0.3333333333333333,
             "#9c179e"
            ],
            [
             0.4444444444444444,
             "#bd3786"
            ],
            [
             0.5555555555555556,
             "#d8576b"
            ],
            [
             0.6666666666666666,
             "#ed7953"
            ],
            [
             0.7777777777777778,
             "#fb9f3a"
            ],
            [
             0.8888888888888888,
             "#fdca26"
            ],
            [
             1,
             "#f0f921"
            ]
           ],
           "sequentialminus": [
            [
             0,
             "#0d0887"
            ],
            [
             0.1111111111111111,
             "#46039f"
            ],
            [
             0.2222222222222222,
             "#7201a8"
            ],
            [
             0.3333333333333333,
             "#9c179e"
            ],
            [
             0.4444444444444444,
             "#bd3786"
            ],
            [
             0.5555555555555556,
             "#d8576b"
            ],
            [
             0.6666666666666666,
             "#ed7953"
            ],
            [
             0.7777777777777778,
             "#fb9f3a"
            ],
            [
             0.8888888888888888,
             "#fdca26"
            ],
            [
             1,
             "#f0f921"
            ]
           ]
          },
          "colorway": [
           "#636efa",
           "#EF553B",
           "#00cc96",
           "#ab63fa",
           "#FFA15A",
           "#19d3f3",
           "#FF6692",
           "#B6E880",
           "#FF97FF",
           "#FECB52"
          ],
          "font": {
           "color": "#2a3f5f"
          },
          "geo": {
           "bgcolor": "white",
           "lakecolor": "white",
           "landcolor": "white",
           "showlakes": true,
           "showland": true,
           "subunitcolor": "#C8D4E3"
          },
          "hoverlabel": {
           "align": "left"
          },
          "hovermode": "closest",
          "mapbox": {
           "style": "light"
          },
          "paper_bgcolor": "white",
          "plot_bgcolor": "white",
          "polar": {
           "angularaxis": {
            "gridcolor": "#EBF0F8",
            "linecolor": "#EBF0F8",
            "ticks": ""
           },
           "bgcolor": "white",
           "radialaxis": {
            "gridcolor": "#EBF0F8",
            "linecolor": "#EBF0F8",
            "ticks": ""
           }
          },
          "scene": {
           "xaxis": {
            "backgroundcolor": "white",
            "gridcolor": "#DFE8F3",
            "gridwidth": 2,
            "linecolor": "#EBF0F8",
            "showbackground": true,
            "ticks": "",
            "zerolinecolor": "#EBF0F8"
           },
           "yaxis": {
            "backgroundcolor": "white",
            "gridcolor": "#DFE8F3",
            "gridwidth": 2,
            "linecolor": "#EBF0F8",
            "showbackground": true,
            "ticks": "",
            "zerolinecolor": "#EBF0F8"
           },
           "zaxis": {
            "backgroundcolor": "white",
            "gridcolor": "#DFE8F3",
            "gridwidth": 2,
            "linecolor": "#EBF0F8",
            "showbackground": true,
            "ticks": "",
            "zerolinecolor": "#EBF0F8"
           }
          },
          "shapedefaults": {
           "line": {
            "color": "#2a3f5f"
           }
          },
          "ternary": {
           "aaxis": {
            "gridcolor": "#DFE8F3",
            "linecolor": "#A2B1C6",
            "ticks": ""
           },
           "baxis": {
            "gridcolor": "#DFE8F3",
            "linecolor": "#A2B1C6",
            "ticks": ""
           },
           "bgcolor": "white",
           "caxis": {
            "gridcolor": "#DFE8F3",
            "linecolor": "#A2B1C6",
            "ticks": ""
           }
          },
          "title": {
           "x": 0.05
          },
          "xaxis": {
           "automargin": true,
           "gridcolor": "#EBF0F8",
           "linecolor": "#EBF0F8",
           "ticks": "",
           "title": {
            "standoff": 15
           },
           "zerolinecolor": "#EBF0F8",
           "zerolinewidth": 2
          },
          "yaxis": {
           "automargin": true,
           "gridcolor": "#EBF0F8",
           "linecolor": "#EBF0F8",
           "ticks": "",
           "title": {
            "standoff": 15
           },
           "zerolinecolor": "#EBF0F8",
           "zerolinewidth": 2
          }
         }
        },
        "title": {
         "text": "Commander TrueSkill Ratings with Confidence Bands"
        },
        "xaxis": {
         "title": {
          "text": "Match"
         }
        },
        "yaxis": {
         "title": {
          "text": "TrueSkill Rating"
         }
        }
       }
      }
     },
     "metadata": {},
     "output_type": "display_data"
    }
   ],
   "source": [
    "commanders_vis['Match'] = commanders_vis['Match'].astype(int)\n",
    "commanders_vis = commanders_vis.sort_values(['Commander', 'Match'])\n",
    "\n",
    "fig = go.Figure()\n",
    "\n",
    "commanders = commanders_vis['Commander'].unique()\n",
    "base_colors = generate_color_palette(len(commanders), alpha=1.0)\n",
    "band_colors = generate_color_palette(len(commanders), alpha=0.1)\n",
    "\n",
    "# Get distinct colors for each commander using Plotly's qualitative color palette\n",
    "color_map_line = dict(zip(commanders, base_colors))\n",
    "color_map_band = dict(zip(commanders, band_colors))\n",
    "\n",
    "for commander in commanders:\n",
    "    data = commanders_vis[commanders_vis['Commander'] == commander].copy()\n",
    "    data = data.sort_values('Match')\n",
    "\n",
    "    color_line = color_map_line[commander]\n",
    "    color_band = color_map_band[commander]\n",
    "    # color_rgba = color.replace('rgb', 'rgba').replace(')', ', 0.15)')  # Transparent fill\n",
    "\n",
    "    upper = data['TrueSkill Rating'] + data['TrueSkill StDev']\n",
    "    lower = data['TrueSkill Rating'] - data['TrueSkill StDev']\n",
    "\n",
    "    # Line trace\n",
    "    fig.add_trace(go.Scatter(\n",
    "        x=data['Match'], y=data['TrueSkill Rating'],\n",
    "        mode='lines',\n",
    "        name=commander,\n",
    "        legendgroup=commander,\n",
    "        line=dict(width=2, color=color_line),\n",
    "        hoverinfo='x+y+name'\n",
    "    ))\n",
    "\n",
    "    # Confidence band\n",
    "    fig.add_trace(go.Scatter(\n",
    "        x=pd.concat([data['Match'], data['Match'][::-1]]),\n",
    "        y=pd.concat([upper, lower[::-1]]),\n",
    "        fill='toself',\n",
    "        fillcolor=color_band,\n",
    "        line=dict(color='rgba(255,255,255,0)'),\n",
    "        hoverinfo='skip',\n",
    "        showlegend=False,\n",
    "        legendgroup=commander\n",
    "    ))\n",
    "\n",
    "fig.update_layout(\n",
    "    title='Commander TrueSkill Ratings with Confidence Bands',\n",
    "    xaxis_title='Match',\n",
    "    yaxis_title='TrueSkill Rating',\n",
    "    template='plotly_white',\n",
    "    legend_title='Commander',\n",
    "    hovermode='x unified'\n",
    ")\n",
    "\n",
    "fig.show()"
   ]
  },
  {
   "cell_type": "code",
   "execution_count": 67,
   "id": "b617af2b",
   "metadata": {},
   "outputs": [
    {
     "data": {
      "application/vnd.plotly.v1+json": {
       "config": {
        "plotlyServerURL": "https://plot.ly"
       },
       "data": [
        {
         "hoverinfo": "x+y+name",
         "legendgroup": "Aminatou, Veil Piercer",
         "line": {
          "color": "hsla(0, 70%, 50%, 1.0)",
          "width": 2
         },
         "mode": "lines",
         "name": "Aminatou, Veil Piercer",
         "type": "scatter",
         "x": {
          "bdata": "BQYHCAkKCwwN",
          "dtype": "i1"
         },
         "y": {
          "bdata": "GPZrdUcbEkAY9mt1RxsSQBj2a3VHGxJAGPZrdUcbEkAY9mt1RxsSQBj2a3VHGxJAGPZrdUcbEkAY9mt1RxsSQBj2a3VHGxJA",
          "dtype": "f8"
         }
        },
        {
         "hoverinfo": "x+y+name",
         "legendgroup": "Atraxa, Praetors' Voice",
         "line": {
          "color": "hsla(14, 70%, 50%, 1.0)",
          "width": 2
         },
         "mode": "lines",
         "name": "Atraxa, Praetors' Voice",
         "type": "scatter",
         "x": {
          "bdata": "AQIDBAUGBwgJCgsMDQ==",
          "dtype": "i1"
         },
         "y": {
          "bdata": "fIzML0QaEkB8jMwvRBoSQHyMzC9EGhJAfIzML0QaEkB8jMwvRBoSQHyMzC9EGhJAfIzML0QaEkB8jMwvRBoSQHyMzC9EGhJAfIzML0QaEkB8jMwvRBoSQHyMzC9EGhJAfIzML0QaEkA=",
          "dtype": "f8"
         }
        },
        {
         "hoverinfo": "x+y+name",
         "legendgroup": "Bria, Riptide Rogue",
         "line": {
          "color": "hsla(28, 70%, 50%, 1.0)",
          "width": 2
         },
         "mode": "lines",
         "name": "Bria, Riptide Rogue",
         "type": "scatter",
         "x": {
          "bdata": "BgcICQoLDA0=",
          "dtype": "i1"
         },
         "y": {
          "bdata": "CAts15/OI0AIC2zXn84jQAgLbNefziNACAts15/OI0AIC2zXn84jQAgLbNefziNAMkCM/kz0JkAyQIz+TPQmQA==",
          "dtype": "f8"
         }
        },
        {
         "hoverinfo": "x+y+name",
         "legendgroup": "Clavileño, First of the Blessed",
         "line": {
          "color": "hsla(42, 70%, 50%, 1.0)",
          "width": 2
         },
         "mode": "lines",
         "name": "Clavileño, First of the Blessed",
         "type": "scatter",
         "x": {
          "bdata": "CAkKCwwN",
          "dtype": "i1"
         },
         "y": {
          "bdata": "GPZrdUcbEkAY9mt1RxsSQBj2a3VHGxJAGPZrdUcbEkAY9mt1RxsSQBj2a3VHGxJA",
          "dtype": "f8"
         }
        },
        {
         "hoverinfo": "x+y+name",
         "legendgroup": "Dionus, Elvish Archdruid",
         "line": {
          "color": "hsla(56, 70%, 50%, 1.0)",
          "width": 2
         },
         "mode": "lines",
         "name": "Dionus, Elvish Archdruid",
         "type": "scatter",
         "x": {
          "bdata": "CQoLDA0=",
          "dtype": "i1"
         },
         "y": {
          "bdata": "rJFV+hiwEECskVX6GLAQQKyRVfoYsBBArJFV+hiwEECskVX6GLAQQA==",
          "dtype": "f8"
         }
        },
        {
         "hoverinfo": "x+y+name",
         "legendgroup": "Eshki, Temur's Roar",
         "line": {
          "color": "hsla(70, 70%, 50%, 1.0)",
          "width": 2
         },
         "mode": "lines",
         "name": "Eshki, Temur's Roar",
         "type": "scatter",
         "x": {
          "bdata": "CwwN",
          "dtype": "i1"
         },
         "y": {
          "bdata": "JrIaoEs/IEAmshqgSz8gQCayGqBLPyBA",
          "dtype": "f8"
         }
        },
        {
         "hoverinfo": "x+y+name",
         "legendgroup": "Frodo, Adventurous Hobbit // Sam, Loyal Attendant",
         "line": {
          "color": "hsla(84, 70%, 50%, 1.0)",
          "width": 2
         },
         "mode": "lines",
         "name": "Frodo, Adventurous Hobbit // Sam, Loyal Attendant",
         "type": "scatter",
         "x": {
          "bdata": "BQYHCAkKCwwN",
          "dtype": "i1"
         },
         "y": {
          "bdata": "fIzML0QaEkB8jMwvRBoSQHyMzC9EGhJAfIzML0QaEkB8jMwvRBoSQHyMzC9EGhJAfIzML0QaEkB8jMwvRBoSQHyMzC9EGhJA",
          "dtype": "f8"
         }
        },
        {
         "hoverinfo": "x+y+name",
         "legendgroup": "Gandalf, Westward Voyager",
         "line": {
          "color": "hsla(98, 70%, 50%, 1.0)",
          "width": 2
         },
         "mode": "lines",
         "name": "Gandalf, Westward Voyager",
         "type": "scatter",
         "x": {
          "bdata": "CAkKCwwN",
          "dtype": "i1"
         },
         "y": {
          "bdata": "CAts15/OI0AIC2zXn84jQAgLbNefziNACAts15/OI0AIC2zXn84jQAgLbNefziNA",
          "dtype": "f8"
         }
        },
        {
         "hoverinfo": "x+y+name",
         "legendgroup": "Hazel of the Rootbloom",
         "line": {
          "color": "hsla(112, 70%, 50%, 1.0)",
          "width": 2
         },
         "mode": "lines",
         "name": "Hazel of the Rootbloom",
         "type": "scatter",
         "x": {
          "bdata": "BwgJCgsMDQ==",
          "dtype": "i1"
         },
         "y": {
          "bdata": "KNXaS38BEUAo1dpLfwERQCjV2kt/ARFAKNXaS38BEUAo1dpLfwERQCjV2kt/ARFAKNXaS38BEUA=",
          "dtype": "f8"
         }
        },
        {
         "hoverinfo": "x+y+name",
         "legendgroup": "Kianne, Corrupted Memory",
         "line": {
          "color": "hsla(126, 70%, 50%, 1.0)",
          "width": 2
         },
         "mode": "lines",
         "name": "Kianne, Corrupted Memory",
         "type": "scatter",
         "x": {
          "bdata": "AwQFBgcICQoLDA0=",
          "dtype": "i1"
         },
         "y": {
          "bdata": "Ek0Dv+C1JkASTQO/4LUmQBJNA7/gtSZAEk0Dv+C1JkASTQO/4LUmQBJNA7/gtSZAEk0Dv+C1JkASTQO/4LUmQFgGbyYRvSZAWAZvJhG9JkBYBm8mEb0mQA==",
          "dtype": "f8"
         }
        },
        {
         "hoverinfo": "x+y+name",
         "legendgroup": "Krenko, Mob Boss",
         "line": {
          "color": "hsla(140, 70%, 50%, 1.0)",
          "width": 2
         },
         "mode": "lines",
         "name": "Krenko, Mob Boss",
         "type": "scatter",
         "x": {
          "bdata": "BgcICQoLDA0=",
          "dtype": "i1"
         },
         "y": {
          "bdata": "GPZrdUcbEkAY9mt1RxsSQBj2a3VHGxJA0LzamLh9JUDQvNqYuH0lQNC82pi4fSVA0LzamLh9JUDQvNqYuH0lQA==",
          "dtype": "f8"
         }
        },
        {
         "hoverinfo": "x+y+name",
         "legendgroup": "Lord Windgrace",
         "line": {
          "color": "hsla(154, 70%, 50%, 1.0)",
          "width": 2
         },
         "mode": "lines",
         "name": "Lord Windgrace",
         "type": "scatter",
         "x": {
          "bdata": "AQIDBAUGBwgJCgsMDQ==",
          "dtype": "i1"
         },
         "y": {
          "bdata": "CAts15/OI0AIC2zXn84jQAgLbNefziNACAts15/OI0AIC2zXn84jQAgLbNefziNACAts15/OI0AIC2zXn84jQAgLbNefziNAkGcEfSl5LECQZwR9KXksQJBnBH0peSxAkGcEfSl5LEA=",
          "dtype": "f8"
         }
        },
        {
         "hoverinfo": "x+y+name",
         "legendgroup": "Maha, Its Feathers Night",
         "line": {
          "color": "hsla(168, 70%, 50%, 1.0)",
          "width": 2
         },
         "mode": "lines",
         "name": "Maha, Its Feathers Night",
         "type": "scatter",
         "x": {
          "bdata": "CgsMDQ==",
          "dtype": "i1"
         },
         "y": {
          "bdata": "lJdzFEhTFUCUl3MUSFMVQJSXcxRIUxVAlJdzFEhTFUA=",
          "dtype": "f8"
         }
        },
        {
         "hoverinfo": "x+y+name",
         "legendgroup": "Nekusar, the Mindrazer",
         "line": {
          "color": "hsla(182, 70%, 50%, 1.0)",
          "width": 2
         },
         "mode": "lines",
         "name": "Nekusar, the Mindrazer",
         "type": "scatter",
         "x": {
          "bdata": "AQIDBAUGBwgJCgsMDQ==",
          "dtype": "i1"
         },
         "y": {
          "bdata": "GPZrdUcbEkDQvNqYuH0lQMKYdzrhliZAwph3OuGWJkDCmHc64ZYmQMKYdzrhliZAwph3OuGWJkDCmHc64ZYmQMKYdzrhliZAwph3OuGWJkDCmHc64ZYmQMKYdzrhliZAwph3OuGWJkA=",
          "dtype": "f8"
         }
        },
        {
         "hoverinfo": "x+y+name",
         "legendgroup": "Ojer Axonil, Deepest Might",
         "line": {
          "color": "hsla(196, 70%, 50%, 1.0)",
          "width": 2
         },
         "mode": "lines",
         "name": "Ojer Axonil, Deepest Might",
         "type": "scatter",
         "x": {
          "bdata": "BgcICQoLDA0=",
          "dtype": "i1"
         },
         "y": {
          "bdata": "fIzML0QaEkB8jMwvRBoSQHyMzC9EGhJAfIzML0QaEkB8jMwvRBoSQHyMzC9EGhJAfIzML0QaEkDSQDfXjeMnQA==",
          "dtype": "f8"
         }
        },
        {
         "hoverinfo": "x+y+name",
         "legendgroup": "Omo, Queen of Vesuva",
         "line": {
          "color": "hsla(210, 70%, 50%, 1.0)",
          "width": 2
         },
         "mode": "lines",
         "name": "Omo, Queen of Vesuva",
         "type": "scatter",
         "x": {
          "bdata": "BQYHCAkKCwwN",
          "dtype": "i1"
         },
         "y": {
          "bdata": "CAts15/OI0AIC2zXn84jQAgLbNefziNACAts15/OI0AIC2zXn84jQAgLbNefziNACAts15/OI0AIC2zXn84jQAgLbNefziNA",
          "dtype": "f8"
         }
        },
        {
         "hoverinfo": "x+y+name",
         "legendgroup": "Rakdos, Lord of Riots",
         "line": {
          "color": "hsla(224, 70%, 50%, 1.0)",
          "width": 2
         },
         "mode": "lines",
         "name": "Rakdos, Lord of Riots",
         "type": "scatter",
         "x": {
          "bdata": "BAUGBwgJCgsMDQ==",
          "dtype": "i1"
         },
         "y": {
          "bdata": "kn79sYqkJECSfv2xiqQkQJJ+/bGKpCRAkn79sYqkJECSfv2xiqQkQJJ+/bGKpCRAkn79sYqkJECSfv2xiqQkQJJ+/bGKpCRAEgCl0ONsJEA=",
          "dtype": "f8"
         }
        },
        {
         "hoverinfo": "x+y+name",
         "legendgroup": "Saruman, the White Hand",
         "line": {
          "color": "hsla(238, 70%, 50%, 1.0)",
          "width": 2
         },
         "mode": "lines",
         "name": "Saruman, the White Hand",
         "type": "scatter",
         "x": {
          "bdata": "CwwN",
          "dtype": "i1"
         },
         "y": {
          "bdata": "jr2asiqkKECOvZqyKqQoQI69mrIqpChA",
          "dtype": "f8"
         }
        },
        {
         "hoverinfo": "x+y+name",
         "legendgroup": "Temmet, Naktamun's Will",
         "line": {
          "color": "hsla(252, 70%, 50%, 1.0)",
          "width": 2
         },
         "mode": "lines",
         "name": "Temmet, Naktamun's Will",
         "type": "scatter",
         "x": {
          "bdata": "CAkKCwwN",
          "dtype": "i1"
         },
         "y": {
          "bdata": "fIzML0QaEkB8jMwvRBoSQHyMzC9EGhJAfIzML0QaEkB8jMwvRBoSQHyMzC9EGhJA",
          "dtype": "f8"
         }
        },
        {
         "hoverinfo": "x+y+name",
         "legendgroup": "The Jolly Balloon Man",
         "line": {
          "color": "hsla(266, 70%, 50%, 1.0)",
          "width": 2
         },
         "mode": "lines",
         "name": "The Jolly Balloon Man",
         "type": "scatter",
         "x": {
          "bdata": "AgMEBQYHCAkKCwwN",
          "dtype": "i1"
         },
         "y": {
          "bdata": "uNPPGDWyEEC4088YNbIQQLjTzxg1shBAuNPPGDWyEEC4088YNbIQQLjTzxg1shBAuNPPGDWyEEC4088YNbIQQHAeFRlY+xtAcB4VGVj7G0BwHhUZWPsbQIhzTKdnaiNA",
          "dtype": "f8"
         }
        },
        {
         "hoverinfo": "x+y+name",
         "legendgroup": "Tom Bobadil",
         "line": {
          "color": "hsla(280, 70%, 50%, 1.0)",
          "width": 2
         },
         "mode": "lines",
         "name": "Tom Bobadil",
         "type": "scatter",
         "x": {
          "bdata": "BwgJCgsMDQ==",
          "dtype": "i1"
         },
         "y": {
          "bdata": "wIZpyPgEEUDAhmnI+AQRQMCGacj4BBFAwIZpyPgEEUDAhmnI+AQRQMCGacj4BBFAwIZpyPgEEUA=",
          "dtype": "f8"
         }
        },
        {
         "hoverinfo": "x+y+name",
         "legendgroup": "Umbris, Fear Manifest",
         "line": {
          "color": "hsla(294, 70%, 50%, 1.0)",
          "width": 2
         },
         "mode": "lines",
         "name": "Umbris, Fear Manifest",
         "type": "scatter",
         "x": {
          "bdata": "AgMEBQYHCAkKCwwN",
          "dtype": "i1"
         },
         "y": {
          "bdata": "rJFV+hiwEECskVX6GLAQQKyRVfoYsBBArJFV+hiwEECskVX6GLAQQKyRVfoYsBBArJFV+hiwEECskVX6GLAQQKyRVfoYsBBArJFV+hiwEECskVX6GLAQQKyRVfoYsBBA",
          "dtype": "f8"
         }
        },
        {
         "hoverinfo": "x+y+name",
         "legendgroup": "Valgavoth, Harrower of Souls",
         "line": {
          "color": "hsla(308, 70%, 50%, 1.0)",
          "width": 2
         },
         "mode": "lines",
         "name": "Valgavoth, Harrower of Souls",
         "type": "scatter",
         "x": {
          "bdata": "BAUGBwgJCgsMDQ==",
          "dtype": "i1"
         },
         "y": {
          "bdata": "dHIZ4e05GEB0chnh7TkYQHRyGeHtORhAdHIZ4e05GEB0chnh7TkYQHRyGeHtORhAdHIZ4e05GEB0chnh7TkYQMvfgUljtypAy9+BSWO3KkA=",
          "dtype": "f8"
         }
        },
        {
         "hoverinfo": "x+y+name",
         "legendgroup": "Vnwxt, Verbose Host",
         "line": {
          "color": "hsla(322, 70%, 50%, 1.0)",
          "width": 2
         },
         "mode": "lines",
         "name": "Vnwxt, Verbose Host",
         "type": "scatter",
         "x": {
          "bdata": "AwQFBgcICQoLDA0=",
          "dtype": "i1"
         },
         "y": {
          "bdata": "XF1IcZKmHUDI3f5qrawhQMjd/mqtrCFAyN3+aq2sIUBeo9qu3BQpQF6j2q7cFClAXqPartwUKUBeo9qu3BQpQF6j2q7cFClAfsYFEeEKK0B+xgUR4QorQA==",
          "dtype": "f8"
         }
        },
        {
         "hoverinfo": "x+y+name",
         "legendgroup": "Zedruu the Greathearted",
         "line": {
          "color": "hsla(336, 70%, 50%, 1.0)",
          "width": 2
         },
         "mode": "lines",
         "name": "Zedruu the Greathearted",
         "type": "scatter",
         "x": {
          "bdata": "CQoLDA0=",
          "dtype": "i1"
         },
         "y": {
          "bdata": "uNPPGDWyEEC4088YNbIQQLjTzxg1shBAuNPPGDWyEEC4088YNbIQQA==",
          "dtype": "f8"
         }
        }
       ],
       "layout": {
        "hovermode": "x unified",
        "legend": {
         "title": {
          "text": "Commander"
         }
        },
        "template": {
         "data": {
          "bar": [
           {
            "error_x": {
             "color": "#2a3f5f"
            },
            "error_y": {
             "color": "#2a3f5f"
            },
            "marker": {
             "line": {
              "color": "white",
              "width": 0.5
             },
             "pattern": {
              "fillmode": "overlay",
              "size": 10,
              "solidity": 0.2
             }
            },
            "type": "bar"
           }
          ],
          "barpolar": [
           {
            "marker": {
             "line": {
              "color": "white",
              "width": 0.5
             },
             "pattern": {
              "fillmode": "overlay",
              "size": 10,
              "solidity": 0.2
             }
            },
            "type": "barpolar"
           }
          ],
          "carpet": [
           {
            "aaxis": {
             "endlinecolor": "#2a3f5f",
             "gridcolor": "#C8D4E3",
             "linecolor": "#C8D4E3",
             "minorgridcolor": "#C8D4E3",
             "startlinecolor": "#2a3f5f"
            },
            "baxis": {
             "endlinecolor": "#2a3f5f",
             "gridcolor": "#C8D4E3",
             "linecolor": "#C8D4E3",
             "minorgridcolor": "#C8D4E3",
             "startlinecolor": "#2a3f5f"
            },
            "type": "carpet"
           }
          ],
          "choropleth": [
           {
            "colorbar": {
             "outlinewidth": 0,
             "ticks": ""
            },
            "type": "choropleth"
           }
          ],
          "contour": [
           {
            "colorbar": {
             "outlinewidth": 0,
             "ticks": ""
            },
            "colorscale": [
             [
              0,
              "#0d0887"
             ],
             [
              0.1111111111111111,
              "#46039f"
             ],
             [
              0.2222222222222222,
              "#7201a8"
             ],
             [
              0.3333333333333333,
              "#9c179e"
             ],
             [
              0.4444444444444444,
              "#bd3786"
             ],
             [
              0.5555555555555556,
              "#d8576b"
             ],
             [
              0.6666666666666666,
              "#ed7953"
             ],
             [
              0.7777777777777778,
              "#fb9f3a"
             ],
             [
              0.8888888888888888,
              "#fdca26"
             ],
             [
              1,
              "#f0f921"
             ]
            ],
            "type": "contour"
           }
          ],
          "contourcarpet": [
           {
            "colorbar": {
             "outlinewidth": 0,
             "ticks": ""
            },
            "type": "contourcarpet"
           }
          ],
          "heatmap": [
           {
            "colorbar": {
             "outlinewidth": 0,
             "ticks": ""
            },
            "colorscale": [
             [
              0,
              "#0d0887"
             ],
             [
              0.1111111111111111,
              "#46039f"
             ],
             [
              0.2222222222222222,
              "#7201a8"
             ],
             [
              0.3333333333333333,
              "#9c179e"
             ],
             [
              0.4444444444444444,
              "#bd3786"
             ],
             [
              0.5555555555555556,
              "#d8576b"
             ],
             [
              0.6666666666666666,
              "#ed7953"
             ],
             [
              0.7777777777777778,
              "#fb9f3a"
             ],
             [
              0.8888888888888888,
              "#fdca26"
             ],
             [
              1,
              "#f0f921"
             ]
            ],
            "type": "heatmap"
           }
          ],
          "histogram": [
           {
            "marker": {
             "pattern": {
              "fillmode": "overlay",
              "size": 10,
              "solidity": 0.2
             }
            },
            "type": "histogram"
           }
          ],
          "histogram2d": [
           {
            "colorbar": {
             "outlinewidth": 0,
             "ticks": ""
            },
            "colorscale": [
             [
              0,
              "#0d0887"
             ],
             [
              0.1111111111111111,
              "#46039f"
             ],
             [
              0.2222222222222222,
              "#7201a8"
             ],
             [
              0.3333333333333333,
              "#9c179e"
             ],
             [
              0.4444444444444444,
              "#bd3786"
             ],
             [
              0.5555555555555556,
              "#d8576b"
             ],
             [
              0.6666666666666666,
              "#ed7953"
             ],
             [
              0.7777777777777778,
              "#fb9f3a"
             ],
             [
              0.8888888888888888,
              "#fdca26"
             ],
             [
              1,
              "#f0f921"
             ]
            ],
            "type": "histogram2d"
           }
          ],
          "histogram2dcontour": [
           {
            "colorbar": {
             "outlinewidth": 0,
             "ticks": ""
            },
            "colorscale": [
             [
              0,
              "#0d0887"
             ],
             [
              0.1111111111111111,
              "#46039f"
             ],
             [
              0.2222222222222222,
              "#7201a8"
             ],
             [
              0.3333333333333333,
              "#9c179e"
             ],
             [
              0.4444444444444444,
              "#bd3786"
             ],
             [
              0.5555555555555556,
              "#d8576b"
             ],
             [
              0.6666666666666666,
              "#ed7953"
             ],
             [
              0.7777777777777778,
              "#fb9f3a"
             ],
             [
              0.8888888888888888,
              "#fdca26"
             ],
             [
              1,
              "#f0f921"
             ]
            ],
            "type": "histogram2dcontour"
           }
          ],
          "mesh3d": [
           {
            "colorbar": {
             "outlinewidth": 0,
             "ticks": ""
            },
            "type": "mesh3d"
           }
          ],
          "parcoords": [
           {
            "line": {
             "colorbar": {
              "outlinewidth": 0,
              "ticks": ""
             }
            },
            "type": "parcoords"
           }
          ],
          "pie": [
           {
            "automargin": true,
            "type": "pie"
           }
          ],
          "scatter": [
           {
            "fillpattern": {
             "fillmode": "overlay",
             "size": 10,
             "solidity": 0.2
            },
            "type": "scatter"
           }
          ],
          "scatter3d": [
           {
            "line": {
             "colorbar": {
              "outlinewidth": 0,
              "ticks": ""
             }
            },
            "marker": {
             "colorbar": {
              "outlinewidth": 0,
              "ticks": ""
             }
            },
            "type": "scatter3d"
           }
          ],
          "scattercarpet": [
           {
            "marker": {
             "colorbar": {
              "outlinewidth": 0,
              "ticks": ""
             }
            },
            "type": "scattercarpet"
           }
          ],
          "scattergeo": [
           {
            "marker": {
             "colorbar": {
              "outlinewidth": 0,
              "ticks": ""
             }
            },
            "type": "scattergeo"
           }
          ],
          "scattergl": [
           {
            "marker": {
             "colorbar": {
              "outlinewidth": 0,
              "ticks": ""
             }
            },
            "type": "scattergl"
           }
          ],
          "scattermap": [
           {
            "marker": {
             "colorbar": {
              "outlinewidth": 0,
              "ticks": ""
             }
            },
            "type": "scattermap"
           }
          ],
          "scattermapbox": [
           {
            "marker": {
             "colorbar": {
              "outlinewidth": 0,
              "ticks": ""
             }
            },
            "type": "scattermapbox"
           }
          ],
          "scatterpolar": [
           {
            "marker": {
             "colorbar": {
              "outlinewidth": 0,
              "ticks": ""
             }
            },
            "type": "scatterpolar"
           }
          ],
          "scatterpolargl": [
           {
            "marker": {
             "colorbar": {
              "outlinewidth": 0,
              "ticks": ""
             }
            },
            "type": "scatterpolargl"
           }
          ],
          "scatterternary": [
           {
            "marker": {
             "colorbar": {
              "outlinewidth": 0,
              "ticks": ""
             }
            },
            "type": "scatterternary"
           }
          ],
          "surface": [
           {
            "colorbar": {
             "outlinewidth": 0,
             "ticks": ""
            },
            "colorscale": [
             [
              0,
              "#0d0887"
             ],
             [
              0.1111111111111111,
              "#46039f"
             ],
             [
              0.2222222222222222,
              "#7201a8"
             ],
             [
              0.3333333333333333,
              "#9c179e"
             ],
             [
              0.4444444444444444,
              "#bd3786"
             ],
             [
              0.5555555555555556,
              "#d8576b"
             ],
             [
              0.6666666666666666,
              "#ed7953"
             ],
             [
              0.7777777777777778,
              "#fb9f3a"
             ],
             [
              0.8888888888888888,
              "#fdca26"
             ],
             [
              1,
              "#f0f921"
             ]
            ],
            "type": "surface"
           }
          ],
          "table": [
           {
            "cells": {
             "fill": {
              "color": "#EBF0F8"
             },
             "line": {
              "color": "white"
             }
            },
            "header": {
             "fill": {
              "color": "#C8D4E3"
             },
             "line": {
              "color": "white"
             }
            },
            "type": "table"
           }
          ]
         },
         "layout": {
          "annotationdefaults": {
           "arrowcolor": "#2a3f5f",
           "arrowhead": 0,
           "arrowwidth": 1
          },
          "autotypenumbers": "strict",
          "coloraxis": {
           "colorbar": {
            "outlinewidth": 0,
            "ticks": ""
           }
          },
          "colorscale": {
           "diverging": [
            [
             0,
             "#8e0152"
            ],
            [
             0.1,
             "#c51b7d"
            ],
            [
             0.2,
             "#de77ae"
            ],
            [
             0.3,
             "#f1b6da"
            ],
            [
             0.4,
             "#fde0ef"
            ],
            [
             0.5,
             "#f7f7f7"
            ],
            [
             0.6,
             "#e6f5d0"
            ],
            [
             0.7,
             "#b8e186"
            ],
            [
             0.8,
             "#7fbc41"
            ],
            [
             0.9,
             "#4d9221"
            ],
            [
             1,
             "#276419"
            ]
           ],
           "sequential": [
            [
             0,
             "#0d0887"
            ],
            [
             0.1111111111111111,
             "#46039f"
            ],
            [
             0.2222222222222222,
             "#7201a8"
            ],
            [
             0.3333333333333333,
             "#9c179e"
            ],
            [
             0.4444444444444444,
             "#bd3786"
            ],
            [
             0.5555555555555556,
             "#d8576b"
            ],
            [
             0.6666666666666666,
             "#ed7953"
            ],
            [
             0.7777777777777778,
             "#fb9f3a"
            ],
            [
             0.8888888888888888,
             "#fdca26"
            ],
            [
             1,
             "#f0f921"
            ]
           ],
           "sequentialminus": [
            [
             0,
             "#0d0887"
            ],
            [
             0.1111111111111111,
             "#46039f"
            ],
            [
             0.2222222222222222,
             "#7201a8"
            ],
            [
             0.3333333333333333,
             "#9c179e"
            ],
            [
             0.4444444444444444,
             "#bd3786"
            ],
            [
             0.5555555555555556,
             "#d8576b"
            ],
            [
             0.6666666666666666,
             "#ed7953"
            ],
            [
             0.7777777777777778,
             "#fb9f3a"
            ],
            [
             0.8888888888888888,
             "#fdca26"
            ],
            [
             1,
             "#f0f921"
            ]
           ]
          },
          "colorway": [
           "#636efa",
           "#EF553B",
           "#00cc96",
           "#ab63fa",
           "#FFA15A",
           "#19d3f3",
           "#FF6692",
           "#B6E880",
           "#FF97FF",
           "#FECB52"
          ],
          "font": {
           "color": "#2a3f5f"
          },
          "geo": {
           "bgcolor": "white",
           "lakecolor": "white",
           "landcolor": "white",
           "showlakes": true,
           "showland": true,
           "subunitcolor": "#C8D4E3"
          },
          "hoverlabel": {
           "align": "left"
          },
          "hovermode": "closest",
          "mapbox": {
           "style": "light"
          },
          "paper_bgcolor": "white",
          "plot_bgcolor": "white",
          "polar": {
           "angularaxis": {
            "gridcolor": "#EBF0F8",
            "linecolor": "#EBF0F8",
            "ticks": ""
           },
           "bgcolor": "white",
           "radialaxis": {
            "gridcolor": "#EBF0F8",
            "linecolor": "#EBF0F8",
            "ticks": ""
           }
          },
          "scene": {
           "xaxis": {
            "backgroundcolor": "white",
            "gridcolor": "#DFE8F3",
            "gridwidth": 2,
            "linecolor": "#EBF0F8",
            "showbackground": true,
            "ticks": "",
            "zerolinecolor": "#EBF0F8"
           },
           "yaxis": {
            "backgroundcolor": "white",
            "gridcolor": "#DFE8F3",
            "gridwidth": 2,
            "linecolor": "#EBF0F8",
            "showbackground": true,
            "ticks": "",
            "zerolinecolor": "#EBF0F8"
           },
           "zaxis": {
            "backgroundcolor": "white",
            "gridcolor": "#DFE8F3",
            "gridwidth": 2,
            "linecolor": "#EBF0F8",
            "showbackground": true,
            "ticks": "",
            "zerolinecolor": "#EBF0F8"
           }
          },
          "shapedefaults": {
           "line": {
            "color": "#2a3f5f"
           }
          },
          "ternary": {
           "aaxis": {
            "gridcolor": "#DFE8F3",
            "linecolor": "#A2B1C6",
            "ticks": ""
           },
           "baxis": {
            "gridcolor": "#DFE8F3",
            "linecolor": "#A2B1C6",
            "ticks": ""
           },
           "bgcolor": "white",
           "caxis": {
            "gridcolor": "#DFE8F3",
            "linecolor": "#A2B1C6",
            "ticks": ""
           }
          },
          "title": {
           "x": 0.05
          },
          "xaxis": {
           "automargin": true,
           "gridcolor": "#EBF0F8",
           "linecolor": "#EBF0F8",
           "ticks": "",
           "title": {
            "standoff": 15
           },
           "zerolinecolor": "#EBF0F8",
           "zerolinewidth": 2
          },
          "yaxis": {
           "automargin": true,
           "gridcolor": "#EBF0F8",
           "linecolor": "#EBF0F8",
           "ticks": "",
           "title": {
            "standoff": 15
           },
           "zerolinecolor": "#EBF0F8",
           "zerolinewidth": 2
          }
         }
        },
        "title": {
         "text": "Commander estimated Ratings "
        },
        "xaxis": {
         "title": {
          "text": "Match"
         }
        },
        "yaxis": {
         "title": {
          "text": "TrueSkill Rating"
         }
        }
       }
      }
     },
     "metadata": {},
     "output_type": "display_data"
    }
   ],
   "source": [
    "k = 3\n",
    "\n",
    "commanders_vis[\"estimated skill\"] = commanders_vis[\"TrueSkill Rating\"] - 3 * commanders_vis[\"TrueSkill StDev\"]\n",
    "\n",
    "fig = go.Figure()\n",
    "\n",
    "base_colors = generate_color_palette(len(commanders), alpha=1.0)\n",
    "\n",
    "# Get distinct colors for each commander using Plotly's qualitative color palette\n",
    "color_map_line = dict(zip(commanders, base_colors))\n",
    "\n",
    "for commander in commanders:\n",
    "    data = commanders_vis[commanders_vis['Commander'] == commander].copy()\n",
    "    data = data.sort_values('Match')\n",
    "\n",
    "    color_line = color_map_line[commander]\n",
    "\n",
    "    # Line trace\n",
    "    fig.add_trace(go.Scatter(\n",
    "        x=data['Match'], y=data['estimated skill'],\n",
    "        mode='lines',\n",
    "        name=commander,\n",
    "        legendgroup=commander,\n",
    "        line=dict(width=2, color=color_line),\n",
    "        hoverinfo='x+y+name'\n",
    "    ))\n",
    "\n",
    "fig.update_layout(\n",
    "    title='Commander estimated Ratings ',\n",
    "    xaxis_title='Match',\n",
    "    yaxis_title='TrueSkill Rating',\n",
    "    template='plotly_white',\n",
    "    legend_title='Commander',\n",
    "    hovermode='x unified'\n",
    ")\n",
    "\n",
    "fig.show()"
   ]
  },
  {
   "cell_type": "code",
   "execution_count": null,
   "id": "35544e2b",
   "metadata": {},
   "outputs": [],
   "source": []
  }
 ],
 "metadata": {
  "kernelspec": {
   "display_name": "venv",
   "language": "python",
   "name": "python3"
  },
  "language_info": {
   "codemirror_mode": {
    "name": "ipython",
    "version": 3
   },
   "file_extension": ".py",
   "mimetype": "text/x-python",
   "name": "python",
   "nbconvert_exporter": "python",
   "pygments_lexer": "ipython3",
   "version": "3.13.0"
  }
 },
 "nbformat": 4,
 "nbformat_minor": 5
}
